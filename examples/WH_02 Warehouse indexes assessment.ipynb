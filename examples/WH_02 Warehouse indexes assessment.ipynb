{
 "cells": [
  {
   "cell_type": "markdown",
   "metadata": {},
   "source": [
    "# Warehouse Indexes assessment\n",
    "*This notebook illustrates how to assess the product portfolio of a storage system by analysing the indexes.  \n",
    "*Use the virtual environment logproj.yml to run this notebook.*\n",
    "***\n",
    "Alessandro Tufano 2020"
   ]
  },
  {
   "cell_type": "markdown",
   "metadata": {},
   "source": [
    "### Import packages"
   ]
  },
  {
   "cell_type": "code",
   "execution_count": 1,
   "metadata": {},
   "outputs": [],
   "source": [
    "# %% append functions path\n",
    "import sys; sys.path.insert(0, '..') #add the above level with the package\n",
    "\n",
    "import pandas as pd\n",
    "import numpy as np\n",
    "\n",
    "from IPython.display import display, HTML #display dataframe\n",
    "\n",
    "#import utilities\n",
    "from logproj.utilities import creaCartella"
   ]
  },
  {
   "cell_type": "markdown",
   "metadata": {},
   "source": [
    "### Set data fields"
   ]
  },
  {
   "cell_type": "code",
   "execution_count": 2,
   "metadata": {},
   "outputs": [],
   "source": [
    "string_casestudy = 'TOY_DATA'"
   ]
  },
  {
   "cell_type": "markdown",
   "metadata": {},
   "source": [
    "### Import data"
   ]
  },
  {
   "cell_type": "code",
   "execution_count": 3,
   "metadata": {},
   "outputs": [],
   "source": [
    "# %% import data\n",
    "from logproj.data_generator_warehouse import generateWarehouseData\n",
    "D_locations, D_SKUs, D_movements, D_inventory = generateWarehouseData()\n"
   ]
  },
  {
   "cell_type": "code",
   "execution_count": 4,
   "metadata": {},
   "outputs": [
    {
     "data": {
      "text/html": [
       "<table border=\"1\" class=\"dataframe\">\n",
       "  <thead>\n",
       "    <tr style=\"text-align: right;\">\n",
       "      <th></th>\n",
       "      <th>NODECODE</th>\n",
       "      <th>IDWH</th>\n",
       "      <th>WHSUBAREA</th>\n",
       "      <th>IDLOCATION</th>\n",
       "      <th>LOCCODEX</th>\n",
       "      <th>LOCCODEY</th>\n",
       "      <th>LOCCODEZ</th>\n",
       "      <th>RACK</th>\n",
       "      <th>BAY</th>\n",
       "      <th>LEVEL</th>\n",
       "    </tr>\n",
       "  </thead>\n",
       "  <tbody>\n",
       "    <tr>\n",
       "      <th>0</th>\n",
       "      <td>1</td>\n",
       "      <td>LOGICAL_WH1</td>\n",
       "      <td>AREA 1</td>\n",
       "      <td>1</td>\n",
       "      <td>0</td>\n",
       "      <td>0</td>\n",
       "      <td>0</td>\n",
       "      <td>0</td>\n",
       "      <td>0</td>\n",
       "      <td>0</td>\n",
       "    </tr>\n",
       "    <tr>\n",
       "      <th>0</th>\n",
       "      <td>1</td>\n",
       "      <td>LOGICAL_WH1</td>\n",
       "      <td>AREA 1</td>\n",
       "      <td>2</td>\n",
       "      <td>0</td>\n",
       "      <td>0</td>\n",
       "      <td>1200</td>\n",
       "      <td>0</td>\n",
       "      <td>0</td>\n",
       "      <td>1</td>\n",
       "    </tr>\n",
       "    <tr>\n",
       "      <th>0</th>\n",
       "      <td>1</td>\n",
       "      <td>FAKE</td>\n",
       "      <td>AREA 1</td>\n",
       "      <td>3</td>\n",
       "      <td>0</td>\n",
       "      <td>0</td>\n",
       "      <td>2400</td>\n",
       "      <td>0</td>\n",
       "      <td>0</td>\n",
       "      <td>2</td>\n",
       "    </tr>\n",
       "    <tr>\n",
       "      <th>0</th>\n",
       "      <td>1</td>\n",
       "      <td>LOGICAL_WH2</td>\n",
       "      <td>AREA 1</td>\n",
       "      <td>4</td>\n",
       "      <td>0</td>\n",
       "      <td>0</td>\n",
       "      <td>3600</td>\n",
       "      <td>0</td>\n",
       "      <td>0</td>\n",
       "      <td>3</td>\n",
       "    </tr>\n",
       "    <tr>\n",
       "      <th>0</th>\n",
       "      <td>1</td>\n",
       "      <td>LOGICAL_WH1</td>\n",
       "      <td>AREA 1</td>\n",
       "      <td>5</td>\n",
       "      <td>0</td>\n",
       "      <td>0</td>\n",
       "      <td>4800</td>\n",
       "      <td>0</td>\n",
       "      <td>0</td>\n",
       "      <td>4</td>\n",
       "    </tr>\n",
       "  </tbody>\n",
       "</table>"
      ],
      "text/plain": [
       "<IPython.core.display.HTML object>"
      ]
     },
     "metadata": {},
     "output_type": "display_data"
    }
   ],
   "source": [
    "#print locations dataframe\n",
    "display(HTML(D_locations.head().to_html()))"
   ]
  },
  {
   "cell_type": "code",
   "execution_count": 5,
   "metadata": {},
   "outputs": [
    {
     "data": {
      "text/html": [
       "<table border=\"1\" class=\"dataframe\">\n",
       "  <thead>\n",
       "    <tr style=\"text-align: right;\">\n",
       "      <th></th>\n",
       "      <th>ITEMCODE</th>\n",
       "      <th>DESCRIPTION</th>\n",
       "      <th>VOLUME</th>\n",
       "      <th>WEIGHT</th>\n",
       "    </tr>\n",
       "  </thead>\n",
       "  <tbody>\n",
       "    <tr>\n",
       "      <th>0</th>\n",
       "      <td>0</td>\n",
       "      <td>PRODOTTO_0</td>\n",
       "      <td>24.367446</td>\n",
       "      <td>0.576003</td>\n",
       "    </tr>\n",
       "    <tr>\n",
       "      <th>0</th>\n",
       "      <td>1</td>\n",
       "      <td>PRODOTTO_1</td>\n",
       "      <td>63.494860</td>\n",
       "      <td>1.049971</td>\n",
       "    </tr>\n",
       "    <tr>\n",
       "      <th>0</th>\n",
       "      <td>2</td>\n",
       "      <td>PRODOTTO_2</td>\n",
       "      <td>90.820018</td>\n",
       "      <td>7.172273</td>\n",
       "    </tr>\n",
       "    <tr>\n",
       "      <th>0</th>\n",
       "      <td>3</td>\n",
       "      <td>PRODOTTO_3</td>\n",
       "      <td>37.484090</td>\n",
       "      <td>5.702211</td>\n",
       "    </tr>\n",
       "    <tr>\n",
       "      <th>0</th>\n",
       "      <td>4</td>\n",
       "      <td>PRODOTTO_4</td>\n",
       "      <td>75.685363</td>\n",
       "      <td>4.134295</td>\n",
       "    </tr>\n",
       "  </tbody>\n",
       "</table>"
      ],
      "text/plain": [
       "<IPython.core.display.HTML object>"
      ]
     },
     "metadata": {},
     "output_type": "display_data"
    }
   ],
   "source": [
    "#print SKUs master file dataframe\n",
    "display(HTML(D_SKUs.head().to_html()))"
   ]
  },
  {
   "cell_type": "code",
   "execution_count": 6,
   "metadata": {},
   "outputs": [
    {
     "data": {
      "text/html": [
       "<table border=\"1\" class=\"dataframe\">\n",
       "  <thead>\n",
       "    <tr style=\"text-align: right;\">\n",
       "      <th></th>\n",
       "      <th>ITEMCODE</th>\n",
       "      <th>NODECODE</th>\n",
       "      <th>IDWH</th>\n",
       "      <th>WHSUBAREA</th>\n",
       "      <th>IDLOCATION</th>\n",
       "      <th>RACK</th>\n",
       "      <th>BAY</th>\n",
       "      <th>LEVEL</th>\n",
       "      <th>LOCCODEX</th>\n",
       "      <th>LOCCODEY</th>\n",
       "      <th>LOCCODEZ</th>\n",
       "      <th>ORDERCODE</th>\n",
       "      <th>PICKINGLIST</th>\n",
       "      <th>QUANTITY</th>\n",
       "      <th>VOLUME</th>\n",
       "      <th>WEIGHT</th>\n",
       "      <th>TIMESTAMP_IN</th>\n",
       "      <th>INOUT</th>\n",
       "      <th>ORDERTYPE</th>\n",
       "    </tr>\n",
       "  </thead>\n",
       "  <tbody>\n",
       "    <tr>\n",
       "      <th>0</th>\n",
       "      <td>63</td>\n",
       "      <td>1</td>\n",
       "      <td>LOGICAL_WH2</td>\n",
       "      <td>AREA 1</td>\n",
       "      <td>1083</td>\n",
       "      <td>3</td>\n",
       "      <td>18</td>\n",
       "      <td>2</td>\n",
       "      <td>12000</td>\n",
       "      <td>14400</td>\n",
       "      <td>2400</td>\n",
       "      <td>729</td>\n",
       "      <td>729</td>\n",
       "      <td>6.758693</td>\n",
       "      <td>462.638797</td>\n",
       "      <td>8.423850</td>\n",
       "      <td>2020-01-02 00:37:13.700665</td>\n",
       "      <td>+</td>\n",
       "      <td>OTHER</td>\n",
       "    </tr>\n",
       "    <tr>\n",
       "      <th>0</th>\n",
       "      <td>36</td>\n",
       "      <td>1</td>\n",
       "      <td>LOGICAL_WH1</td>\n",
       "      <td>AREA 1</td>\n",
       "      <td>405</td>\n",
       "      <td>1</td>\n",
       "      <td>14</td>\n",
       "      <td>4</td>\n",
       "      <td>4000</td>\n",
       "      <td>11200</td>\n",
       "      <td>4800</td>\n",
       "      <td>660</td>\n",
       "      <td>660</td>\n",
       "      <td>3.151011</td>\n",
       "      <td>9.454363</td>\n",
       "      <td>18.885602</td>\n",
       "      <td>2020-01-02 00:49:29.098459</td>\n",
       "      <td></td>\n",
       "      <td>PUTAWAY</td>\n",
       "    </tr>\n",
       "    <tr>\n",
       "      <th>0</th>\n",
       "      <td>1</td>\n",
       "      <td>1</td>\n",
       "      <td>LOGICAL_WH1</td>\n",
       "      <td>AREA 1</td>\n",
       "      <td>1187</td>\n",
       "      <td>3</td>\n",
       "      <td>39</td>\n",
       "      <td>1</td>\n",
       "      <td>12000</td>\n",
       "      <td>31200</td>\n",
       "      <td>1200</td>\n",
       "      <td>773</td>\n",
       "      <td>773</td>\n",
       "      <td>9.174027</td>\n",
       "      <td>582.503555</td>\n",
       "      <td>9.632458</td>\n",
       "      <td>2020-01-02 00:54:41.247654</td>\n",
       "      <td>+</td>\n",
       "      <td>OTHER</td>\n",
       "    </tr>\n",
       "    <tr>\n",
       "      <th>0</th>\n",
       "      <td>80</td>\n",
       "      <td>1</td>\n",
       "      <td>LOGICAL_WH2</td>\n",
       "      <td>AREA 1</td>\n",
       "      <td>1474</td>\n",
       "      <td>4</td>\n",
       "      <td>30</td>\n",
       "      <td>3</td>\n",
       "      <td>16000</td>\n",
       "      <td>24000</td>\n",
       "      <td>3600</td>\n",
       "      <td>522</td>\n",
       "      <td>522</td>\n",
       "      <td>13.992060</td>\n",
       "      <td>1050.386932</td>\n",
       "      <td>7.857216</td>\n",
       "      <td>2020-01-02 01:19:45.696007</td>\n",
       "      <td>-</td>\n",
       "      <td>PUTAWAY</td>\n",
       "    </tr>\n",
       "    <tr>\n",
       "      <th>0</th>\n",
       "      <td>96</td>\n",
       "      <td>1</td>\n",
       "      <td>LOGICAL_WH2</td>\n",
       "      <td>AREA 1</td>\n",
       "      <td>997</td>\n",
       "      <td>3</td>\n",
       "      <td>1</td>\n",
       "      <td>1</td>\n",
       "      <td>12000</td>\n",
       "      <td>800</td>\n",
       "      <td>1200</td>\n",
       "      <td>144</td>\n",
       "      <td>144</td>\n",
       "      <td>5.559780</td>\n",
       "      <td>336.675574</td>\n",
       "      <td>46.918441</td>\n",
       "      <td>2020-01-02 01:48:29.997419</td>\n",
       "      <td></td>\n",
       "      <td>PUTAWAY</td>\n",
       "    </tr>\n",
       "  </tbody>\n",
       "</table>"
      ],
      "text/plain": [
       "<IPython.core.display.HTML object>"
      ]
     },
     "metadata": {},
     "output_type": "display_data"
    }
   ],
   "source": [
    "#print SKUs master file dataframe\n",
    "display(HTML(D_movements.head().to_html()))"
   ]
  },
  {
   "cell_type": "code",
   "execution_count": 7,
   "metadata": {},
   "outputs": [
    {
     "data": {
      "text/html": [
       "<table border=\"1\" class=\"dataframe\">\n",
       "  <thead>\n",
       "    <tr style=\"text-align: right;\">\n",
       "      <th></th>\n",
       "      <th>NODECODE</th>\n",
       "      <th>IDWH</th>\n",
       "      <th>ITEMCODE</th>\n",
       "      <th>IDLOCATION</th>\n",
       "      <th>QUANTITY</th>\n",
       "      <th>TIMESTAMP</th>\n",
       "    </tr>\n",
       "  </thead>\n",
       "  <tbody>\n",
       "    <tr>\n",
       "      <th>0</th>\n",
       "      <td>1</td>\n",
       "      <td>LOGICAL_WH2</td>\n",
       "      <td>0</td>\n",
       "      <td>526</td>\n",
       "      <td>16.040936</td>\n",
       "      <td>2020-01-02</td>\n",
       "    </tr>\n",
       "    <tr>\n",
       "      <th>0</th>\n",
       "      <td>1</td>\n",
       "      <td>LOGICAL_WH2</td>\n",
       "      <td>1</td>\n",
       "      <td>89</td>\n",
       "      <td>2.093622</td>\n",
       "      <td>2020-01-02</td>\n",
       "    </tr>\n",
       "    <tr>\n",
       "      <th>0</th>\n",
       "      <td>1</td>\n",
       "      <td>FAKE</td>\n",
       "      <td>2</td>\n",
       "      <td>908</td>\n",
       "      <td>8.669465</td>\n",
       "      <td>2020-01-02</td>\n",
       "    </tr>\n",
       "    <tr>\n",
       "      <th>0</th>\n",
       "      <td>1</td>\n",
       "      <td>FAKE</td>\n",
       "      <td>3</td>\n",
       "      <td>1430</td>\n",
       "      <td>9.254822</td>\n",
       "      <td>2020-01-02</td>\n",
       "    </tr>\n",
       "    <tr>\n",
       "      <th>0</th>\n",
       "      <td>1</td>\n",
       "      <td>LOGICAL_WH2</td>\n",
       "      <td>4</td>\n",
       "      <td>1545</td>\n",
       "      <td>8.257728</td>\n",
       "      <td>2020-01-02</td>\n",
       "    </tr>\n",
       "  </tbody>\n",
       "</table>"
      ],
      "text/plain": [
       "<IPython.core.display.HTML object>"
      ]
     },
     "metadata": {},
     "output_type": "display_data"
    }
   ],
   "source": [
    "#print SKUs master file dataframe\n",
    "display(HTML(D_inventory.head().to_html()))"
   ]
  },
  {
   "cell_type": "markdown",
   "metadata": {},
   "source": [
    "### Create folder hierarchy"
   ]
  },
  {
   "cell_type": "code",
   "execution_count": 8,
   "metadata": {},
   "outputs": [
    {
     "name": "stdout",
     "output_type": "stream",
     "text": [
      "Cartella TOY_DATA_results già esistente\n",
      "Cartella P8_warehouseAssessment già esistente\n"
     ]
    }
   ],
   "source": [
    "# %% create folder hierarchy\n",
    "pathResults = 'C:\\\\Users\\\\aletu\\\\desktop'\n",
    "_, root_path = creaCartella(pathResults,f\"{string_casestudy}_results\")\n",
    "_, path_results = creaCartella(root_path,f\"P8_warehouseAssessment\")"
   ]
  },
  {
   "cell_type": "markdown",
   "metadata": {},
   "source": [
    "### Set columns name"
   ]
  },
  {
   "cell_type": "code",
   "execution_count": 9,
   "metadata": {},
   "outputs": [],
   "source": [
    "# %% SET COLUMNS MOVEMENTS\n",
    "timecolumn_mov='TIMESTAMP_IN'\n",
    "itemcodeColumns_mov='ITEMCODE'\n",
    "inout_column_mov = 'INOUT'\n",
    "x_col_mov = 'LOCCODEX'\n",
    "y_col_mov = 'LOCCODEY'\n",
    "z_col_mov = 'LOCCODEZ'"
   ]
  },
  {
   "cell_type": "code",
   "execution_count": 10,
   "metadata": {},
   "outputs": [],
   "source": [
    "# %% SET COLUMNS SKUS\n",
    "itemcodeColumns_sku='ITEMCODE'"
   ]
  },
  {
   "cell_type": "code",
   "execution_count": 11,
   "metadata": {},
   "outputs": [],
   "source": [
    "# %% SET COLUMNS INVENTORY\n",
    "itemcodeColumns_inv = 'ITEMCODE'"
   ]
  },
  {
   "cell_type": "markdown",
   "metadata": {},
   "source": [
    "### Generate the inventory curve for each SKU"
   ]
  },
  {
   "cell_type": "code",
   "execution_count": 12,
   "metadata": {},
   "outputs": [
    {
     "name": "stderr",
     "output_type": "stream",
     "text": [
      "..\\logproj\\information_framework.py:261: SettingWithCopyWarning: \n",
      "A value is trying to be set on a copy of a slice from a DataFrame.\n",
      "Try using .loc[row_indexer,col_indexer] = value instead\n",
      "\n",
      "See the caveats in the documentation: https://pandas.pydata.org/pandas-docs/stable/user_guide/indexing.html#returning-a-view-versus-a-copy\n",
      "  D_inventory['PERIOD'] = ts.sampleTimeSeries(D_inventory['TIMESTAMP'],'day')\n",
      "..\\logproj\\information_framework.py:230: SettingWithCopyWarning: \n",
      "A value is trying to be set on a copy of a slice from a DataFrame.\n",
      "Try using .loc[row_indexer,col_indexer] = value instead\n",
      "\n",
      "See the caveats in the documentation: https://pandas.pydata.org/pandas-docs/stable/user_guide/indexing.html#returning-a-view-versus-a-copy\n",
      "  D_movements['MOVEMENT'] = D_movements['INOUT'].astype(str) + D_movements[quantityColums].astype(str)\n",
      "..\\logproj\\information_framework.py:231: SettingWithCopyWarning: \n",
      "A value is trying to be set on a copy of a slice from a DataFrame.\n",
      "Try using .loc[row_indexer,col_indexer] = value instead\n",
      "\n",
      "See the caveats in the documentation: https://pandas.pydata.org/pandas-docs/stable/user_guide/indexing.html#returning-a-view-versus-a-copy\n",
      "  D_movements['MOVEMENT']=D_movements['MOVEMENT'].astype(float)\n",
      "..\\logproj\\information_framework.py:234: SettingWithCopyWarning: \n",
      "A value is trying to be set on a copy of a slice from a DataFrame.\n",
      "Try using .loc[row_indexer,col_indexer] = value instead\n",
      "\n",
      "See the caveats in the documentation: https://pandas.pydata.org/pandas-docs/stable/user_guide/indexing.html#returning-a-view-versus-a-copy\n",
      "  D_movements['PERIOD'] = ts.sampleTimeSeries(D_movements['TIMESTAMP_IN'],'day')\n"
     ]
    }
   ],
   "source": [
    "# generate the inventory curve for each SKU\n",
    "from logproj.information_framework import updatePartInventory\n",
    "D_SKUs= updatePartInventory(D_SKUs,D_movements,D_inventory,timecolumn_mov,itemcodeColumns_sku,itemcodeColumns_mov,itemcodeColumns_inv) \n"
   ]
  },
  {
   "cell_type": "code",
   "execution_count": 13,
   "metadata": {
    "scrolled": true
   },
   "outputs": [
    {
     "data": {
      "text/html": [
       "<table border=\"1\" class=\"dataframe\">\n",
       "  <thead>\n",
       "    <tr style=\"text-align: right;\">\n",
       "      <th></th>\n",
       "      <th>ITEMCODE</th>\n",
       "      <th>DESCRIPTION</th>\n",
       "      <th>VOLUME</th>\n",
       "      <th>WEIGHT</th>\n",
       "      <th>INVENTORY_QTY</th>\n",
       "      <th>INVENTORY_DAYS</th>\n",
       "    </tr>\n",
       "  </thead>\n",
       "  <tbody>\n",
       "    <tr>\n",
       "      <th>0</th>\n",
       "      <td>0</td>\n",
       "      <td>PRODOTTO_0</td>\n",
       "      <td>24.367446</td>\n",
       "      <td>0.576003</td>\n",
       "      <td>[16.040936205116296, 16.040936205116296, 16.040936205116296, 16.040936205116296, 16.040936205116296, 16.040936205116296, 16.040936205116296, 16.040936205116296, 16.040936205116296, 16.040936205116296, 16.040936205116296, 16.040936205116296, 16.040936205116296, 16.040936205116296, 16.040936205116296, 16.040936205116296, 16.040936205116296, 16.040936205116296, 16.040936205116296, 16.040936205116296, 16.040936205116296, 16.040936205116296, 16.040936205116296, 16.040936205116296, 16.040936205116296, 16.040936205116296, 16.040936205116296, 16.040936205116296, 16.040936205116296, 16.040936205116296, 16.040936205116296, 16.040936205116296, 16.040936205116296, 16.040936205116296, 30.163260835893322, 30.163260835893322, 30.163260835893322, 30.163260835893322, 19.636033113087098, 19.636033113087098, 19.636033113087098, 19.636033113087098]</td>\n",
       "      <td>[2020-002, 2020-003, 2020-004, 2020-005, 2020-006, 2020-007, 2020-008, 2020-009, 2020-010, 2020-011, 2020-012, 2020-013, 2020-014, 2020-015, 2020-016, 2020-017, 2020-018, 2020-019, 2020-020, 2020-021, 2020-022, 2020-023, 2020-024, 2020-025, 2020-026, 2020-027, 2020-028, 2020-029, 2020-030, 2020-031, 2020-032, 2020-033, 2020-034, 2020-035, 2020-036, 2020-037, 2020-038, 2020-039, 2020-040, 2020-041, 2020-042, 2020-043]</td>\n",
       "    </tr>\n",
       "    <tr>\n",
       "      <th>1</th>\n",
       "      <td>1</td>\n",
       "      <td>PRODOTTO_1</td>\n",
       "      <td>63.494860</td>\n",
       "      <td>1.049971</td>\n",
       "      <td>[9.265786178049954, 9.265786178049954, 9.265786178049954, 9.265786178049954, 9.265786178049954, 9.265786178049954, 9.265786178049954, 9.265786178049954, 9.265786178049954, 9.265786178049954, 9.265786178049954, 9.265786178049954, 9.265786178049954, 9.265786178049954, 9.265786178049954, 9.265786178049954, 6.297480563501499, 6.297480563501499, 6.297480563501499, 6.297480563501499, 13.051753012129382, 13.051753012129382, 13.051753012129382, 13.051753012129382, 13.051753012129382, 13.051753012129382, 13.051753012129382, 13.051753012129382, 13.051753012129382, 13.051753012129382, 13.051753012129382, 13.051753012129382, 13.051753012129382, 13.051753012129382, 13.051753012129382, 13.051753012129382, 13.051753012129382, 13.051753012129382, 13.051753012129382, 0.0, 0.0, 0.0]</td>\n",
       "      <td>[2020-002, 2020-003, 2020-004, 2020-005, 2020-006, 2020-007, 2020-008, 2020-009, 2020-010, 2020-011, 2020-012, 2020-013, 2020-014, 2020-015, 2020-016, 2020-017, 2020-018, 2020-019, 2020-020, 2020-021, 2020-022, 2020-023, 2020-024, 2020-025, 2020-026, 2020-027, 2020-028, 2020-029, 2020-030, 2020-031, 2020-032, 2020-033, 2020-034, 2020-035, 2020-036, 2020-037, 2020-038, 2020-039, 2020-040, 2020-041, 2020-042, 2020-043]</td>\n",
       "    </tr>\n",
       "    <tr>\n",
       "      <th>2</th>\n",
       "      <td>2</td>\n",
       "      <td>PRODOTTO_2</td>\n",
       "      <td>90.820018</td>\n",
       "      <td>7.172273</td>\n",
       "      <td>[8.669465090659255, 8.669465090659255, 8.669465090659255, 8.669465090659255, 161.24471407929616, 161.24471407929616, 161.24471407929616, 161.24471407929616, 161.24471407929616, 161.24471407929616, 161.24471407929616, 161.24471407929616, 161.24471407929616, 173.98903834704413, 173.98903834704413, 173.98903834704413, 173.98903834704413, 166.6279138934051, 166.6279138934051, 166.6279138934051, 166.6279138934051, 166.6279138934051, 177.72239864781224, 177.72239864781224, 177.72239864781224, 203.04243996779476, 203.04243996779476, 203.04243996779476, 203.04243996779476, 203.04243996779476, 203.04243996779476, 203.04243996779476, 203.04243996779476, 248.36901043949214, 248.36901043949214, 8.669465090659255, 8.669465090659255, 8.669465090659255, 8.669465090659255, 8.669465090659255, 54.662101575572635, 54.662101575572635]</td>\n",
       "      <td>[2020-002, 2020-003, 2020-004, 2020-005, 2020-006, 2020-007, 2020-008, 2020-009, 2020-010, 2020-011, 2020-012, 2020-013, 2020-014, 2020-015, 2020-016, 2020-017, 2020-018, 2020-019, 2020-020, 2020-021, 2020-022, 2020-023, 2020-024, 2020-025, 2020-026, 2020-027, 2020-028, 2020-029, 2020-030, 2020-031, 2020-032, 2020-033, 2020-034, 2020-035, 2020-036, 2020-037, 2020-038, 2020-039, 2020-040, 2020-041, 2020-042, 2020-043]</td>\n",
       "    </tr>\n",
       "    <tr>\n",
       "      <th>3</th>\n",
       "      <td>3</td>\n",
       "      <td>PRODOTTO_3</td>\n",
       "      <td>37.484090</td>\n",
       "      <td>5.702211</td>\n",
       "      <td>[9.254822213424466, 9.254822213424466, 9.254822213424466, 9.254822213424466, 9.254822213424466, 9.254822213424466, 9.254822213424466, 9.254822213424466, 9.254822213424466, 9.254822213424466, 9.254822213424466, 9.254822213424466, 15.44463112847674, 15.44463112847674, 15.44463112847674, 15.44463112847674, 24.006395737220757, 24.006395737220757, 24.006395737220757, 24.006395737220757, 24.006395737220757, 24.006395737220757, 24.006395737220757, 24.006395737220757, 24.006395737220757, 24.006395737220757, 24.006395737220757, 24.006395737220757, 24.006395737220757, 24.006395737220757, 24.006395737220757, 24.006395737220757, 24.006395737220757, 39.35018437501985, 39.35018437501985, 39.35018437501985, 37.34174755425207, 37.34174755425207, 37.34174755425207, 37.34174755425207, 37.34174755425207, 37.34174755425207]</td>\n",
       "      <td>[2020-002, 2020-003, 2020-004, 2020-005, 2020-006, 2020-007, 2020-008, 2020-009, 2020-010, 2020-011, 2020-012, 2020-013, 2020-014, 2020-015, 2020-016, 2020-017, 2020-018, 2020-019, 2020-020, 2020-021, 2020-022, 2020-023, 2020-024, 2020-025, 2020-026, 2020-027, 2020-028, 2020-029, 2020-030, 2020-031, 2020-032, 2020-033, 2020-034, 2020-035, 2020-036, 2020-037, 2020-038, 2020-039, 2020-040, 2020-041, 2020-042, 2020-043]</td>\n",
       "    </tr>\n",
       "    <tr>\n",
       "      <th>4</th>\n",
       "      <td>4</td>\n",
       "      <td>PRODOTTO_4</td>\n",
       "      <td>75.685363</td>\n",
       "      <td>4.134295</td>\n",
       "      <td>[14.63899787284372, 14.63899787284372, 14.63899787284372, 14.63899787284372, 0.0, 0.0, 0.0, 0.0, 0.0, 0.0, 0.0, 0.0, 0.0, 4.583128129621709, 4.583128129621709, 14.59090784992015, 14.59090784992015, 17.083680005771658, 17.083680005771658, 17.083680005771658, 17.083680005771658, 24.198244730368735, 24.198244730368735, 24.198244730368735, 22.410984219393463, 40.84591414599076, 30.919588556753805, 30.919588556753805, 30.919588556753805, 30.919588556753805, 30.919588556753805, 30.919588556753805, 30.919588556753805, 30.919588556753805, 66.05814100877322, 66.05814100877322, 66.05814100877322, 66.05814100877322, 66.05814100877322, 66.05814100877322, 66.05814100877322, 66.05814100877322]</td>\n",
       "      <td>[2020-002, 2020-003, 2020-004, 2020-005, 2020-006, 2020-007, 2020-008, 2020-009, 2020-010, 2020-011, 2020-012, 2020-013, 2020-014, 2020-015, 2020-016, 2020-017, 2020-018, 2020-019, 2020-020, 2020-021, 2020-022, 2020-023, 2020-024, 2020-025, 2020-026, 2020-027, 2020-028, 2020-029, 2020-030, 2020-031, 2020-032, 2020-033, 2020-034, 2020-035, 2020-036, 2020-037, 2020-038, 2020-039, 2020-040, 2020-041, 2020-042, 2020-043]</td>\n",
       "    </tr>\n",
       "  </tbody>\n",
       "</table>"
      ],
      "text/plain": [
       "<IPython.core.display.HTML object>"
      ]
     },
     "metadata": {},
     "output_type": "display_data"
    }
   ],
   "source": [
    "#print SKUs master file dataframe with inventory curve\n",
    "display(HTML(D_SKUs.head().to_html()))"
   ]
  },
  {
   "cell_type": "markdown",
   "metadata": {},
   "source": [
    "### Calculate the popularity index"
   ]
  },
  {
   "cell_type": "code",
   "execution_count": 14,
   "metadata": {
    "scrolled": true
   },
   "outputs": [
    {
     "data": {
      "image/png": "[encoded data removed]",
      "text/plain": [
       "<Figure size 432x288 with 1 Axes>"
      ]
     },
     "metadata": {
      "needs_background": "light"
     },
     "output_type": "display_data"
    },
    {
     "data": {
      "image/png": "[encoded data removed]",
      "text/plain": [
       "<Figure size 432x288 with 1 Axes>"
      ]
     },
     "metadata": {
      "needs_background": "light"
     },
     "output_type": "display_data"
    },
    {
     "data": {
      "image/png": "[encoded data removed]",
      "text/plain": [
       "<Figure size 432x288 with 1 Axes>"
      ]
     },
     "metadata": {
      "needs_background": "light"
     },
     "output_type": "display_data"
    },
    {
     "data": {
      "image/png": "[encoded data removed]",
      "text/plain": [
       "<Figure size 432x288 with 1 Axes>"
      ]
     },
     "metadata": {
      "needs_background": "light"
     },
     "output_type": "display_data"
    }
   ],
   "source": [
    "# %% POPULARITY INDEX\n",
    "\n",
    "_, path_current = creaCartella(path_results,f\"SKUs indices\")\n",
    "\n",
    "from logproj.P8_performanceAssessment.wh_indexes import updatePopularity, whIndexParetoPlot\n",
    "\n",
    "\n",
    "D_SKUs = updatePopularity(D_SKUs)\n",
    "\n",
    "#POPULARITY IN\n",
    "output_figures = whIndexParetoPlot(D_SKUs,'POP_IN')\n",
    "\n",
    "for key in output_figures.keys():\n",
    "        output_figures[key].savefig(path_current+f\"\\\\{key}.png\")  \n",
    "        \n",
    "#POPULARITY OUT\n",
    "output_figures = whIndexParetoPlot(D_SKUs,'POP_OUT')\n",
    "\n",
    "for key in output_figures.keys():\n",
    "        output_figures[key].savefig(path_current+f\"\\\\{key}.png\")  "
   ]
  },
  {
   "cell_type": "markdown",
   "metadata": {},
   "source": [
    "### Calculate the order completion (OC) index"
   ]
  },
  {
   "cell_type": "code",
   "execution_count": 15,
   "metadata": {},
   "outputs": [
    {
     "name": "stderr",
     "output_type": "stream",
     "text": [
      "C:\\Users\\aletu\\.conda\\envs\\logproj\\lib\\site-packages\\pandas\\core\\ops\\array_ops.py:253: FutureWarning: elementwise comparison failed; returning scalar instead, but in the future will perform elementwise comparison\n",
      "  res_values = method(rvalues)\n"
     ]
    },
    {
     "data": {
      "image/png": "[encoded data removed]",
      "text/plain": [
       "<Figure size 432x288 with 1 Axes>"
      ]
     },
     "metadata": {
      "needs_background": "light"
     },
     "output_type": "display_data"
    },
    {
     "data": {
      "image/png": "[encoded data removed]",
      "text/plain": [
       "<Figure size 432x288 with 1 Axes>"
      ]
     },
     "metadata": {
      "needs_background": "light"
     },
     "output_type": "display_data"
    }
   ],
   "source": [
    "# %% ORDER COMPLETION INDEX\n",
    "from logproj.P8_performanceAssessment.wh_indexes import updateOrderCompletion\n",
    "D_SKUs = updateOrderCompletion(D_SKUs, D_movements)\n",
    "\n",
    "#OC\n",
    "output_figures = whIndexParetoPlot(D_SKUs,'OC')\n",
    "\n",
    "for key in output_figures.keys():\n",
    "        output_figures[key].savefig(path_current+f\"\\\\{key}.png\") \n"
   ]
  },
  {
   "cell_type": "markdown",
   "metadata": {},
   "source": [
    "### Calculate the Cube-per-order index (COI)"
   ]
  },
  {
   "cell_type": "code",
   "execution_count": 16,
   "metadata": {
    "scrolled": false
   },
   "outputs": [
    {
     "data": {
      "image/png": "[encoded data removed]",
      "text/plain": [
       "<Figure size 432x288 with 1 Axes>"
      ]
     },
     "metadata": {
      "needs_background": "light"
     },
     "output_type": "display_data"
    },
    {
     "data": {
      "image/png": "[encoded data removed]",
      "text/plain": [
       "<Figure size 432x288 with 1 Axes>"
      ]
     },
     "metadata": {
      "needs_background": "light"
     },
     "output_type": "display_data"
    },
    {
     "data": {
      "image/png": "[encoded data removed]",
      "text/plain": [
       "<Figure size 432x288 with 1 Axes>"
      ]
     },
     "metadata": {
      "needs_background": "light"
     },
     "output_type": "display_data"
    },
    {
     "data": {
      "image/png": "[encoded data removed]",
      "text/plain": [
       "<Figure size 432x288 with 1 Axes>"
      ]
     },
     "metadata": {
      "needs_background": "light"
     },
     "output_type": "display_data"
    }
   ],
   "source": [
    "# %% COI INDEX\n",
    "from logproj.P8_performanceAssessment.wh_indexes import updateCOI\n",
    "D_SKUs = updateCOI(D_SKUs)\n",
    "\n",
    "#COI IN\n",
    "output_figures = whIndexParetoPlot(D_SKUs,'COI_IN')\n",
    "\n",
    "for key in output_figures.keys():\n",
    "        output_figures[key].savefig(path_current+f\"\\\\{key}.png\") \n",
    "        \n",
    "#COI OUT\n",
    "output_figures = whIndexParetoPlot(D_SKUs,'COI_OUT')\n",
    "\n",
    "for key in output_figures.keys():\n",
    "        output_figures[key].savefig(path_current+f\"\\\\{key}.png\") \n",
    "\n"
   ]
  },
  {
   "cell_type": "markdown",
   "metadata": {},
   "source": [
    "### Calculate the TURN index"
   ]
  },
  {
   "cell_type": "code",
   "execution_count": 17,
   "metadata": {},
   "outputs": [
    {
     "data": {
      "image/png": "[encoded data removed]",
      "text/plain": [
       "<Figure size 432x288 with 1 Axes>"
      ]
     },
     "metadata": {
      "needs_background": "light"
     },
     "output_type": "display_data"
    },
    {
     "data": {
      "image/png": "[encoded data removed]",
      "text/plain": [
       "<Figure size 432x288 with 1 Axes>"
      ]
     },
     "metadata": {
      "needs_background": "light"
     },
     "output_type": "display_data"
    }
   ],
   "source": [
    "# %% TURN INDEX\n",
    "from logproj.P8_performanceAssessment.wh_indexes import updateTURN\n",
    "D_SKUs = updateTURN(D_SKUs)\n",
    "\n",
    "#COI IN\n",
    "output_figures = whIndexParetoPlot(D_SKUs,'TURN')\n",
    "\n",
    "for key in output_figures.keys():\n",
    "        output_figures[key].savefig(path_current+f\"\\\\{key}.png\") "
   ]
  },
  {
   "cell_type": "markdown",
   "metadata": {},
   "source": [
    "### Calculate the inventory parameters"
   ]
  },
  {
   "cell_type": "code",
   "execution_count": 18,
   "metadata": {},
   "outputs": [
    {
     "name": "stderr",
     "output_type": "stream",
     "text": [
      "C:\\Users\\aletu\\.conda\\envs\\logproj\\lib\\site-packages\\numpy\\core\\fromnumeric.py:3335: RuntimeWarning: Mean of empty slice.\n",
      "  out=out, **kwargs)\n",
      "C:\\Users\\aletu\\.conda\\envs\\logproj\\lib\\site-packages\\numpy\\core\\_methods.py:161: RuntimeWarning: invalid value encountered in double_scalars\n",
      "  ret = ret.dtype.type(ret / rcount)\n",
      "C:\\Users\\aletu\\.conda\\envs\\logproj\\lib\\site-packages\\numpy\\core\\_methods.py:217: RuntimeWarning: Degrees of freedom <= 0 for slice\n",
      "  keepdims=keepdims)\n",
      "C:\\Users\\aletu\\.conda\\envs\\logproj\\lib\\site-packages\\numpy\\core\\_methods.py:186: RuntimeWarning: invalid value encountered in true_divide\n",
      "  arrmean, rcount, out=arrmean, casting='unsafe', subok=False)\n",
      "C:\\Users\\aletu\\.conda\\envs\\logproj\\lib\\site-packages\\numpy\\core\\_methods.py:209: RuntimeWarning: invalid value encountered in double_scalars\n",
      "  ret = ret.dtype.type(ret / rcount)\n"
     ]
    }
   ],
   "source": [
    "# %% INVENTORY PARAMETERS\n",
    "\n",
    "from logproj.information_framework import updateInventoryParams\n",
    "D_SKUs = updateInventoryParams(D_SKUs)"
   ]
  },
  {
   "cell_type": "markdown",
   "metadata": {},
   "source": [
    "### Calculate the interarrival time"
   ]
  },
  {
   "cell_type": "code",
   "execution_count": 19,
   "metadata": {},
   "outputs": [],
   "source": [
    "# %% INTERARRIVAL TIME\n",
    "from logproj.information_framework import updateInterarrivalTime\n",
    "D_SKUs = updateInterarrivalTime(D_SKUs)\n",
    "\n",
    "\n"
   ]
  },
  {
   "cell_type": "markdown",
   "metadata": {},
   "source": [
    "### Calculate the Fourier transform of the inventory curve"
   ]
  },
  {
   "cell_type": "code",
   "execution_count": 20,
   "metadata": {},
   "outputs": [
    {
     "name": "stderr",
     "output_type": "stream",
     "text": [
      "..\\logproj\\stat_time_series.py:344: RuntimeWarning: divide by zero encountered in true_divide\n",
      "  weeks=1/xf\n"
     ]
    }
   ],
   "source": [
    "# %% INTERARRIVAL TIME\n",
    "from logproj.P8_performanceAssessment.wh_indexes import updateFourieranalysis\n",
    "D_SKUs = updateFourieranalysis(D_SKUs)"
   ]
  },
  {
   "cell_type": "markdown",
   "metadata": {},
   "source": [
    "### Save the SKU table with parameters"
   ]
  },
  {
   "cell_type": "code",
   "execution_count": 21,
   "metadata": {},
   "outputs": [],
   "source": [
    "# %% save sku table\n",
    "D_SKUs.to_excel(path_current+\"\\\\SKUs.xlsx\")"
   ]
  }
 ],
 "metadata": {
  "kernelspec": {
   "display_name": "Python 3",
   "language": "python",
   "name": "python3"
  },
  "language_info": {
   "codemirror_mode": {
    "name": "ipython",
    "version": 3
   },
   "file_extension": ".py",
   "mimetype": "text/x-python",
   "name": "python",
   "nbconvert_exporter": "python",
   "pygments_lexer": "ipython3",
   "version": "3.6.10"
  }
 },
 "nbformat": 4,
 "nbformat_minor": 4
}
