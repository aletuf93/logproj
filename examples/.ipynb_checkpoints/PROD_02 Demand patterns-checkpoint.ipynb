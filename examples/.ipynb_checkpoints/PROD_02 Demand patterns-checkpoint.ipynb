{
 "cells": [
  {
   "cell_type": "markdown",
   "metadata": {},
   "source": [
    "# Production demand patterns\n",
    "*This notebook illustrates methods to explore the demand patterns of a set of parts.*  \n",
    "*Use the virtual environment logproj.yml to run this notebook.*\n",
    "***\n",
    "Alessandro Tufano 2020"
   ]
  },
  {
   "cell_type": "markdown",
   "metadata": {},
   "source": [
    "### Import packages"
   ]
  },
  {
   "cell_type": "code",
   "execution_count": 1,
   "metadata": {},
   "outputs": [],
   "source": [
    "# %% append functions path\n",
    "import sys; sys.path.insert(0, '..') #add the above level with the package\n",
    "\n",
    "import pandas as pd\n",
    "import numpy as np\n",
    "\n",
    "from IPython.display import display, HTML #display dataframe\n",
    "\n",
    "#import utilities\n",
    "from logproj.utilities import creaCartella"
   ]
  },
  {
   "cell_type": "markdown",
   "metadata": {},
   "source": [
    "### Set data fields"
   ]
  },
  {
   "cell_type": "code",
   "execution_count": 2,
   "metadata": {},
   "outputs": [],
   "source": [
    "string_casestudy = 'TOY_DATA'"
   ]
  },
  {
   "cell_type": "markdown",
   "metadata": {},
   "source": [
    "### Import data"
   ]
  },
  {
   "cell_type": "code",
   "execution_count": 3,
   "metadata": {},
   "outputs": [],
   "source": [
    "# %% import data\n",
    "from logproj.data_generator_distribution import generateDistributionData\n",
    "\n",
    "#random generation of distribution data\n",
    "_, _, _, D_mov = generateDistributionData(num_movements=2500, num_parts = 100)\n"
   ]
  },
  {
   "cell_type": "code",
   "execution_count": 4,
   "metadata": {},
   "outputs": [
    {
     "data": {
      "text/html": [
       "<table border=\"1\" class=\"dataframe\">\n",
       "  <thead>\n",
       "    <tr style=\"text-align: right;\">\n",
       "      <th></th>\n",
       "      <th>LOADING_NODE</th>\n",
       "      <th>LOADING_NODE_DESCRIPTION</th>\n",
       "      <th>LOADING_NODE_LATITUDE</th>\n",
       "      <th>LOADING_NODE_LONGITUDE</th>\n",
       "      <th>PTA_FROM</th>\n",
       "      <th>PTD_FROM</th>\n",
       "      <th>ATA_FROM</th>\n",
       "      <th>ATD_FROM</th>\n",
       "      <th>DISCHARGING_NODE</th>\n",
       "      <th>DISCHARGING_NODE_DESCRIPTION</th>\n",
       "      <th>DISCHARGING_LATITUDE</th>\n",
       "      <th>DISCHARGING_LONGITUDE</th>\n",
       "      <th>PTA_TO</th>\n",
       "      <th>PTD_TO</th>\n",
       "      <th>ATA_TO</th>\n",
       "      <th>ATD_TO</th>\n",
       "      <th>ITEMCODE</th>\n",
       "      <th>PRODUCT_FAMILY</th>\n",
       "      <th>CLIENT</th>\n",
       "      <th>VEHICLE_CODE</th>\n",
       "      <th>VOYAGE_CODE</th>\n",
       "      <th>QUANTITY</th>\n",
       "      <th>TIMESTAMP_IN</th>\n",
       "      <th>PACKAGE_DESCRIPTION</th>\n",
       "      <th>USER</th>\n",
       "    </tr>\n",
       "  </thead>\n",
       "  <tbody>\n",
       "    <tr>\n",
       "      <th>0</th>\n",
       "      <td>1</td>\n",
       "      <td>NODE_1</td>\n",
       "      <td>41.785339</td>\n",
       "      <td>14.488970</td>\n",
       "      <td>2020-01-02 00:00:00.000000</td>\n",
       "      <td>2020-01-02 01:00:00.000000</td>\n",
       "      <td>2020-01-01 23:51:45.022824</td>\n",
       "      <td>2020-01-02 00:54:08.176488</td>\n",
       "      <td>16</td>\n",
       "      <td>NODE_16</td>\n",
       "      <td>41.635975</td>\n",
       "      <td>14.323586</td>\n",
       "      <td>2020-01-02 09:34:36.094536</td>\n",
       "      <td>2020-01-02 10:34:36.094536</td>\n",
       "      <td>2020-01-02 09:47:18.040182</td>\n",
       "      <td>2020-01-02 10:29:14.485920</td>\n",
       "      <td>4</td>\n",
       "      <td>PRODUCT_FAMILY 1</td>\n",
       "      <td>CLIENT 1</td>\n",
       "      <td>TRUCK 1</td>\n",
       "      <td>0</td>\n",
       "      <td>2.796286</td>\n",
       "      <td>2019-12-30 14:20:17.669312</td>\n",
       "      <td>TEU CONTAINER</td>\n",
       "      <td>USER_5</td>\n",
       "    </tr>\n",
       "    <tr>\n",
       "      <th>0</th>\n",
       "      <td>12</td>\n",
       "      <td>NODE_12</td>\n",
       "      <td>41.723341</td>\n",
       "      <td>14.095845</td>\n",
       "      <td>2020-01-02 11:41:55.838152</td>\n",
       "      <td>2020-01-02 12:41:55.838152</td>\n",
       "      <td>2020-01-02 11:51:05.940035</td>\n",
       "      <td>2020-01-02 12:49:23.889718</td>\n",
       "      <td>7</td>\n",
       "      <td>NODE_7</td>\n",
       "      <td>41.784199</td>\n",
       "      <td>14.103357</td>\n",
       "      <td>2020-01-02 14:29:48.886254</td>\n",
       "      <td>2020-01-02 15:29:48.886254</td>\n",
       "      <td>2020-01-02 14:26:18.195719</td>\n",
       "      <td>2020-01-02 15:15:26.094031</td>\n",
       "      <td>57</td>\n",
       "      <td>PRODUCT_FAMILY 2</td>\n",
       "      <td>CLIENT 1</td>\n",
       "      <td>TRUCK 1</td>\n",
       "      <td>0</td>\n",
       "      <td>6.112643</td>\n",
       "      <td>2020-01-01 06:50:08.924953</td>\n",
       "      <td>TEU CONTAINER</td>\n",
       "      <td>USER_3</td>\n",
       "    </tr>\n",
       "    <tr>\n",
       "      <th>0</th>\n",
       "      <td>13</td>\n",
       "      <td>NODE_13</td>\n",
       "      <td>41.476197</td>\n",
       "      <td>14.831389</td>\n",
       "      <td>2020-01-02 15:35:31.280013</td>\n",
       "      <td>2020-01-02 16:35:31.280013</td>\n",
       "      <td>2020-01-02 15:23:23.283558</td>\n",
       "      <td>2020-01-02 16:14:17.327232</td>\n",
       "      <td>16</td>\n",
       "      <td>NODE_16</td>\n",
       "      <td>41.635975</td>\n",
       "      <td>14.323586</td>\n",
       "      <td>2020-01-03 14:14:37.243472</td>\n",
       "      <td>2020-01-03 15:14:37.243472</td>\n",
       "      <td>2020-01-03 14:12:38.396018</td>\n",
       "      <td>2020-01-03 14:52:11.508007</td>\n",
       "      <td>90</td>\n",
       "      <td>PRODUCT_FAMILY 2</td>\n",
       "      <td>CLIENT 2</td>\n",
       "      <td>TRUCK 1</td>\n",
       "      <td>0</td>\n",
       "      <td>3.154983</td>\n",
       "      <td>2019-12-28 21:14:10.824223</td>\n",
       "      <td>FEU CONTAINER</td>\n",
       "      <td>USER_6</td>\n",
       "    </tr>\n",
       "    <tr>\n",
       "      <th>0</th>\n",
       "      <td>0</td>\n",
       "      <td>NODE_0</td>\n",
       "      <td>41.422379</td>\n",
       "      <td>13.997876</td>\n",
       "      <td>2020-01-03 16:05:56.216456</td>\n",
       "      <td>2020-01-03 17:05:56.216456</td>\n",
       "      <td>2020-01-03 15:48:20.198165</td>\n",
       "      <td>2020-01-03 17:17:18.440390</td>\n",
       "      <td>6</td>\n",
       "      <td>NODE_6</td>\n",
       "      <td>41.422574</td>\n",
       "      <td>14.594586</td>\n",
       "      <td>2020-01-04 06:47:14.332984</td>\n",
       "      <td>2020-01-04 07:47:14.332984</td>\n",
       "      <td>2020-01-04 06:41:30.887980</td>\n",
       "      <td>2020-01-04 07:53:45.589138</td>\n",
       "      <td>58</td>\n",
       "      <td>PRODUCT_FAMILY 1</td>\n",
       "      <td>CLIENT 1</td>\n",
       "      <td>TRUCK 1</td>\n",
       "      <td>0</td>\n",
       "      <td>4.164292</td>\n",
       "      <td>2020-01-02 20:08:05.798343</td>\n",
       "      <td>FEU CONTAINER</td>\n",
       "      <td>USER_4</td>\n",
       "    </tr>\n",
       "    <tr>\n",
       "      <th>0</th>\n",
       "      <td>15</td>\n",
       "      <td>NODE_15</td>\n",
       "      <td>41.921939</td>\n",
       "      <td>14.351323</td>\n",
       "      <td>2020-01-04 08:06:23.089498</td>\n",
       "      <td>2020-01-04 09:06:23.089498</td>\n",
       "      <td>2020-01-04 08:09:36.269632</td>\n",
       "      <td>2020-01-04 09:09:16.534553</td>\n",
       "      <td>7</td>\n",
       "      <td>NODE_7</td>\n",
       "      <td>41.784199</td>\n",
       "      <td>14.103357</td>\n",
       "      <td>2020-01-04 20:05:08.332935</td>\n",
       "      <td>2020-01-04 21:05:08.332935</td>\n",
       "      <td>2020-01-04 20:01:32.371906</td>\n",
       "      <td>2020-01-04 20:59:09.652927</td>\n",
       "      <td>81</td>\n",
       "      <td>PRODUCT_FAMILY 2</td>\n",
       "      <td>CLIENT 1</td>\n",
       "      <td>TRUCK 1</td>\n",
       "      <td>0</td>\n",
       "      <td>2.551524</td>\n",
       "      <td>2019-12-10 21:39:30.876085</td>\n",
       "      <td>TEU CONTAINER</td>\n",
       "      <td>USER_7</td>\n",
       "    </tr>\n",
       "  </tbody>\n",
       "</table>"
      ],
      "text/plain": [
       "<IPython.core.display.HTML object>"
      ]
     },
     "metadata": {},
     "output_type": "display_data"
    }
   ],
   "source": [
    "#print nodes dataframe\n",
    "display(HTML(D_mov.head().to_html()))"
   ]
  },
  {
   "cell_type": "markdown",
   "metadata": {},
   "source": [
    "### Create folder hierarchy"
   ]
  },
  {
   "cell_type": "code",
   "execution_count": 5,
   "metadata": {},
   "outputs": [
    {
     "name": "stdout",
     "output_type": "stream",
     "text": [
      "Cartella TOY_DATA_results già esistente\n",
      "Cartella P9_predictions già esistente\n"
     ]
    }
   ],
   "source": [
    "# %% create folder hierarchy\n",
    "pathResults = 'C:\\\\Users\\\\aletu\\\\desktop'\n",
    "_, root_path = creaCartella(pathResults,f\"{string_casestudy}_results\")\n",
    "_, prediction_results_path = creaCartella(root_path,f\"P9_predictions\")"
   ]
  },
  {
   "cell_type": "markdown",
   "metadata": {},
   "source": [
    "### Calculate ADI and CV2"
   ]
  },
  {
   "cell_type": "code",
   "execution_count": 6,
   "metadata": {},
   "outputs": [],
   "source": [
    "from logproj.P1_familyProblem.part_classification import calculateADICV2\n",
    "\n",
    "#set column parameters\n",
    "itemfield='ITEMCODE' #column name with itemcode \n",
    "qtyfield = 'QUANTITY' #column name with quantity\n",
    "dateVar = 'TIMESTAMP_IN'\n",
    "\n",
    "D_demandPatterns = calculateADICV2(D_mov, itemfield, qtyfield, dateVar)\n",
    "    "
   ]
  },
  {
   "cell_type": "code",
   "execution_count": 7,
   "metadata": {},
   "outputs": [
    {
     "data": {
      "text/html": [
       "<table border=\"1\" class=\"dataframe\">\n",
       "  <thead>\n",
       "    <tr style=\"text-align: right;\">\n",
       "      <th></th>\n",
       "      <th>ITEMCODE</th>\n",
       "      <th>ADI</th>\n",
       "      <th>CV2</th>\n",
       "    </tr>\n",
       "  </thead>\n",
       "  <tbody>\n",
       "    <tr>\n",
       "      <th>0</th>\n",
       "      <td>0</td>\n",
       "      <td>0.011864</td>\n",
       "      <td>0.324136</td>\n",
       "    </tr>\n",
       "    <tr>\n",
       "      <th>0</th>\n",
       "      <td>1</td>\n",
       "      <td>0.015819</td>\n",
       "      <td>0.214354</td>\n",
       "    </tr>\n",
       "    <tr>\n",
       "      <th>0</th>\n",
       "      <td>2</td>\n",
       "      <td>0.014689</td>\n",
       "      <td>0.237740</td>\n",
       "    </tr>\n",
       "    <tr>\n",
       "      <th>0</th>\n",
       "      <td>3</td>\n",
       "      <td>0.013559</td>\n",
       "      <td>0.159037</td>\n",
       "    </tr>\n",
       "    <tr>\n",
       "      <th>0</th>\n",
       "      <td>4</td>\n",
       "      <td>0.013559</td>\n",
       "      <td>0.186433</td>\n",
       "    </tr>\n",
       "  </tbody>\n",
       "</table>"
      ],
      "text/plain": [
       "<IPython.core.display.HTML object>"
      ]
     },
     "metadata": {},
     "output_type": "display_data"
    }
   ],
   "source": [
    "#print demand patterns dataframe\n",
    "display(HTML(D_demandPatterns.head().to_html()))"
   ]
  },
  {
   "cell_type": "markdown",
   "metadata": {},
   "source": [
    "### Plot demand patterns"
   ]
  },
  {
   "cell_type": "code",
   "execution_count": 8,
   "metadata": {},
   "outputs": [],
   "source": [
    "#set the relative importance of each part\n",
    "D_demandPatterns['frequency']=1"
   ]
  },
  {
   "cell_type": "code",
   "execution_count": 9,
   "metadata": {},
   "outputs": [
    {
     "data": {
      "text/plain": [
       "(<Figure size 432x288 with 1 Axes>,\n",
       " <Figure size 432x288 with 1 Axes>,\n",
       " 0,\n",
       " 100,\n",
       " 0,\n",
       " 0)"
      ]
     },
     "execution_count": 9,
     "metadata": {},
     "output_type": "execute_result"
    },
    {
     "data": {
      "image/png": "[encoded data removed]",
      "text/plain": [
       "<Figure size 432x288 with 1 Axes>"
      ]
     },
     "metadata": {
      "needs_background": "light"
     },
     "output_type": "display_data"
    },
    {
     "data": {
      "image/png": "[encoded data removed]",
      "text/plain": [
       "<Figure size 432x288 with 1 Axes>"
      ]
     },
     "metadata": {
      "needs_background": "light"
     },
     "output_type": "display_data"
    }
   ],
   "source": [
    "from logproj.P1_familyProblem.part_classification import demandPatternADICV2\n",
    "demandPatternADICV2(D_demandPatterns, string_casestudy, draw=True)"
   ]
  }
 ],
 "metadata": {
  "kernelspec": {
   "display_name": "Python 3",
   "language": "python",
   "name": "python3"
  },
  "language_info": {
   "codemirror_mode": {
    "name": "ipython",
    "version": 3
   },
   "file_extension": ".py",
   "mimetype": "text/x-python",
   "name": "python",
   "nbconvert_exporter": "python",
   "pygments_lexer": "ipython3",
   "version": "3.6.10"
  }
 },
 "nbformat": 4,
 "nbformat_minor": 4
}
