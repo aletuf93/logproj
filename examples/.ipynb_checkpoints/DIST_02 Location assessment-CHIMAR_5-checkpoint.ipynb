{
 "cells": [
  {
   "cell_type": "markdown",
   "metadata": {},
   "source": [
    "# Location assessment\n",
    "*This notebook illustrates methods to assess the geography of a distribution network*\n",
    "***\n",
    "Alessandro Tufano 2020"
   ]
  },
  {
   "cell_type": "markdown",
   "metadata": {},
   "source": [
    "### Import packages"
   ]
  },
  {
   "cell_type": "code",
   "execution_count": 1,
   "metadata": {},
   "outputs": [],
   "source": [
    "# %% append functions path\n",
    "import sys; sys.path.insert(0, '..') #add the above level with the package\n",
    "\n",
    "#import utilities\n",
    "from logproj.utilities import creaCartella\n",
    "\n",
    "import numpy as np\n",
    "import plotly\n",
    "import plotly.express as px\n",
    "\n",
    "\n"
   ]
  },
  {
   "cell_type": "code",
   "execution_count": 2,
   "metadata": {},
   "outputs": [],
   "source": [
    "import database.mongo_loginManager as mdb\n",
    "import database.models.odm_distribution_mongo as model_dist\n",
    "import database.models.odm_production_mongo as model_prod"
   ]
  },
  {
   "cell_type": "markdown",
   "metadata": {},
   "source": [
    "### Set data fields"
   ]
  },
  {
   "cell_type": "code",
   "execution_count": 16,
   "metadata": {},
   "outputs": [],
   "source": [
    "dbName='CHIMAR_5'\n",
    "latCol='LATITUDE'\n",
    "lonCol='LONGITUDE'\n",
    "weightCol='FLOW'\n",
    "descrCol='NODE_DESCRIPTION'\n",
    "colore = 'SIZE'\n",
    "\n",
    "plantListName='LIST_NODE'"
   ]
  },
  {
   "cell_type": "markdown",
   "metadata": {},
   "source": [
    "### Set folder hierarchy"
   ]
  },
  {
   "cell_type": "code",
   "execution_count": 8,
   "metadata": {},
   "outputs": [
    {
     "name": "stdout",
     "output_type": "stream",
     "text": [
      "Cartella CHIMAR_5_results già esistente\n",
      "Cartella P6_facilityLocation già esistente\n"
     ]
    }
   ],
   "source": [
    "pathResults = 'C:\\\\Users\\\\aletu\\\\desktop'\n",
    "_, root_path = creaCartella(pathResults,f\"{dbName}_results\")\n",
    "_, path_results = creaCartella(root_path,f\"P6_facilityLocation\")"
   ]
  },
  {
   "cell_type": "markdown",
   "metadata": {},
   "source": [
    "### Import data"
   ]
  },
  {
   "cell_type": "code",
   "execution_count": 26,
   "metadata": {},
   "outputs": [
    {
     "name": "stdout",
     "output_type": "stream",
     "text": [
      "**MONGO: query with filters: {}, time 2020-05-15 16:02:57\n",
      "**MONGO: end query, time: 0.2 sec\n",
      "**MONGO: query with filters: {}, time 2020-05-15 16:02:57\n",
      "**MONGO: end query, time: 0.0 sec\n"
     ]
    },
    {
     "data": {
      "text/html": [
       "<div>\n",
       "<style scoped>\n",
       "    .dataframe tbody tr th:only-of-type {\n",
       "        vertical-align: middle;\n",
       "    }\n",
       "\n",
       "    .dataframe tbody tr th {\n",
       "        vertical-align: top;\n",
       "    }\n",
       "\n",
       "    .dataframe thead th {\n",
       "        text-align: right;\n",
       "    }\n",
       "</style>\n",
       "<table border=\"1\" class=\"dataframe\">\n",
       "  <thead>\n",
       "    <tr style=\"text-align: right;\">\n",
       "      <th></th>\n",
       "      <th>_id</th>\n",
       "      <th>NODE_DESCRIPTION</th>\n",
       "      <th>ADDRESS</th>\n",
       "      <th>CITY</th>\n",
       "      <th>ZIPCODE</th>\n",
       "      <th>PROVINCE</th>\n",
       "      <th>COUNTRY</th>\n",
       "      <th>LATITUDE</th>\n",
       "      <th>LONGITUDE</th>\n",
       "    </tr>\n",
       "  </thead>\n",
       "  <tbody>\n",
       "    <tr>\n",
       "      <th>0</th>\n",
       "      <td>CHIMAR_5</td>\n",
       "      <td>Impianto CHIMAR 5</td>\n",
       "      <td>Via T. A. Edison, 4,</td>\n",
       "      <td>Cartpi</td>\n",
       "      <td>41012</td>\n",
       "      <td>MO</td>\n",
       "      <td>Italy</td>\n",
       "      <td>44.787224</td>\n",
       "      <td>10.855221</td>\n",
       "    </tr>\n",
       "  </tbody>\n",
       "</table>\n",
       "</div>"
      ],
      "text/plain": [
       "        _id   NODE_DESCRIPTION               ADDRESS    CITY  ZIPCODE  \\\n",
       "0  CHIMAR_5  Impianto CHIMAR 5  Via T. A. Edison, 4,  Cartpi    41012   \n",
       "\n",
       "  PROVINCE COUNTRY   LATITUDE  LONGITUDE  \n",
       "0       MO   Italy  44.787224  10.855221  "
      ]
     },
     "execution_count": 26,
     "metadata": {},
     "output_type": "execute_result"
    }
   ],
   "source": [
    "mdb.setConnection(dbName)\n",
    "D_table=mdb.queryTodf(model_dist.node.objects)\n",
    "D_plant=mdb.queryTodf(model_prod.plant.objects)\n"
   ]
  },
  {
   "cell_type": "markdown",
   "metadata": {},
   "source": [
    "### Supply chain network nodes"
   ]
  },
  {
   "cell_type": "code",
   "execution_count": 24,
   "metadata": {
    "scrolled": true
   },
   "outputs": [
    {
     "data": {
      "application/vnd.plotly.v1+json": {
       "config": {
        "plotlyServerURL": "https://plot.ly"
       },
       "data": [
        {
         "hovertemplate": "<b>%{hovertext}</b><br><br>LATITUDE=%{lat}<br>LONGITUDE=%{lon}<extra></extra>",
         "hovertext": [
          "SAN MATTEO",
          "IVECO SPA KUEHNE NAGEL",
          "CNH FRANCE SA",
          "FONTANA FASTENERS SPA",
          "PIROVANO F.LLI SPA",
          "ANIXTER ITALIA SRL",
          "BONDOLI E CAMPESE SPA",
          "SK WELLMAN 2",
          "FPT INDUSTRIAL SPA",
          "CORCOS 2",
          "FASTER 2",
          "SBE VARVIT",
          "OPTIMAS OE SOLUTIONS SRL",
          "CARRARO DRIVE TECH",
          "COBO",
          "GALVANI BULLONERIA",
          "SKF INDUSTRIE",
          "ISB",
          "MARTINPLAST",
          "INSIT INDUSTRIA",
          "CORCOS SIMRIT",
          "RMA SAS DI STRUMIA",
          "CAGNASSO SRL",
          "CBM",
          "CNH DEUTSCHLAND GMBH",
          "CORONA",
          "GRAZIANO TRASMISSIONI SPA",
          "DAYCO EUROPE SRL",
          "CCVI",
          "DENSO THERMAL SYSTEM SPA",
          "FLUORTEN",
          "ANGST+PFISTER",
          "HYDAC SPA",
          "CEC",
          "V G V SRL",
          "FOR SPA",
          "RIGHI VILIAM SRL",
          "JESI CNH",
          "CIAM",
          "ROBERT BOSCH GMBH BRANCH",
          "OGNIBENE POWER 2",
          "GRAZIOLI ANGELO E FLLI SRL",
          "BERCO SPA",
          "SAG TUBI",
          "OMG",
          "T ERRE SRL",
          "BUCCI SRL",
          "SERIGRAFICA 76 SNC",
          "FLT & METALS SRL",
          "TECNORD SRL",
          "CNH LECCE",
          "ADLER PLASTIC SPA",
          "VIA PICO CNH",
          "BOSCH REXROTH",
          "LANDINI SPA",
          "VIMI",
          "OVERMEK SRL",
          "BBC 2",
          "CORAM",
          "OMR",
          "AGCO ITALIA",
          "STABILUS GMBH",
          "ITALTRACTOR",
          "OFFICINE VICA SPA",
          "SELMAT SRL",
          "ATHENA",
          "SCHAEFFLER ITALIA SRL",
          "FRATELLI FINI SRL",
          "STIL GOMMA SRL",
          "TRENTON",
          "GKN DRIVELINE BRUNICO SPA",
          "LAVERDA",
          "OFFICINA MECCANICA BERSANO",
          "FRAP",
          "VILLA VITTORIO OFF.SRL",
          "GLACIER VANDERVELL ITALY",
          "LODI SRL",
          "SIAC SPA",
          "MAHLE COMPONENTI MOTORI IATALIA SPA",
          "CAB PLUS JESY SRL",
          "AUTOFORNITURE MOLINO",
          "MTA",
          "FARMA",
          "PEAR BEARING SRL",
          "OFFICINE RIVA SPA",
          "SEWS CABIND",
          "FAIRE",
          "SAINT GOBAIN 2",
          "MONDIAL SPA",
          "SALGOMMA",
          "CGA SRL",
          "METALLURGICA VALCHIESE",
          "ALFAGOMMA HYDRAULIC SPA",
          "SARGOMMA SRL",
          "MARTINPLAST 2",
          "SALP DI COLANGELO AGOSTINO E  MARCHE",
          "V AR VIT SPA",
          "LSL MARCHESE VITTORINO",
          "TRISTONE FLOWTECH",
          "GLOBAL SYSTEMS INTERNATIONAL SRL",
          "CIMA SPA",
          "METZELER AUTOMOTIVE",
          "NUOVA MINI MEC SRL",
          "TIMKEN EUROPE",
          "USCO SPA",
          "CAVALLINI ANDREA",
          "LOBO",
          "OTS GROUP",
          "MANFREDINI SRL",
          "GATES",
          "M.A.P. MECC.ALTA PRECISIONE",
          "DAYCO EUROPE"
         ],
         "lat": [
          44.6824,
          44.6338,
          49.0988,
          44.5152,
          45.6839,
          45.4286,
          44.4494,
          45.4121,
          45.5046,
          43.7726,
          45.4673,
          44.7228,
          45.5066,
          42.2655,
          44.7574,
          44.5153,
          44.5217,
          44.6448,
          45.5764,
          44.8165,
          45.4541,
          45.1356,
          45.1461,
          44.6268,
          48.3583,
          45.0693,
          45.0073,
          45.4268,
          45.523537,
          40.9361,
          45.6254,
          47.5204,
          45.5668,
          44.5559,
          45.3375,
          44.7692,
          44.7439,
          43.534538,
          44.693003,
          45.0143,
          44.7513,
          45.562146,
          44.413708,
          44.82858,
          44.603732,
          44.7185,
          41.980347,
          44.693718,
          45.764764,
          44.650577,
          40.39448,
          40.973064,
          44.656332,
          44.409132,
          44.872638,
          44.829316,
          43.2957,
          44.4623,
          45.575087,
          45.262841,
          44.920363,
          44.88464,
          44.5443,
          45.062047,
          45.1113,
          45.356393,
          45.429869,
          44.489463,
          45.620201,
          44.290965,
          46.9973,
          45.6933,
          45.3459,
          45.0086,
          45.551798,
          46.1041,
          44.870323,
          45.5866,
          44.9511,
          43.5414,
          45.176581,
          45.1523,
          44.5026,
          45.4376,
          45.8465,
          45.0824,
          45.5731,
          44.2433,
          44.5317,
          45.1485,
          44.5957,
          45.6434,
          45.6005,
          45.0951,
          44.9748,
          45.0131,
          44.7228,
          45.1113,
          45.2099,
          44.7886,
          44.4999,
          45.2181,
          44.8326,
          48.0977,
          44.6793,
          44.6738,
          45.4833,
          44.5589,
          44.5914,
          45.5325,
          45.617,
          45.4268
         ],
         "legendgroup": "",
         "lon": [
          10.941,
          11.392,
          2.7441,
          11.325,
          9.3159,
          9.2864,
          12.217,
          9.9342,
          12.0195,
          11.1223,
          9.5047,
          10.6492,
          10.1648,
          14.3237,
          10.6014,
          11.3253,
          11.2672,
          10.7732,
          9.1029,
          7.9536,
          10.8919,
          7.6341,
          7.7315,
          10.9762,
          9.9319,
          7.5478,
          7.5421,
          7.8826,
          11.590383,
          14.8216,
          9.8938,
          8.5949,
          9.3283,
          11.1566,
          10.3405,
          11.4919,
          11.0337,
          13.270721,
          10.45769,
          7.620638,
          10.6626,
          9.535991,
          11.736908,
          10.711401,
          11.029787,
          11.1148,
          12.737496,
          10.454531,
          9.213766,
          10.957217,
          18.108484,
          14.375289,
          10.92286,
          10.838975,
          10.808534,
          10.709803,
          12.3414,
          11.2732,
          9.944564,
          10.368401,
          10.256695,
          7.300107,
          11.1778,
          7.541951,
          7.2693,
          11.420112,
          8.210294,
          11.085999,
          9.898617,
          10.574919,
          11.927132,
          11.5601,
          7.5833,
          7.4831,
          9.608481,
          11.1015,
          10.840465,
          9.5666,
          7.6599,
          13.2832,
          7.588221,
          9.6841,
          11.5639,
          11.7728,
          9.4051,
          7.5827,
          9.2485,
          11.6492,
          11.3576,
          7.7089,
          11.0668,
          10.4021,
          9.3616,
          7.6421,
          7.7286,
          7.4823,
          10.649,
          7.6882,
          7.6158,
          10.8595,
          11.4276,
          7.6082,
          10.7121,
          7.3626,
          10.9392,
          10.9347,
          9.0343,
          11.0416,
          11.2773,
          9.1679,
          9.0364,
          7.8826
         ],
         "marker": {
          "color": "#636efa"
         },
         "mode": "markers",
         "name": "",
         "showlegend": false,
         "subplot": "mapbox",
         "type": "scattermapbox"
        }
       ],
       "layout": {
        "legend": {
         "tracegroupgap": 0
        },
        "mapbox": {
         "center": {
          "lat": 44.95303466964286,
          "lon": 10.11945832142857
         },
         "domain": {
          "x": [
           0,
           1
          ],
          "y": [
           0,
           1
          ]
         },
         "style": "open-street-map",
         "zoom": 8
        },
        "margin": {
         "t": 60
        },
        "template": {
         "data": {
          "bar": [
           {
            "error_x": {
             "color": "#2a3f5f"
            },
            "error_y": {
             "color": "#2a3f5f"
            },
            "marker": {
             "line": {
              "color": "#E5ECF6",
              "width": 0.5
             }
            },
            "type": "bar"
           }
          ],
          "barpolar": [
           {
            "marker": {
             "line": {
              "color": "#E5ECF6",
              "width": 0.5
             }
            },
            "type": "barpolar"
           }
          ],
          "carpet": [
           {
            "aaxis": {
             "endlinecolor": "#2a3f5f",
             "gridcolor": "white",
             "linecolor": "white",
             "minorgridcolor": "white",
             "startlinecolor": "#2a3f5f"
            },
            "baxis": {
             "endlinecolor": "#2a3f5f",
             "gridcolor": "white",
             "linecolor": "white",
             "minorgridcolor": "white",
             "startlinecolor": "#2a3f5f"
            },
            "type": "carpet"
           }
          ],
          "choropleth": [
           {
            "colorbar": {
             "outlinewidth": 0,
             "ticks": ""
            },
            "type": "choropleth"
           }
          ],
          "contour": [
           {
            "colorbar": {
             "outlinewidth": 0,
             "ticks": ""
            },
            "colorscale": [
             [
              0,
              "#0d0887"
             ],
             [
              0.1111111111111111,
              "#46039f"
             ],
             [
              0.2222222222222222,
              "#7201a8"
             ],
             [
              0.3333333333333333,
              "#9c179e"
             ],
             [
              0.4444444444444444,
              "#bd3786"
             ],
             [
              0.5555555555555556,
              "#d8576b"
             ],
             [
              0.6666666666666666,
              "#ed7953"
             ],
             [
              0.7777777777777778,
              "#fb9f3a"
             ],
             [
              0.8888888888888888,
              "#fdca26"
             ],
             [
              1,
              "#f0f921"
             ]
            ],
            "type": "contour"
           }
          ],
          "contourcarpet": [
           {
            "colorbar": {
             "outlinewidth": 0,
             "ticks": ""
            },
            "type": "contourcarpet"
           }
          ],
          "heatmap": [
           {
            "colorbar": {
             "outlinewidth": 0,
             "ticks": ""
            },
            "colorscale": [
             [
              0,
              "#0d0887"
             ],
             [
              0.1111111111111111,
              "#46039f"
             ],
             [
              0.2222222222222222,
              "#7201a8"
             ],
             [
              0.3333333333333333,
              "#9c179e"
             ],
             [
              0.4444444444444444,
              "#bd3786"
             ],
             [
              0.5555555555555556,
              "#d8576b"
             ],
             [
              0.6666666666666666,
              "#ed7953"
             ],
             [
              0.7777777777777778,
              "#fb9f3a"
             ],
             [
              0.8888888888888888,
              "#fdca26"
             ],
             [
              1,
              "#f0f921"
             ]
            ],
            "type": "heatmap"
           }
          ],
          "heatmapgl": [
           {
            "colorbar": {
             "outlinewidth": 0,
             "ticks": ""
            },
            "colorscale": [
             [
              0,
              "#0d0887"
             ],
             [
              0.1111111111111111,
              "#46039f"
             ],
             [
              0.2222222222222222,
              "#7201a8"
             ],
             [
              0.3333333333333333,
              "#9c179e"
             ],
             [
              0.4444444444444444,
              "#bd3786"
             ],
             [
              0.5555555555555556,
              "#d8576b"
             ],
             [
              0.6666666666666666,
              "#ed7953"
             ],
             [
              0.7777777777777778,
              "#fb9f3a"
             ],
             [
              0.8888888888888888,
              "#fdca26"
             ],
             [
              1,
              "#f0f921"
             ]
            ],
            "type": "heatmapgl"
           }
          ],
          "histogram": [
           {
            "marker": {
             "colorbar": {
              "outlinewidth": 0,
              "ticks": ""
             }
            },
            "type": "histogram"
           }
          ],
          "histogram2d": [
           {
            "colorbar": {
             "outlinewidth": 0,
             "ticks": ""
            },
            "colorscale": [
             [
              0,
              "#0d0887"
             ],
             [
              0.1111111111111111,
              "#46039f"
             ],
             [
              0.2222222222222222,
              "#7201a8"
             ],
             [
              0.3333333333333333,
              "#9c179e"
             ],
             [
              0.4444444444444444,
              "#bd3786"
             ],
             [
              0.5555555555555556,
              "#d8576b"
             ],
             [
              0.6666666666666666,
              "#ed7953"
             ],
             [
              0.7777777777777778,
              "#fb9f3a"
             ],
             [
              0.8888888888888888,
              "#fdca26"
             ],
             [
              1,
              "#f0f921"
             ]
            ],
            "type": "histogram2d"
           }
          ],
          "histogram2dcontour": [
           {
            "colorbar": {
             "outlinewidth": 0,
             "ticks": ""
            },
            "colorscale": [
             [
              0,
              "#0d0887"
             ],
             [
              0.1111111111111111,
              "#46039f"
             ],
             [
              0.2222222222222222,
              "#7201a8"
             ],
             [
              0.3333333333333333,
              "#9c179e"
             ],
             [
              0.4444444444444444,
              "#bd3786"
             ],
             [
              0.5555555555555556,
              "#d8576b"
             ],
             [
              0.6666666666666666,
              "#ed7953"
             ],
             [
              0.7777777777777778,
              "#fb9f3a"
             ],
             [
              0.8888888888888888,
              "#fdca26"
             ],
             [
              1,
              "#f0f921"
             ]
            ],
            "type": "histogram2dcontour"
           }
          ],
          "mesh3d": [
           {
            "colorbar": {
             "outlinewidth": 0,
             "ticks": ""
            },
            "type": "mesh3d"
           }
          ],
          "parcoords": [
           {
            "line": {
             "colorbar": {
              "outlinewidth": 0,
              "ticks": ""
             }
            },
            "type": "parcoords"
           }
          ],
          "pie": [
           {
            "automargin": true,
            "type": "pie"
           }
          ],
          "scatter": [
           {
            "marker": {
             "colorbar": {
              "outlinewidth": 0,
              "ticks": ""
             }
            },
            "type": "scatter"
           }
          ],
          "scatter3d": [
           {
            "line": {
             "colorbar": {
              "outlinewidth": 0,
              "ticks": ""
             }
            },
            "marker": {
             "colorbar": {
              "outlinewidth": 0,
              "ticks": ""
             }
            },
            "type": "scatter3d"
           }
          ],
          "scattercarpet": [
           {
            "marker": {
             "colorbar": {
              "outlinewidth": 0,
              "ticks": ""
             }
            },
            "type": "scattercarpet"
           }
          ],
          "scattergeo": [
           {
            "marker": {
             "colorbar": {
              "outlinewidth": 0,
              "ticks": ""
             }
            },
            "type": "scattergeo"
           }
          ],
          "scattergl": [
           {
            "marker": {
             "colorbar": {
              "outlinewidth": 0,
              "ticks": ""
             }
            },
            "type": "scattergl"
           }
          ],
          "scattermapbox": [
           {
            "marker": {
             "colorbar": {
              "outlinewidth": 0,
              "ticks": ""
             }
            },
            "type": "scattermapbox"
           }
          ],
          "scatterpolar": [
           {
            "marker": {
             "colorbar": {
              "outlinewidth": 0,
              "ticks": ""
             }
            },
            "type": "scatterpolar"
           }
          ],
          "scatterpolargl": [
           {
            "marker": {
             "colorbar": {
              "outlinewidth": 0,
              "ticks": ""
             }
            },
            "type": "scatterpolargl"
           }
          ],
          "scatterternary": [
           {
            "marker": {
             "colorbar": {
              "outlinewidth": 0,
              "ticks": ""
             }
            },
            "type": "scatterternary"
           }
          ],
          "surface": [
           {
            "colorbar": {
             "outlinewidth": 0,
             "ticks": ""
            },
            "colorscale": [
             [
              0,
              "#0d0887"
             ],
             [
              0.1111111111111111,
              "#46039f"
             ],
             [
              0.2222222222222222,
              "#7201a8"
             ],
             [
              0.3333333333333333,
              "#9c179e"
             ],
             [
              0.4444444444444444,
              "#bd3786"
             ],
             [
              0.5555555555555556,
              "#d8576b"
             ],
             [
              0.6666666666666666,
              "#ed7953"
             ],
             [
              0.7777777777777778,
              "#fb9f3a"
             ],
             [
              0.8888888888888888,
              "#fdca26"
             ],
             [
              1,
              "#f0f921"
             ]
            ],
            "type": "surface"
           }
          ],
          "table": [
           {
            "cells": {
             "fill": {
              "color": "#EBF0F8"
             },
             "line": {
              "color": "white"
             }
            },
            "header": {
             "fill": {
              "color": "#C8D4E3"
             },
             "line": {
              "color": "white"
             }
            },
            "type": "table"
           }
          ]
         },
         "layout": {
          "annotationdefaults": {
           "arrowcolor": "#2a3f5f",
           "arrowhead": 0,
           "arrowwidth": 1
          },
          "coloraxis": {
           "colorbar": {
            "outlinewidth": 0,
            "ticks": ""
           }
          },
          "colorscale": {
           "diverging": [
            [
             0,
             "#8e0152"
            ],
            [
             0.1,
             "#c51b7d"
            ],
            [
             0.2,
             "#de77ae"
            ],
            [
             0.3,
             "#f1b6da"
            ],
            [
             0.4,
             "#fde0ef"
            ],
            [
             0.5,
             "#f7f7f7"
            ],
            [
             0.6,
             "#e6f5d0"
            ],
            [
             0.7,
             "#b8e186"
            ],
            [
             0.8,
             "#7fbc41"
            ],
            [
             0.9,
             "#4d9221"
            ],
            [
             1,
             "#276419"
            ]
           ],
           "sequential": [
            [
             0,
             "#0d0887"
            ],
            [
             0.1111111111111111,
             "#46039f"
            ],
            [
             0.2222222222222222,
             "#7201a8"
            ],
            [
             0.3333333333333333,
             "#9c179e"
            ],
            [
             0.4444444444444444,
             "#bd3786"
            ],
            [
             0.5555555555555556,
             "#d8576b"
            ],
            [
             0.6666666666666666,
             "#ed7953"
            ],
            [
             0.7777777777777778,
             "#fb9f3a"
            ],
            [
             0.8888888888888888,
             "#fdca26"
            ],
            [
             1,
             "#f0f921"
            ]
           ],
           "sequentialminus": [
            [
             0,
             "#0d0887"
            ],
            [
             0.1111111111111111,
             "#46039f"
            ],
            [
             0.2222222222222222,
             "#7201a8"
            ],
            [
             0.3333333333333333,
             "#9c179e"
            ],
            [
             0.4444444444444444,
             "#bd3786"
            ],
            [
             0.5555555555555556,
             "#d8576b"
            ],
            [
             0.6666666666666666,
             "#ed7953"
            ],
            [
             0.7777777777777778,
             "#fb9f3a"
            ],
            [
             0.8888888888888888,
             "#fdca26"
            ],
            [
             1,
             "#f0f921"
            ]
           ]
          },
          "colorway": [
           "#636efa",
           "#EF553B",
           "#00cc96",
           "#ab63fa",
           "#FFA15A",
           "#19d3f3",
           "#FF6692",
           "#B6E880",
           "#FF97FF",
           "#FECB52"
          ],
          "font": {
           "color": "#2a3f5f"
          },
          "geo": {
           "bgcolor": "white",
           "lakecolor": "white",
           "landcolor": "#E5ECF6",
           "showlakes": true,
           "showland": true,
           "subunitcolor": "white"
          },
          "hoverlabel": {
           "align": "left"
          },
          "hovermode": "closest",
          "mapbox": {
           "style": "light"
          },
          "paper_bgcolor": "white",
          "plot_bgcolor": "#E5ECF6",
          "polar": {
           "angularaxis": {
            "gridcolor": "white",
            "linecolor": "white",
            "ticks": ""
           },
           "bgcolor": "#E5ECF6",
           "radialaxis": {
            "gridcolor": "white",
            "linecolor": "white",
            "ticks": ""
           }
          },
          "scene": {
           "xaxis": {
            "backgroundcolor": "#E5ECF6",
            "gridcolor": "white",
            "gridwidth": 2,
            "linecolor": "white",
            "showbackground": true,
            "ticks": "",
            "zerolinecolor": "white"
           },
           "yaxis": {
            "backgroundcolor": "#E5ECF6",
            "gridcolor": "white",
            "gridwidth": 2,
            "linecolor": "white",
            "showbackground": true,
            "ticks": "",
            "zerolinecolor": "white"
           },
           "zaxis": {
            "backgroundcolor": "#E5ECF6",
            "gridcolor": "white",
            "gridwidth": 2,
            "linecolor": "white",
            "showbackground": true,
            "ticks": "",
            "zerolinecolor": "white"
           }
          },
          "shapedefaults": {
           "line": {
            "color": "#2a3f5f"
           }
          },
          "ternary": {
           "aaxis": {
            "gridcolor": "white",
            "linecolor": "white",
            "ticks": ""
           },
           "baxis": {
            "gridcolor": "white",
            "linecolor": "white",
            "ticks": ""
           },
           "bgcolor": "#E5ECF6",
           "caxis": {
            "gridcolor": "white",
            "linecolor": "white",
            "ticks": ""
           }
          },
          "title": {
           "x": 0.05
          },
          "xaxis": {
           "automargin": true,
           "gridcolor": "white",
           "linecolor": "white",
           "ticks": "",
           "title": {
            "standoff": 15
           },
           "zerolinecolor": "white",
           "zerolinewidth": 2
          },
          "yaxis": {
           "automargin": true,
           "gridcolor": "white",
           "linecolor": "white",
           "ticks": "",
           "title": {
            "standoff": 15
           },
           "zerolinecolor": "white",
           "zerolinewidth": 2
          }
         }
        }
       }
      },
      "text/html": [
       "<div>\n",
       "        \n",
       "        \n",
       "            <div id=\"d6ec9db2-413a-4ed1-84b2-93812b383196\" class=\"plotly-graph-div\" style=\"height:525px; width:100%;\"></div>\n",
       "            <script type=\"text/javascript\">\n",
       "                require([\"plotly\"], function(Plotly) {\n",
       "                    window.PLOTLYENV=window.PLOTLYENV || {};\n",
       "                    \n",
       "                if (document.getElementById(\"d6ec9db2-413a-4ed1-84b2-93812b383196\")) {\n",
       "                    Plotly.newPlot(\n",
       "                        'd6ec9db2-413a-4ed1-84b2-93812b383196',\n",
       "                        [{\"hovertemplate\": \"<b>%{hovertext}</b><br><br>LATITUDE=%{lat}<br>LONGITUDE=%{lon}<extra></extra>\", \"hovertext\": [\"SAN MATTEO\", \"IVECO SPA KUEHNE NAGEL\", \"CNH FRANCE SA\", \"FONTANA FASTENERS SPA\", \"PIROVANO F.LLI SPA\", \"ANIXTER ITALIA SRL\", \"BONDOLI E CAMPESE SPA\", \"SK WELLMAN 2\", \"FPT INDUSTRIAL SPA\", \"CORCOS 2\", \"FASTER 2\", \"SBE VARVIT\", \"OPTIMAS OE SOLUTIONS SRL\", \"CARRARO DRIVE TECH\", \"COBO\", \"GALVANI BULLONERIA\", \"SKF INDUSTRIE\", \"ISB\", \"MARTINPLAST\", \"INSIT INDUSTRIA\", \"CORCOS SIMRIT\", \"RMA SAS DI STRUMIA\", \"CAGNASSO SRL\", \"CBM\", \"CNH DEUTSCHLAND GMBH\", \"CORONA\", \"GRAZIANO TRASMISSIONI SPA\", \"DAYCO EUROPE SRL\", \"CCVI\", \"DENSO THERMAL SYSTEM SPA\", \"FLUORTEN\", \"ANGST+PFISTER\", \"HYDAC SPA\", \"CEC\", \"V G V SRL\", \"FOR SPA\", \"RIGHI VILIAM SRL\", \"JESI CNH\", \"CIAM\", \"ROBERT BOSCH GMBH BRANCH\", \"OGNIBENE POWER 2\", \"GRAZIOLI ANGELO E FLLI SRL\", \"BERCO SPA\", \"SAG TUBI\", \"OMG\", \"T ERRE SRL\", \"BUCCI SRL\", \"SERIGRAFICA 76 SNC\", \"FLT & METALS SRL\", \"TECNORD SRL\", \"CNH LECCE\", \"ADLER PLASTIC SPA\", \"VIA PICO CNH\", \"BOSCH REXROTH\", \"LANDINI SPA\", \"VIMI\", \"OVERMEK SRL\", \"BBC 2\", \"CORAM\", \"OMR\", \"AGCO ITALIA\", \"STABILUS GMBH\", \"ITALTRACTOR\", \"OFFICINE VICA SPA\", \"SELMAT SRL\", \"ATHENA\", \"SCHAEFFLER ITALIA SRL\", \"FRATELLI FINI SRL\", \"STIL GOMMA SRL\", \"TRENTON\", \"GKN DRIVELINE BRUNICO SPA\", \"LAVERDA\", \"OFFICINA MECCANICA BERSANO\", \"FRAP\", \"VILLA VITTORIO OFF.SRL\", \"GLACIER VANDERVELL ITALY\", \"LODI SRL\", \"SIAC SPA\", \"MAHLE COMPONENTI MOTORI IATALIA SPA\", \"CAB PLUS JESY SRL\", \"AUTOFORNITURE MOLINO\", \"MTA\", \"FARMA\", \"PEAR BEARING SRL\", \"OFFICINE RIVA SPA\", \"SEWS CABIND\", \"FAIRE\", \"SAINT GOBAIN 2\", \"MONDIAL SPA\", \"SALGOMMA\", \"CGA SRL\", \"METALLURGICA VALCHIESE\", \"ALFAGOMMA HYDRAULIC SPA\", \"SARGOMMA SRL\", \"MARTINPLAST 2\", \"SALP DI COLANGELO AGOSTINO E  MARCHE\", \"V AR VIT SPA\", \"LSL MARCHESE VITTORINO\", \"TRISTONE FLOWTECH\", \"GLOBAL SYSTEMS INTERNATIONAL SRL\", \"CIMA SPA\", \"METZELER AUTOMOTIVE\", \"NUOVA MINI MEC SRL\", \"TIMKEN EUROPE\", \"USCO SPA\", \"CAVALLINI ANDREA\", \"LOBO\", \"OTS GROUP\", \"MANFREDINI SRL\", \"GATES\", \"M.A.P. MECC.ALTA PRECISIONE\", \"DAYCO EUROPE\"], \"lat\": [44.6824, 44.6338, 49.0988, 44.5152, 45.6839, 45.4286, 44.4494, 45.4121, 45.5046, 43.7726, 45.4673, 44.7228, 45.5066, 42.2655, 44.7574, 44.5153, 44.5217, 44.6448, 45.5764, 44.8165, 45.4541, 45.1356, 45.1461, 44.6268, 48.3583, 45.0693, 45.0073, 45.4268, 45.523537, 40.9361, 45.6254, 47.5204, 45.5668, 44.5559, 45.3375, 44.7692, 44.7439, 43.534538, 44.693003, 45.0143, 44.7513, 45.562146, 44.413708, 44.82858, 44.603732, 44.7185, 41.980347, 44.693718, 45.764764, 44.650577, 40.39448, 40.973064, 44.656332, 44.409132, 44.872638, 44.829316, 43.2957, 44.4623, 45.575087, 45.262841, 44.920363, 44.88464, 44.5443, 45.062047, 45.1113, 45.356393, 45.429869, 44.489463, 45.620201, 44.290965, 46.9973, 45.6933, 45.3459, 45.0086, 45.551798, 46.1041, 44.870323, 45.5866, 44.9511, 43.5414, 45.176581, 45.1523, 44.5026, 45.4376, 45.8465, 45.0824, 45.5731, 44.2433, 44.5317, 45.1485, 44.5957, 45.6434, 45.6005, 45.0951, 44.9748, 45.0131, 44.7228, 45.1113, 45.2099, 44.7886, 44.4999, 45.2181, 44.8326, 48.0977, 44.6793, 44.6738, 45.4833, 44.5589, 44.5914, 45.5325, 45.617, 45.4268], \"legendgroup\": \"\", \"lon\": [10.941, 11.392, 2.7441, 11.325, 9.3159, 9.2864, 12.217, 9.9342, 12.0195, 11.1223, 9.5047, 10.6492, 10.1648, 14.3237, 10.6014, 11.3253, 11.2672, 10.7732, 9.1029, 7.9536, 10.8919, 7.6341, 7.7315, 10.9762, 9.9319, 7.5478, 7.5421, 7.8826, 11.590383, 14.8216, 9.8938, 8.5949, 9.3283, 11.1566, 10.3405, 11.4919, 11.0337, 13.270721, 10.45769, 7.620638, 10.6626, 9.535991, 11.736908, 10.711401, 11.029787, 11.1148, 12.737496, 10.454531, 9.213766, 10.957217, 18.108484, 14.375289, 10.92286, 10.838975, 10.808534, 10.709803, 12.3414, 11.2732, 9.944564, 10.368401, 10.256695, 7.300107, 11.1778, 7.541951, 7.2693, 11.420112, 8.210294, 11.085999, 9.898617, 10.574919, 11.927132, 11.5601, 7.5833, 7.4831, 9.608481, 11.1015, 10.840465, 9.5666, 7.6599, 13.2832, 7.588221, 9.6841, 11.5639, 11.7728, 9.4051, 7.5827, 9.2485, 11.6492, 11.3576, 7.7089, 11.0668, 10.4021, 9.3616, 7.6421, 7.7286, 7.4823, 10.649, 7.6882, 7.6158, 10.8595, 11.4276, 7.6082, 10.7121, 7.3626, 10.9392, 10.9347, 9.0343, 11.0416, 11.2773, 9.1679, 9.0364, 7.8826], \"marker\": {\"color\": \"#636efa\"}, \"mode\": \"markers\", \"name\": \"\", \"showlegend\": false, \"subplot\": \"mapbox\", \"type\": \"scattermapbox\"}],\n",
       "                        {\"legend\": {\"tracegroupgap\": 0}, \"mapbox\": {\"center\": {\"lat\": 44.95303466964286, \"lon\": 10.11945832142857}, \"domain\": {\"x\": [0.0, 1.0], \"y\": [0.0, 1.0]}, \"style\": \"open-street-map\", \"zoom\": 8}, \"margin\": {\"t\": 60}, \"template\": {\"data\": {\"bar\": [{\"error_x\": {\"color\": \"#2a3f5f\"}, \"error_y\": {\"color\": \"#2a3f5f\"}, \"marker\": {\"line\": {\"color\": \"#E5ECF6\", \"width\": 0.5}}, \"type\": \"bar\"}], \"barpolar\": [{\"marker\": {\"line\": {\"color\": \"#E5ECF6\", \"width\": 0.5}}, \"type\": \"barpolar\"}], \"carpet\": [{\"aaxis\": {\"endlinecolor\": \"#2a3f5f\", \"gridcolor\": \"white\", \"linecolor\": \"white\", \"minorgridcolor\": \"white\", \"startlinecolor\": \"#2a3f5f\"}, \"baxis\": {\"endlinecolor\": \"#2a3f5f\", \"gridcolor\": \"white\", \"linecolor\": \"white\", \"minorgridcolor\": \"white\", \"startlinecolor\": \"#2a3f5f\"}, \"type\": \"carpet\"}], \"choropleth\": [{\"colorbar\": {\"outlinewidth\": 0, \"ticks\": \"\"}, \"type\": \"choropleth\"}], \"contour\": [{\"colorbar\": {\"outlinewidth\": 0, \"ticks\": \"\"}, \"colorscale\": [[0.0, \"#0d0887\"], [0.1111111111111111, \"#46039f\"], [0.2222222222222222, \"#7201a8\"], [0.3333333333333333, \"#9c179e\"], [0.4444444444444444, \"#bd3786\"], [0.5555555555555556, \"#d8576b\"], [0.6666666666666666, \"#ed7953\"], [0.7777777777777778, \"#fb9f3a\"], [0.8888888888888888, \"#fdca26\"], [1.0, \"#f0f921\"]], \"type\": \"contour\"}], \"contourcarpet\": [{\"colorbar\": {\"outlinewidth\": 0, \"ticks\": \"\"}, \"type\": \"contourcarpet\"}], \"heatmap\": [{\"colorbar\": {\"outlinewidth\": 0, \"ticks\": \"\"}, \"colorscale\": [[0.0, \"#0d0887\"], [0.1111111111111111, \"#46039f\"], [0.2222222222222222, \"#7201a8\"], [0.3333333333333333, \"#9c179e\"], [0.4444444444444444, \"#bd3786\"], [0.5555555555555556, \"#d8576b\"], [0.6666666666666666, \"#ed7953\"], [0.7777777777777778, \"#fb9f3a\"], [0.8888888888888888, \"#fdca26\"], [1.0, \"#f0f921\"]], \"type\": \"heatmap\"}], \"heatmapgl\": [{\"colorbar\": {\"outlinewidth\": 0, \"ticks\": \"\"}, \"colorscale\": [[0.0, \"#0d0887\"], [0.1111111111111111, \"#46039f\"], [0.2222222222222222, \"#7201a8\"], [0.3333333333333333, \"#9c179e\"], [0.4444444444444444, \"#bd3786\"], [0.5555555555555556, \"#d8576b\"], [0.6666666666666666, \"#ed7953\"], [0.7777777777777778, \"#fb9f3a\"], [0.8888888888888888, \"#fdca26\"], [1.0, \"#f0f921\"]], \"type\": \"heatmapgl\"}], \"histogram\": [{\"marker\": {\"colorbar\": {\"outlinewidth\": 0, \"ticks\": \"\"}}, \"type\": \"histogram\"}], \"histogram2d\": [{\"colorbar\": {\"outlinewidth\": 0, \"ticks\": \"\"}, \"colorscale\": [[0.0, \"#0d0887\"], [0.1111111111111111, \"#46039f\"], [0.2222222222222222, \"#7201a8\"], [0.3333333333333333, \"#9c179e\"], [0.4444444444444444, \"#bd3786\"], [0.5555555555555556, \"#d8576b\"], [0.6666666666666666, \"#ed7953\"], [0.7777777777777778, \"#fb9f3a\"], [0.8888888888888888, \"#fdca26\"], [1.0, \"#f0f921\"]], \"type\": \"histogram2d\"}], \"histogram2dcontour\": [{\"colorbar\": {\"outlinewidth\": 0, \"ticks\": \"\"}, \"colorscale\": [[0.0, \"#0d0887\"], [0.1111111111111111, \"#46039f\"], [0.2222222222222222, \"#7201a8\"], [0.3333333333333333, \"#9c179e\"], [0.4444444444444444, \"#bd3786\"], [0.5555555555555556, \"#d8576b\"], [0.6666666666666666, \"#ed7953\"], [0.7777777777777778, \"#fb9f3a\"], [0.8888888888888888, \"#fdca26\"], [1.0, \"#f0f921\"]], \"type\": \"histogram2dcontour\"}], \"mesh3d\": [{\"colorbar\": {\"outlinewidth\": 0, \"ticks\": \"\"}, \"type\": \"mesh3d\"}], \"parcoords\": [{\"line\": {\"colorbar\": {\"outlinewidth\": 0, \"ticks\": \"\"}}, \"type\": \"parcoords\"}], \"pie\": [{\"automargin\": true, \"type\": \"pie\"}], \"scatter\": [{\"marker\": {\"colorbar\": {\"outlinewidth\": 0, \"ticks\": \"\"}}, \"type\": \"scatter\"}], \"scatter3d\": [{\"line\": {\"colorbar\": {\"outlinewidth\": 0, \"ticks\": \"\"}}, \"marker\": {\"colorbar\": {\"outlinewidth\": 0, \"ticks\": \"\"}}, \"type\": \"scatter3d\"}], \"scattercarpet\": [{\"marker\": {\"colorbar\": {\"outlinewidth\": 0, \"ticks\": \"\"}}, \"type\": \"scattercarpet\"}], \"scattergeo\": [{\"marker\": {\"colorbar\": {\"outlinewidth\": 0, \"ticks\": \"\"}}, \"type\": \"scattergeo\"}], \"scattergl\": [{\"marker\": {\"colorbar\": {\"outlinewidth\": 0, \"ticks\": \"\"}}, \"type\": \"scattergl\"}], \"scattermapbox\": [{\"marker\": {\"colorbar\": {\"outlinewidth\": 0, \"ticks\": \"\"}}, \"type\": \"scattermapbox\"}], \"scatterpolar\": [{\"marker\": {\"colorbar\": {\"outlinewidth\": 0, \"ticks\": \"\"}}, \"type\": \"scatterpolar\"}], \"scatterpolargl\": [{\"marker\": {\"colorbar\": {\"outlinewidth\": 0, \"ticks\": \"\"}}, \"type\": \"scatterpolargl\"}], \"scatterternary\": [{\"marker\": {\"colorbar\": {\"outlinewidth\": 0, \"ticks\": \"\"}}, \"type\": \"scatterternary\"}], \"surface\": [{\"colorbar\": {\"outlinewidth\": 0, \"ticks\": \"\"}, \"colorscale\": [[0.0, \"#0d0887\"], [0.1111111111111111, \"#46039f\"], [0.2222222222222222, \"#7201a8\"], [0.3333333333333333, \"#9c179e\"], [0.4444444444444444, \"#bd3786\"], [0.5555555555555556, \"#d8576b\"], [0.6666666666666666, \"#ed7953\"], [0.7777777777777778, \"#fb9f3a\"], [0.8888888888888888, \"#fdca26\"], [1.0, \"#f0f921\"]], \"type\": \"surface\"}], \"table\": [{\"cells\": {\"fill\": {\"color\": \"#EBF0F8\"}, \"line\": {\"color\": \"white\"}}, \"header\": {\"fill\": {\"color\": \"#C8D4E3\"}, \"line\": {\"color\": \"white\"}}, \"type\": \"table\"}]}, \"layout\": {\"annotationdefaults\": {\"arrowcolor\": \"#2a3f5f\", \"arrowhead\": 0, \"arrowwidth\": 1}, \"coloraxis\": {\"colorbar\": {\"outlinewidth\": 0, \"ticks\": \"\"}}, \"colorscale\": {\"diverging\": [[0, \"#8e0152\"], [0.1, \"#c51b7d\"], [0.2, \"#de77ae\"], [0.3, \"#f1b6da\"], [0.4, \"#fde0ef\"], [0.5, \"#f7f7f7\"], [0.6, \"#e6f5d0\"], [0.7, \"#b8e186\"], [0.8, \"#7fbc41\"], [0.9, \"#4d9221\"], [1, \"#276419\"]], \"sequential\": [[0.0, \"#0d0887\"], [0.1111111111111111, \"#46039f\"], [0.2222222222222222, \"#7201a8\"], [0.3333333333333333, \"#9c179e\"], [0.4444444444444444, \"#bd3786\"], [0.5555555555555556, \"#d8576b\"], [0.6666666666666666, \"#ed7953\"], [0.7777777777777778, \"#fb9f3a\"], [0.8888888888888888, \"#fdca26\"], [1.0, \"#f0f921\"]], \"sequentialminus\": [[0.0, \"#0d0887\"], [0.1111111111111111, \"#46039f\"], [0.2222222222222222, \"#7201a8\"], [0.3333333333333333, \"#9c179e\"], [0.4444444444444444, \"#bd3786\"], [0.5555555555555556, \"#d8576b\"], [0.6666666666666666, \"#ed7953\"], [0.7777777777777778, \"#fb9f3a\"], [0.8888888888888888, \"#fdca26\"], [1.0, \"#f0f921\"]]}, \"colorway\": [\"#636efa\", \"#EF553B\", \"#00cc96\", \"#ab63fa\", \"#FFA15A\", \"#19d3f3\", \"#FF6692\", \"#B6E880\", \"#FF97FF\", \"#FECB52\"], \"font\": {\"color\": \"#2a3f5f\"}, \"geo\": {\"bgcolor\": \"white\", \"lakecolor\": \"white\", \"landcolor\": \"#E5ECF6\", \"showlakes\": true, \"showland\": true, \"subunitcolor\": \"white\"}, \"hoverlabel\": {\"align\": \"left\"}, \"hovermode\": \"closest\", \"mapbox\": {\"style\": \"light\"}, \"paper_bgcolor\": \"white\", \"plot_bgcolor\": \"#E5ECF6\", \"polar\": {\"angularaxis\": {\"gridcolor\": \"white\", \"linecolor\": \"white\", \"ticks\": \"\"}, \"bgcolor\": \"#E5ECF6\", \"radialaxis\": {\"gridcolor\": \"white\", \"linecolor\": \"white\", \"ticks\": \"\"}}, \"scene\": {\"xaxis\": {\"backgroundcolor\": \"#E5ECF6\", \"gridcolor\": \"white\", \"gridwidth\": 2, \"linecolor\": \"white\", \"showbackground\": true, \"ticks\": \"\", \"zerolinecolor\": \"white\"}, \"yaxis\": {\"backgroundcolor\": \"#E5ECF6\", \"gridcolor\": \"white\", \"gridwidth\": 2, \"linecolor\": \"white\", \"showbackground\": true, \"ticks\": \"\", \"zerolinecolor\": \"white\"}, \"zaxis\": {\"backgroundcolor\": \"#E5ECF6\", \"gridcolor\": \"white\", \"gridwidth\": 2, \"linecolor\": \"white\", \"showbackground\": true, \"ticks\": \"\", \"zerolinecolor\": \"white\"}}, \"shapedefaults\": {\"line\": {\"color\": \"#2a3f5f\"}}, \"ternary\": {\"aaxis\": {\"gridcolor\": \"white\", \"linecolor\": \"white\", \"ticks\": \"\"}, \"baxis\": {\"gridcolor\": \"white\", \"linecolor\": \"white\", \"ticks\": \"\"}, \"bgcolor\": \"#E5ECF6\", \"caxis\": {\"gridcolor\": \"white\", \"linecolor\": \"white\", \"ticks\": \"\"}}, \"title\": {\"x\": 0.05}, \"xaxis\": {\"automargin\": true, \"gridcolor\": \"white\", \"linecolor\": \"white\", \"ticks\": \"\", \"title\": {\"standoff\": 15}, \"zerolinecolor\": \"white\", \"zerolinewidth\": 2}, \"yaxis\": {\"automargin\": true, \"gridcolor\": \"white\", \"linecolor\": \"white\", \"ticks\": \"\", \"title\": {\"standoff\": 15}, \"zerolinecolor\": \"white\", \"zerolinewidth\": 2}}}},\n",
       "                        {\"responsive\": true}\n",
       "                    ).then(function(){\n",
       "                            \n",
       "var gd = document.getElementById('d6ec9db2-413a-4ed1-84b2-93812b383196');\n",
       "var x = new MutationObserver(function (mutations, observer) {{\n",
       "        var display = window.getComputedStyle(gd).display;\n",
       "        if (!display || display === 'none') {{\n",
       "            console.log([gd, 'removed!']);\n",
       "            Plotly.purge(gd);\n",
       "            observer.disconnect();\n",
       "        }}\n",
       "}});\n",
       "\n",
       "// Listen for the removal of the full notebook cells\n",
       "var notebookContainer = gd.closest('#notebook-container');\n",
       "if (notebookContainer) {{\n",
       "    x.observe(notebookContainer, {childList: true});\n",
       "}}\n",
       "\n",
       "// Listen for the clearing of the current output cell\n",
       "var outputEl = gd.closest('.output');\n",
       "if (outputEl) {{\n",
       "    x.observe(outputEl, {childList: true});\n",
       "}}\n",
       "\n",
       "                        })\n",
       "                };\n",
       "                });\n",
       "            </script>\n",
       "        </div>"
      ]
     },
     "metadata": {},
     "output_type": "display_data"
    }
   ],
   "source": [
    "fig = px.scatter_mapbox(D_table, \n",
    "                        lat=latCol, \n",
    "                        lon=lonCol,\n",
    "                        hover_name=descrCol)\n",
    "                        \n",
    "fig.update_layout(mapbox_style=\"open-street-map\")\n",
    "plotly.offline.plot(fig, filename = f\"{path_results}//supplyChainNodes.html\", auto_open=False)\n",
    "fig.show()"
   ]
  }
 ],
 "metadata": {
  "kernelspec": {
   "display_name": "Python 3",
   "language": "python",
   "name": "python3"
  },
  "language_info": {
   "codemirror_mode": {
    "name": "ipython",
    "version": 3
   },
   "file_extension": ".py",
   "mimetype": "text/x-python",
   "name": "python",
   "nbconvert_exporter": "python",
   "pygments_lexer": "ipython3",
   "version": "3.8.2"
  }
 },
 "nbformat": 4,
 "nbformat_minor": 4
}
