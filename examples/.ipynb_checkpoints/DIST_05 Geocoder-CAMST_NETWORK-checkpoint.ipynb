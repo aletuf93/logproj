{
 "cells": [
  {
   "cell_type": "markdown",
   "metadata": {},
   "source": [
    "# Geocoder\n",
    "*This notebook illustrates how to define a road graph of a supply chain*\n",
    "***\n",
    "Alessandro Tufano 2020"
   ]
  },
  {
   "cell_type": "markdown",
   "metadata": {},
   "source": [
    "### Import packages"
   ]
  },
  {
   "cell_type": "code",
   "execution_count": 2,
   "metadata": {},
   "outputs": [],
   "source": [
    "# %% append functions path\n",
    "import sys; sys.path.insert(0, '..') #add the above level with the package\n",
    "import numpy as np\n",
    "from logproj.P6_placementProblem.distribution_geocoder import addressGeocoder, directGeocoder"
   ]
  },
  {
   "cell_type": "markdown",
   "metadata": {},
   "source": [
    "### Set data fields"
   ]
  },
  {
   "cell_type": "code",
   "execution_count": 3,
   "metadata": {},
   "outputs": [],
   "source": [
    "dbName='CAMST_NETWORK'"
   ]
  },
  {
   "cell_type": "markdown",
   "metadata": {},
   "source": [
    "### Import data from database"
   ]
  },
  {
   "cell_type": "code",
   "execution_count": 4,
   "metadata": {},
   "outputs": [
    {
     "name": "stdout",
     "output_type": "stream",
     "text": [
      "**MONGO: query with filters: {'LATITUDE_api': {'$exists': False}}, time 2020-05-15 16:36:05\n",
      "**MONGO: end query, time: 0.1 sec\n",
      "**MONGO: query with filters: {'LATITUDE_api': nan}, time 2020-05-15 16:36:05\n",
      "**MONGO: end query, time: 0.0 sec\n"
     ]
    }
   ],
   "source": [
    "import database.mongo_loginManager as mdb\n",
    "import database.models.odm_distribution_mongo as dist_model\n",
    "mdb.setConnection(dbName)\n",
    "\n",
    "D_table_1=mdb.queryTodf(dist_model.node.objects(LATITUDE_api__exists=False))\n",
    "D_table_2=mdb.queryTodf(dist_model.node.objects(LATITUDE_api=np.nan))\n",
    "D_table=D_table_1.append(D_table_2)\n",
    "if 'LATITUDE' not in D_table.columns:\n",
    "    D_table['LATITUDE'] = D_table['LONGITUDE']=np.nan\n"
   ]
  },
  {
   "cell_type": "markdown",
   "metadata": {},
   "source": [
    "### Geocode"
   ]
  },
  {
   "cell_type": "code",
   "execution_count": null,
   "metadata": {},
   "outputs": [],
   "source": [
    "for index, row in D_table.iterrows():\n",
    "    #print(row)\n",
    "    # se ho latitudine e longitudie uso direct georeference\n",
    "    if (str(row['LATITUDE']).lower() != 'nan') & (str(row['LONGITUDE']).lower() != 'nan'):\n",
    "        dict_geo = row[['LATITUDE','LONGITUDE']].to_dict()\n",
    "        geoData = directGeocoder(dict_geo)\n",
    "    \n",
    "    elif (str(row['CITY']).lower() != 'nan') & (str(row['ADDRESS']).lower() != 'nan'):\n",
    "        dict_address = row[['CITY','ADDRESS']].to_dict()\n",
    "        geoData = addressGeocoder(dict_address)\n",
    "    \n",
    "        if len(geoData)==0:\n",
    "            dict_address = row[['CITY']].to_dict()\n",
    "            geoData = addressGeocoder(dict_address)\n",
    "    \n",
    "    if len(geoData)>0:\n",
    "        # update database\n",
    "        dist_model.node.objects(NODE_CODE=row['_id']).update_one(**geoData,upsert=True)"
   ]
  }
 ],
 "metadata": {
  "kernelspec": {
   "display_name": "Python 3",
   "language": "python",
   "name": "python3"
  },
  "language_info": {
   "codemirror_mode": {
    "name": "ipython",
    "version": 3
   },
   "file_extension": ".py",
   "mimetype": "text/x-python",
   "name": "python",
   "nbconvert_exporter": "python",
   "pygments_lexer": "ipython3",
   "version": "3.8.2"
  }
 },
 "nbformat": 4,
 "nbformat_minor": 4
}
