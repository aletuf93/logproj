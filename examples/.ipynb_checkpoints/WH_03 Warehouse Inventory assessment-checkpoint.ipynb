{
 "cells": [
  {
   "cell_type": "markdown",
   "metadata": {},
   "source": [
    "# Warehouse Inventory assessment\n",
    "*This notebook illustrates how to assess the inventory position of a storage system.\n",
    "*Use the virtual environment logproj.yml to run this notebook.*\n",
    "***\n",
    "Alessandro Tufano 2020"
   ]
  },
  {
   "cell_type": "markdown",
   "metadata": {},
   "source": [
    "### Import packages"
   ]
  },
  {
   "cell_type": "code",
   "execution_count": 1,
   "metadata": {},
   "outputs": [],
   "source": [
    "# %% append functions path\n",
    "import sys; sys.path.insert(0, '..') #add the above level with the package\n",
    "\n",
    "import pandas as pd\n",
    "import numpy as np\n",
    "\n",
    "from IPython.display import display, HTML #display dataframe\n",
    "\n",
    "#import utilities\n",
    "from logproj.utilities import creaCartella"
   ]
  },
  {
   "cell_type": "markdown",
   "metadata": {},
   "source": [
    "### Set data fields"
   ]
  },
  {
   "cell_type": "code",
   "execution_count": 2,
   "metadata": {},
   "outputs": [],
   "source": [
    "string_casestudy = 'TOY_DATA'"
   ]
  },
  {
   "cell_type": "markdown",
   "metadata": {},
   "source": [
    "### Import data"
   ]
  },
  {
   "cell_type": "code",
   "execution_count": 3,
   "metadata": {},
   "outputs": [],
   "source": [
    "# %% import data\n",
    "from logproj.data_generator_warehouse import generateWarehouseData\n",
    "D_locations, D_SKUs, D_movements, D_inventory = generateWarehouseData()\n"
   ]
  },
  {
   "cell_type": "code",
   "execution_count": 4,
   "metadata": {},
   "outputs": [
    {
     "data": {
      "text/html": [
       "<table border=\"1\" class=\"dataframe\">\n",
       "  <thead>\n",
       "    <tr style=\"text-align: right;\">\n",
       "      <th></th>\n",
       "      <th>NODECODE</th>\n",
       "      <th>IDWH</th>\n",
       "      <th>WHSUBAREA</th>\n",
       "      <th>IDLOCATION</th>\n",
       "      <th>LOCCODEX</th>\n",
       "      <th>LOCCODEY</th>\n",
       "      <th>LOCCODEZ</th>\n",
       "      <th>RACK</th>\n",
       "      <th>BAY</th>\n",
       "      <th>LEVEL</th>\n",
       "    </tr>\n",
       "  </thead>\n",
       "  <tbody>\n",
       "    <tr>\n",
       "      <th>0</th>\n",
       "      <td>1</td>\n",
       "      <td>LOGICAL_WH1</td>\n",
       "      <td>AREA 1</td>\n",
       "      <td>1</td>\n",
       "      <td>0</td>\n",
       "      <td>0</td>\n",
       "      <td>0</td>\n",
       "      <td>0</td>\n",
       "      <td>0</td>\n",
       "      <td>0</td>\n",
       "    </tr>\n",
       "    <tr>\n",
       "      <th>0</th>\n",
       "      <td>1</td>\n",
       "      <td>LOGICAL_WH1</td>\n",
       "      <td>AREA 1</td>\n",
       "      <td>2</td>\n",
       "      <td>0</td>\n",
       "      <td>0</td>\n",
       "      <td>1200</td>\n",
       "      <td>0</td>\n",
       "      <td>0</td>\n",
       "      <td>1</td>\n",
       "    </tr>\n",
       "    <tr>\n",
       "      <th>0</th>\n",
       "      <td>1</td>\n",
       "      <td>FAKE</td>\n",
       "      <td>AREA 1</td>\n",
       "      <td>3</td>\n",
       "      <td>0</td>\n",
       "      <td>0</td>\n",
       "      <td>2400</td>\n",
       "      <td>0</td>\n",
       "      <td>0</td>\n",
       "      <td>2</td>\n",
       "    </tr>\n",
       "    <tr>\n",
       "      <th>0</th>\n",
       "      <td>1</td>\n",
       "      <td>LOGICAL_WH1</td>\n",
       "      <td>AREA 1</td>\n",
       "      <td>4</td>\n",
       "      <td>0</td>\n",
       "      <td>0</td>\n",
       "      <td>3600</td>\n",
       "      <td>0</td>\n",
       "      <td>0</td>\n",
       "      <td>3</td>\n",
       "    </tr>\n",
       "    <tr>\n",
       "      <th>0</th>\n",
       "      <td>1</td>\n",
       "      <td>LOGICAL_WH2</td>\n",
       "      <td>AREA 1</td>\n",
       "      <td>5</td>\n",
       "      <td>0</td>\n",
       "      <td>0</td>\n",
       "      <td>4800</td>\n",
       "      <td>0</td>\n",
       "      <td>0</td>\n",
       "      <td>4</td>\n",
       "    </tr>\n",
       "  </tbody>\n",
       "</table>"
      ],
      "text/plain": [
       "<IPython.core.display.HTML object>"
      ]
     },
     "metadata": {},
     "output_type": "display_data"
    }
   ],
   "source": [
    "#print locations dataframe\n",
    "display(HTML(D_locations.head().to_html()))"
   ]
  },
  {
   "cell_type": "code",
   "execution_count": 5,
   "metadata": {},
   "outputs": [
    {
     "data": {
      "text/html": [
       "<table border=\"1\" class=\"dataframe\">\n",
       "  <thead>\n",
       "    <tr style=\"text-align: right;\">\n",
       "      <th></th>\n",
       "      <th>ITEMCODE</th>\n",
       "      <th>DESCRIPTION</th>\n",
       "      <th>VOLUME</th>\n",
       "      <th>WEIGHT</th>\n",
       "    </tr>\n",
       "  </thead>\n",
       "  <tbody>\n",
       "    <tr>\n",
       "      <th>0</th>\n",
       "      <td>0</td>\n",
       "      <td>PRODOTTO_0</td>\n",
       "      <td>72.652474</td>\n",
       "      <td>2.983851</td>\n",
       "    </tr>\n",
       "    <tr>\n",
       "      <th>0</th>\n",
       "      <td>1</td>\n",
       "      <td>PRODOTTO_1</td>\n",
       "      <td>24.529978</td>\n",
       "      <td>1.205741</td>\n",
       "    </tr>\n",
       "    <tr>\n",
       "      <th>0</th>\n",
       "      <td>2</td>\n",
       "      <td>PRODOTTO_2</td>\n",
       "      <td>36.606075</td>\n",
       "      <td>2.351153</td>\n",
       "    </tr>\n",
       "    <tr>\n",
       "      <th>0</th>\n",
       "      <td>3</td>\n",
       "      <td>PRODOTTO_3</td>\n",
       "      <td>34.067108</td>\n",
       "      <td>8.400715</td>\n",
       "    </tr>\n",
       "    <tr>\n",
       "      <th>0</th>\n",
       "      <td>4</td>\n",
       "      <td>PRODOTTO_4</td>\n",
       "      <td>43.547935</td>\n",
       "      <td>0.828195</td>\n",
       "    </tr>\n",
       "  </tbody>\n",
       "</table>"
      ],
      "text/plain": [
       "<IPython.core.display.HTML object>"
      ]
     },
     "metadata": {},
     "output_type": "display_data"
    }
   ],
   "source": [
    "#print SKUs master file dataframe\n",
    "display(HTML(D_SKUs.head().to_html()))"
   ]
  },
  {
   "cell_type": "code",
   "execution_count": 6,
   "metadata": {},
   "outputs": [
    {
     "data": {
      "text/html": [
       "<table border=\"1\" class=\"dataframe\">\n",
       "  <thead>\n",
       "    <tr style=\"text-align: right;\">\n",
       "      <th></th>\n",
       "      <th>ITEMCODE</th>\n",
       "      <th>NODECODE</th>\n",
       "      <th>IDWH</th>\n",
       "      <th>WHSUBAREA</th>\n",
       "      <th>IDLOCATION</th>\n",
       "      <th>RACK</th>\n",
       "      <th>BAY</th>\n",
       "      <th>LEVEL</th>\n",
       "      <th>LOCCODEX</th>\n",
       "      <th>LOCCODEY</th>\n",
       "      <th>LOCCODEZ</th>\n",
       "      <th>ORDERCODE</th>\n",
       "      <th>PICKINGLIST</th>\n",
       "      <th>QUANTITY</th>\n",
       "      <th>VOLUME</th>\n",
       "      <th>WEIGHT</th>\n",
       "      <th>TIMESTAMP_IN</th>\n",
       "      <th>INOUT</th>\n",
       "      <th>ORDERTYPE</th>\n",
       "    </tr>\n",
       "  </thead>\n",
       "  <tbody>\n",
       "    <tr>\n",
       "      <th>0</th>\n",
       "      <td>14</td>\n",
       "      <td>1</td>\n",
       "      <td>LOGICAL_WH1</td>\n",
       "      <td>AREA 1</td>\n",
       "      <td>755</td>\n",
       "      <td>2</td>\n",
       "      <td>18</td>\n",
       "      <td>4</td>\n",
       "      <td>8000</td>\n",
       "      <td>14400</td>\n",
       "      <td>4800</td>\n",
       "      <td>573</td>\n",
       "      <td>573</td>\n",
       "      <td>3.627802</td>\n",
       "      <td>229.723925</td>\n",
       "      <td>3.599991</td>\n",
       "      <td>2020-01-02 00:07:45.890225</td>\n",
       "      <td>+</td>\n",
       "      <td>PUTAWAY</td>\n",
       "    </tr>\n",
       "    <tr>\n",
       "      <th>0</th>\n",
       "      <td>52</td>\n",
       "      <td>1</td>\n",
       "      <td>LOGICAL_WH2</td>\n",
       "      <td>AREA 1</td>\n",
       "      <td>1110</td>\n",
       "      <td>3</td>\n",
       "      <td>23</td>\n",
       "      <td>4</td>\n",
       "      <td>12000</td>\n",
       "      <td>18400</td>\n",
       "      <td>4800</td>\n",
       "      <td>486</td>\n",
       "      <td>486</td>\n",
       "      <td>2.646996</td>\n",
       "      <td>165.331808</td>\n",
       "      <td>5.700368</td>\n",
       "      <td>2020-01-02 01:18:11.659463</td>\n",
       "      <td></td>\n",
       "      <td>PUTAWAY</td>\n",
       "    </tr>\n",
       "    <tr>\n",
       "      <th>0</th>\n",
       "      <td>43</td>\n",
       "      <td>1</td>\n",
       "      <td>LOGICAL_WH1</td>\n",
       "      <td>AREA 1</td>\n",
       "      <td>169</td>\n",
       "      <td>0</td>\n",
       "      <td>33</td>\n",
       "      <td>3</td>\n",
       "      <td>0</td>\n",
       "      <td>26400</td>\n",
       "      <td>3600</td>\n",
       "      <td>33</td>\n",
       "      <td>33</td>\n",
       "      <td>7.172519</td>\n",
       "      <td>38.523014</td>\n",
       "      <td>21.371300</td>\n",
       "      <td>2020-01-02 01:44:23.759597</td>\n",
       "      <td>+</td>\n",
       "      <td>PUTAWAY</td>\n",
       "    </tr>\n",
       "    <tr>\n",
       "      <th>0</th>\n",
       "      <td>9</td>\n",
       "      <td>1</td>\n",
       "      <td>FAKE</td>\n",
       "      <td>AREA 1</td>\n",
       "      <td>247</td>\n",
       "      <td>0</td>\n",
       "      <td>49</td>\n",
       "      <td>1</td>\n",
       "      <td>0</td>\n",
       "      <td>39200</td>\n",
       "      <td>1200</td>\n",
       "      <td>593</td>\n",
       "      <td>593</td>\n",
       "      <td>2.777605</td>\n",
       "      <td>84.734303</td>\n",
       "      <td>11.812125</td>\n",
       "      <td>2020-01-02 01:51:21.677833</td>\n",
       "      <td>-</td>\n",
       "      <td>PICKING</td>\n",
       "    </tr>\n",
       "    <tr>\n",
       "      <th>0</th>\n",
       "      <td>22</td>\n",
       "      <td>1</td>\n",
       "      <td>LOGICAL_WH2</td>\n",
       "      <td>AREA 1</td>\n",
       "      <td>289</td>\n",
       "      <td>0</td>\n",
       "      <td>57</td>\n",
       "      <td>3</td>\n",
       "      <td>0</td>\n",
       "      <td>45600</td>\n",
       "      <td>3600</td>\n",
       "      <td>433</td>\n",
       "      <td>433</td>\n",
       "      <td>17.775833</td>\n",
       "      <td>1657.765403</td>\n",
       "      <td>118.565619</td>\n",
       "      <td>2020-01-02 03:08:25.875051</td>\n",
       "      <td>+</td>\n",
       "      <td>OTHER</td>\n",
       "    </tr>\n",
       "  </tbody>\n",
       "</table>"
      ],
      "text/plain": [
       "<IPython.core.display.HTML object>"
      ]
     },
     "metadata": {},
     "output_type": "display_data"
    }
   ],
   "source": [
    "#print SKUs master file dataframe\n",
    "display(HTML(D_movements.head().to_html()))"
   ]
  },
  {
   "cell_type": "code",
   "execution_count": 7,
   "metadata": {},
   "outputs": [
    {
     "data": {
      "text/html": [
       "<table border=\"1\" class=\"dataframe\">\n",
       "  <thead>\n",
       "    <tr style=\"text-align: right;\">\n",
       "      <th></th>\n",
       "      <th>NODECODE</th>\n",
       "      <th>IDWH</th>\n",
       "      <th>ITEMCODE</th>\n",
       "      <th>IDLOCATION</th>\n",
       "      <th>QUANTITY</th>\n",
       "      <th>TIMESTAMP</th>\n",
       "    </tr>\n",
       "  </thead>\n",
       "  <tbody>\n",
       "    <tr>\n",
       "      <th>0</th>\n",
       "      <td>1</td>\n",
       "      <td>FAKE</td>\n",
       "      <td>0</td>\n",
       "      <td>1256</td>\n",
       "      <td>5.768573</td>\n",
       "      <td>2020-01-02</td>\n",
       "    </tr>\n",
       "    <tr>\n",
       "      <th>0</th>\n",
       "      <td>1</td>\n",
       "      <td>LOGICAL_WH1</td>\n",
       "      <td>1</td>\n",
       "      <td>84</td>\n",
       "      <td>24.056293</td>\n",
       "      <td>2020-01-02</td>\n",
       "    </tr>\n",
       "    <tr>\n",
       "      <th>0</th>\n",
       "      <td>1</td>\n",
       "      <td>FAKE</td>\n",
       "      <td>2</td>\n",
       "      <td>1052</td>\n",
       "      <td>3.282923</td>\n",
       "      <td>2020-01-02</td>\n",
       "    </tr>\n",
       "    <tr>\n",
       "      <th>0</th>\n",
       "      <td>1</td>\n",
       "      <td>FAKE</td>\n",
       "      <td>3</td>\n",
       "      <td>196</td>\n",
       "      <td>19.964728</td>\n",
       "      <td>2020-01-02</td>\n",
       "    </tr>\n",
       "    <tr>\n",
       "      <th>0</th>\n",
       "      <td>1</td>\n",
       "      <td>LOGICAL_WH2</td>\n",
       "      <td>4</td>\n",
       "      <td>957</td>\n",
       "      <td>3.723409</td>\n",
       "      <td>2020-01-02</td>\n",
       "    </tr>\n",
       "  </tbody>\n",
       "</table>"
      ],
      "text/plain": [
       "<IPython.core.display.HTML object>"
      ]
     },
     "metadata": {},
     "output_type": "display_data"
    }
   ],
   "source": [
    "#print SKUs master file dataframe\n",
    "display(HTML(D_inventory.head().to_html()))"
   ]
  },
  {
   "cell_type": "markdown",
   "metadata": {},
   "source": [
    "### Create folder hierarchy"
   ]
  },
  {
   "cell_type": "code",
   "execution_count": 8,
   "metadata": {},
   "outputs": [
    {
     "name": "stdout",
     "output_type": "stream",
     "text": [
      "Cartella TOY_DATA_results già esistente\n",
      "Cartella P8_warehouseAssessment già esistente\n"
     ]
    }
   ],
   "source": [
    "# %% create folder hierarchy\n",
    "pathResults = 'C:\\\\Users\\\\aletu\\\\desktop'\n",
    "_, root_path = creaCartella(pathResults,f\"{string_casestudy}_results\")\n",
    "_, path_results = creaCartella(root_path,f\"P8_warehouseAssessment\")"
   ]
  },
  {
   "cell_type": "markdown",
   "metadata": {},
   "source": [
    "### Set the columns name"
   ]
  },
  {
   "cell_type": "code",
   "execution_count": 12,
   "metadata": {},
   "outputs": [],
   "source": [
    "# %% SET COLUMNS MOVEMENTS\n",
    "timecolumn_mov='TIMESTAMP_IN'\n",
    "itemcodeColumns_mov='ITEMCODE'\n",
    "inout_column_mov = 'INOUT'\n",
    "x_col_mov = 'LOCCODEX'\n",
    "y_col_mov = 'LOCCODEY'\n",
    "z_col_mov = 'LOCCODEZ'"
   ]
  },
  {
   "cell_type": "code",
   "execution_count": 13,
   "metadata": {},
   "outputs": [],
   "source": [
    "# %% SET COLUMNS SKUS\n",
    "itemcodeColumns_sku='ITEMCODE'"
   ]
  },
  {
   "cell_type": "code",
   "execution_count": 14,
   "metadata": {},
   "outputs": [],
   "source": [
    "# %% SET COLUMNS INVENTORY\n",
    "itemcodeColumns_inv = 'ITEMCODE'"
   ]
  },
  {
   "cell_type": "markdown",
   "metadata": {},
   "source": [
    "### Generate the inventory curve for each SKU"
   ]
  },
  {
   "cell_type": "code",
   "execution_count": 15,
   "metadata": {},
   "outputs": [
    {
     "name": "stderr",
     "output_type": "stream",
     "text": [
      "..\\logproj\\information_framework.py:230: SettingWithCopyWarning: \n",
      "A value is trying to be set on a copy of a slice from a DataFrame.\n",
      "Try using .loc[row_indexer,col_indexer] = value instead\n",
      "\n",
      "See the caveats in the documentation: https://pandas.pydata.org/pandas-docs/stable/user_guide/indexing.html#returning-a-view-versus-a-copy\n",
      "  D_movements['MOVEMENT'] = D_movements['INOUT'].astype(str) + D_movements[quantityColums].astype(str)\n",
      "..\\logproj\\information_framework.py:231: SettingWithCopyWarning: \n",
      "A value is trying to be set on a copy of a slice from a DataFrame.\n",
      "Try using .loc[row_indexer,col_indexer] = value instead\n",
      "\n",
      "See the caveats in the documentation: https://pandas.pydata.org/pandas-docs/stable/user_guide/indexing.html#returning-a-view-versus-a-copy\n",
      "  D_movements['MOVEMENT']=D_movements['MOVEMENT'].astype(float)\n",
      "..\\logproj\\information_framework.py:234: SettingWithCopyWarning: \n",
      "A value is trying to be set on a copy of a slice from a DataFrame.\n",
      "Try using .loc[row_indexer,col_indexer] = value instead\n",
      "\n",
      "See the caveats in the documentation: https://pandas.pydata.org/pandas-docs/stable/user_guide/indexing.html#returning-a-view-versus-a-copy\n",
      "  D_movements['PERIOD'] = ts.sampleTimeSeries(D_movements['TIMESTAMP_IN'],'day')\n",
      "..\\logproj\\information_framework.py:261: SettingWithCopyWarning: \n",
      "A value is trying to be set on a copy of a slice from a DataFrame.\n",
      "Try using .loc[row_indexer,col_indexer] = value instead\n",
      "\n",
      "See the caveats in the documentation: https://pandas.pydata.org/pandas-docs/stable/user_guide/indexing.html#returning-a-view-versus-a-copy\n",
      "  D_inventory['PERIOD'] = ts.sampleTimeSeries(D_inventory['TIMESTAMP'],'day')\n"
     ]
    }
   ],
   "source": [
    "# generate the inventory curve for each SKU\n",
    "from logproj.information_framework import updatePartInventory\n",
    "D_SKUs= updatePartInventory(D_SKUs,D_movements,D_inventory,timecolumn_mov,itemcodeColumns_sku,itemcodeColumns_mov,itemcodeColumns_inv) \n"
   ]
  },
  {
   "cell_type": "code",
   "execution_count": 16,
   "metadata": {
    "scrolled": false
   },
   "outputs": [
    {
     "name": "stdout",
     "output_type": "stream",
     "text": [
      "Cartella Inventory già esistente\n"
     ]
    },
    {
     "data": {
      "image/png": "[encoded data removed]",
      "text/plain": [
       "<Figure size 432x288 with 1 Axes>"
      ]
     },
     "metadata": {
      "needs_background": "light"
     },
     "output_type": "display_data"
    },
    {
     "data": {
      "image/png": "[encoded data removed]",
      "text/plain": [
       "<Figure size 432x288 with 1 Axes>"
      ]
     },
     "metadata": {
      "needs_background": "light"
     },
     "output_type": "display_data"
    },
    {
     "data": {
      "image/png": "[encoded data removed]",
      "text/plain": [
       "<Figure size 432x288 with 1 Axes>"
      ]
     },
     "metadata": {
      "needs_background": "light"
     },
     "output_type": "display_data"
    },
    {
     "data": {
      "image/png": "[encoded data removed]",
      "text/plain": [
       "<Figure size 432x288 with 1 Axes>"
      ]
     },
     "metadata": {
      "needs_background": "light"
     },
     "output_type": "display_data"
    },
    {
     "data": {
      "image/png": "[encoded data removed]",
      "text/plain": [
       "<Figure size 432x288 with 1 Axes>"
      ]
     },
     "metadata": {
      "needs_background": "light"
     },
     "output_type": "display_data"
    },
    {
     "data": {
      "image/png": "[encoded data removed]",
      "text/plain": [
       "<Figure size 432x288 with 1 Axes>"
      ]
     },
     "metadata": {
      "needs_background": "light"
     },
     "output_type": "display_data"
    }
   ],
   "source": [
    "# %% update global inventory\n",
    "from logproj.P8_performanceAssessment.wh_inventory_assessment import updateGlobalInventory\n",
    "\n",
    "_, path_current = creaCartella(path_results,f\"Inventory\")\n",
    "\n",
    "D_global_inventory = updateGlobalInventory(D_SKUs,inventoryColumn='INVENTORY_QTY')\n",
    "D_global_inventory.to_excel(path_current+\"\\\\global inventory.xlsx\")\n",
    "\n",
    "        \n",
    "# %% analyse the inventory behaviour\n",
    "from logproj.P8_performanceAssessment.wh_inventory_assessment import inventoryAnalysis\n",
    "\n",
    "output_figures = inventoryAnalysis(D_global_inventory)\n",
    "\n",
    "for key in output_figures.keys():\n",
    "        output_figures[key].savefig(path_current+f\"\\\\{key}.png\") \n",
    "        "
   ]
  }
 ],
 "metadata": {
  "kernelspec": {
   "display_name": "Python 3",
   "language": "python",
   "name": "python3"
  },
  "language_info": {
   "codemirror_mode": {
    "name": "ipython",
    "version": 3
   },
   "file_extension": ".py",
   "mimetype": "text/x-python",
   "name": "python",
   "nbconvert_exporter": "python",
   "pygments_lexer": "ipython3",
   "version": "3.6.10"
  }
 },
 "nbformat": 4,
 "nbformat_minor": 4
}
