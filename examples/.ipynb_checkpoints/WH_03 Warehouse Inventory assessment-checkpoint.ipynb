{
 "cells": [
  {
   "cell_type": "markdown",
   "metadata": {},
   "source": [
    "# Warehouse Inventory assessment\n",
    "*This notebook illustrates how to assess the inventory position of a storage system.\n",
    "*Use the virtual environment logproj.yml to run this notebook.*\n",
    "***\n",
    "Alessandro Tufano 2020"
   ]
  },
  {
   "cell_type": "markdown",
   "metadata": {},
   "source": [
    "### Import packages"
   ]
  },
  {
   "cell_type": "code",
   "execution_count": 1,
   "metadata": {},
   "outputs": [],
   "source": [
    "# %% append functions path\n",
    "import sys; sys.path.insert(0, '..') #add the above level with the package\n",
    "\n",
    "import pandas as pd\n",
    "import numpy as np\n",
    "\n",
    "from IPython.display import display, HTML #display dataframe\n",
    "\n",
    "#import utilities\n",
    "from logproj.utilities import creaCartella"
   ]
  },
  {
   "cell_type": "markdown",
   "metadata": {},
   "source": [
    "### Set data fields"
   ]
  },
  {
   "cell_type": "code",
   "execution_count": 2,
   "metadata": {},
   "outputs": [],
   "source": [
    "string_casestudy = 'TOY_DATA'"
   ]
  },
  {
   "cell_type": "markdown",
   "metadata": {},
   "source": [
    "### Import data"
   ]
  },
  {
   "cell_type": "code",
   "execution_count": 3,
   "metadata": {},
   "outputs": [],
   "source": [
    "# %% import data\n",
    "from logproj.data_generator_warehouse import generateWarehouseData\n",
    "D_locations, D_SKUs, D_movements, D_inventory = generateWarehouseData()\n"
   ]
  },
  {
   "cell_type": "code",
   "execution_count": 4,
   "metadata": {},
   "outputs": [
    {
     "data": {
      "text/html": [
       "<table border=\"1\" class=\"dataframe\">\n",
       "  <thead>\n",
       "    <tr style=\"text-align: right;\">\n",
       "      <th></th>\n",
       "      <th>NODECODE</th>\n",
       "      <th>IDWH</th>\n",
       "      <th>WHSUBAREA</th>\n",
       "      <th>IDLOCATION</th>\n",
       "      <th>LOCCODEX</th>\n",
       "      <th>LOCCODEY</th>\n",
       "      <th>LOCCODEZ</th>\n",
       "      <th>RACK</th>\n",
       "      <th>BAY</th>\n",
       "      <th>LEVEL</th>\n",
       "    </tr>\n",
       "  </thead>\n",
       "  <tbody>\n",
       "    <tr>\n",
       "      <th>0</th>\n",
       "      <td>1</td>\n",
       "      <td>LOGICAL_WH2</td>\n",
       "      <td>AREA 1</td>\n",
       "      <td>1</td>\n",
       "      <td>0</td>\n",
       "      <td>0</td>\n",
       "      <td>0</td>\n",
       "      <td>0</td>\n",
       "      <td>0</td>\n",
       "      <td>0</td>\n",
       "    </tr>\n",
       "    <tr>\n",
       "      <th>0</th>\n",
       "      <td>1</td>\n",
       "      <td>LOGICAL_WH1</td>\n",
       "      <td>AREA 1</td>\n",
       "      <td>2</td>\n",
       "      <td>0</td>\n",
       "      <td>0</td>\n",
       "      <td>1200</td>\n",
       "      <td>0</td>\n",
       "      <td>0</td>\n",
       "      <td>1</td>\n",
       "    </tr>\n",
       "    <tr>\n",
       "      <th>0</th>\n",
       "      <td>1</td>\n",
       "      <td>LOGICAL_WH2</td>\n",
       "      <td>AREA 1</td>\n",
       "      <td>3</td>\n",
       "      <td>0</td>\n",
       "      <td>0</td>\n",
       "      <td>2400</td>\n",
       "      <td>0</td>\n",
       "      <td>0</td>\n",
       "      <td>2</td>\n",
       "    </tr>\n",
       "    <tr>\n",
       "      <th>0</th>\n",
       "      <td>1</td>\n",
       "      <td>LOGICAL_WH2</td>\n",
       "      <td>AREA 1</td>\n",
       "      <td>4</td>\n",
       "      <td>0</td>\n",
       "      <td>0</td>\n",
       "      <td>3600</td>\n",
       "      <td>0</td>\n",
       "      <td>0</td>\n",
       "      <td>3</td>\n",
       "    </tr>\n",
       "    <tr>\n",
       "      <th>0</th>\n",
       "      <td>1</td>\n",
       "      <td>LOGICAL_WH2</td>\n",
       "      <td>AREA 1</td>\n",
       "      <td>5</td>\n",
       "      <td>0</td>\n",
       "      <td>0</td>\n",
       "      <td>4800</td>\n",
       "      <td>0</td>\n",
       "      <td>0</td>\n",
       "      <td>4</td>\n",
       "    </tr>\n",
       "  </tbody>\n",
       "</table>"
      ],
      "text/plain": [
       "<IPython.core.display.HTML object>"
      ]
     },
     "metadata": {},
     "output_type": "display_data"
    }
   ],
   "source": [
    "#print locations dataframe\n",
    "display(HTML(D_locations.head().to_html()))"
   ]
  },
  {
   "cell_type": "code",
   "execution_count": 5,
   "metadata": {},
   "outputs": [
    {
     "data": {
      "text/html": [
       "<table border=\"1\" class=\"dataframe\">\n",
       "  <thead>\n",
       "    <tr style=\"text-align: right;\">\n",
       "      <th></th>\n",
       "      <th>ITEMCODE</th>\n",
       "      <th>DESCRIPTION</th>\n",
       "      <th>VOLUME</th>\n",
       "      <th>WEIGHT</th>\n",
       "    </tr>\n",
       "  </thead>\n",
       "  <tbody>\n",
       "    <tr>\n",
       "      <th>0</th>\n",
       "      <td>0</td>\n",
       "      <td>PRODOTTO_0</td>\n",
       "      <td>17.297770</td>\n",
       "      <td>1.775018</td>\n",
       "    </tr>\n",
       "    <tr>\n",
       "      <th>0</th>\n",
       "      <td>1</td>\n",
       "      <td>PRODOTTO_1</td>\n",
       "      <td>76.594940</td>\n",
       "      <td>5.046610</td>\n",
       "    </tr>\n",
       "    <tr>\n",
       "      <th>0</th>\n",
       "      <td>2</td>\n",
       "      <td>PRODOTTO_2</td>\n",
       "      <td>28.421628</td>\n",
       "      <td>4.287065</td>\n",
       "    </tr>\n",
       "    <tr>\n",
       "      <th>0</th>\n",
       "      <td>3</td>\n",
       "      <td>PRODOTTO_3</td>\n",
       "      <td>36.583250</td>\n",
       "      <td>2.094947</td>\n",
       "    </tr>\n",
       "    <tr>\n",
       "      <th>0</th>\n",
       "      <td>4</td>\n",
       "      <td>PRODOTTO_4</td>\n",
       "      <td>38.893528</td>\n",
       "      <td>4.967386</td>\n",
       "    </tr>\n",
       "  </tbody>\n",
       "</table>"
      ],
      "text/plain": [
       "<IPython.core.display.HTML object>"
      ]
     },
     "metadata": {},
     "output_type": "display_data"
    }
   ],
   "source": [
    "#print SKUs master file dataframe\n",
    "display(HTML(D_SKUs.head().to_html()))"
   ]
  },
  {
   "cell_type": "code",
   "execution_count": 6,
   "metadata": {},
   "outputs": [
    {
     "data": {
      "text/html": [
       "<table border=\"1\" class=\"dataframe\">\n",
       "  <thead>\n",
       "    <tr style=\"text-align: right;\">\n",
       "      <th></th>\n",
       "      <th>ITEMCODE</th>\n",
       "      <th>NODECODE</th>\n",
       "      <th>IDWH</th>\n",
       "      <th>WHSUBAREA</th>\n",
       "      <th>IDLOCATION</th>\n",
       "      <th>RACK</th>\n",
       "      <th>BAY</th>\n",
       "      <th>LEVEL</th>\n",
       "      <th>LOCCODEX</th>\n",
       "      <th>LOCCODEY</th>\n",
       "      <th>LOCCODEZ</th>\n",
       "      <th>ORDERCODE</th>\n",
       "      <th>PICKINGLIST</th>\n",
       "      <th>QUANTITY</th>\n",
       "      <th>VOLUME</th>\n",
       "      <th>WEIGHT</th>\n",
       "      <th>TIMESTAMP_IN</th>\n",
       "      <th>INOUT</th>\n",
       "      <th>ORDERTYPE</th>\n",
       "    </tr>\n",
       "  </thead>\n",
       "  <tbody>\n",
       "    <tr>\n",
       "      <th>0</th>\n",
       "      <td>46</td>\n",
       "      <td>1</td>\n",
       "      <td>LOGICAL_WH1</td>\n",
       "      <td>AREA 1</td>\n",
       "      <td>389</td>\n",
       "      <td>1</td>\n",
       "      <td>11</td>\n",
       "      <td>3</td>\n",
       "      <td>4000</td>\n",
       "      <td>8800</td>\n",
       "      <td>3600</td>\n",
       "      <td>722</td>\n",
       "      <td>722</td>\n",
       "      <td>19.557617</td>\n",
       "      <td>40.045989</td>\n",
       "      <td>179.281802</td>\n",
       "      <td>2020-01-02 00:13:57.163612</td>\n",
       "      <td>-</td>\n",
       "      <td>PUTAWAY</td>\n",
       "    </tr>\n",
       "    <tr>\n",
       "      <th>0</th>\n",
       "      <td>47</td>\n",
       "      <td>1</td>\n",
       "      <td>LOGICAL_WH2</td>\n",
       "      <td>AREA 1</td>\n",
       "      <td>370</td>\n",
       "      <td>1</td>\n",
       "      <td>7</td>\n",
       "      <td>4</td>\n",
       "      <td>4000</td>\n",
       "      <td>5600</td>\n",
       "      <td>4800</td>\n",
       "      <td>309</td>\n",
       "      <td>309</td>\n",
       "      <td>24.513138</td>\n",
       "      <td>807.488557</td>\n",
       "      <td>202.189764</td>\n",
       "      <td>2020-01-02 02:41:57.678684</td>\n",
       "      <td>-</td>\n",
       "      <td>PUTAWAY</td>\n",
       "    </tr>\n",
       "    <tr>\n",
       "      <th>0</th>\n",
       "      <td>28</td>\n",
       "      <td>1</td>\n",
       "      <td>FAKE</td>\n",
       "      <td>AREA 1</td>\n",
       "      <td>1375</td>\n",
       "      <td>4</td>\n",
       "      <td>10</td>\n",
       "      <td>4</td>\n",
       "      <td>16000</td>\n",
       "      <td>8000</td>\n",
       "      <td>4800</td>\n",
       "      <td>498</td>\n",
       "      <td>498</td>\n",
       "      <td>1.023808</td>\n",
       "      <td>97.213988</td>\n",
       "      <td>4.077428</td>\n",
       "      <td>2020-01-02 03:46:31.738609</td>\n",
       "      <td>-</td>\n",
       "      <td>OTHER</td>\n",
       "    </tr>\n",
       "    <tr>\n",
       "      <th>0</th>\n",
       "      <td>65</td>\n",
       "      <td>1</td>\n",
       "      <td>LOGICAL_WH2</td>\n",
       "      <td>AREA 1</td>\n",
       "      <td>1138</td>\n",
       "      <td>3</td>\n",
       "      <td>29</td>\n",
       "      <td>2</td>\n",
       "      <td>12000</td>\n",
       "      <td>23200</td>\n",
       "      <td>2400</td>\n",
       "      <td>594</td>\n",
       "      <td>594</td>\n",
       "      <td>4.115725</td>\n",
       "      <td>52.868488</td>\n",
       "      <td>16.518514</td>\n",
       "      <td>2020-01-02 03:52:54.582890</td>\n",
       "      <td>-</td>\n",
       "      <td>PUTAWAY</td>\n",
       "    </tr>\n",
       "    <tr>\n",
       "      <th>0</th>\n",
       "      <td>95</td>\n",
       "      <td>1</td>\n",
       "      <td>LOGICAL_WH1</td>\n",
       "      <td>AREA 1</td>\n",
       "      <td>990</td>\n",
       "      <td>2</td>\n",
       "      <td>65</td>\n",
       "      <td>4</td>\n",
       "      <td>8000</td>\n",
       "      <td>52000</td>\n",
       "      <td>4800</td>\n",
       "      <td>420</td>\n",
       "      <td>420</td>\n",
       "      <td>5.067095</td>\n",
       "      <td>5.804187</td>\n",
       "      <td>30.906695</td>\n",
       "      <td>2020-01-02 05:53:04.788377</td>\n",
       "      <td></td>\n",
       "      <td>PUTAWAY</td>\n",
       "    </tr>\n",
       "  </tbody>\n",
       "</table>"
      ],
      "text/plain": [
       "<IPython.core.display.HTML object>"
      ]
     },
     "metadata": {},
     "output_type": "display_data"
    }
   ],
   "source": [
    "#print SKUs master file dataframe\n",
    "display(HTML(D_movements.head().to_html()))"
   ]
  },
  {
   "cell_type": "code",
   "execution_count": 7,
   "metadata": {},
   "outputs": [
    {
     "data": {
      "text/html": [
       "<table border=\"1\" class=\"dataframe\">\n",
       "  <thead>\n",
       "    <tr style=\"text-align: right;\">\n",
       "      <th></th>\n",
       "      <th>NODECODE</th>\n",
       "      <th>IDWH</th>\n",
       "      <th>ITEMCODE</th>\n",
       "      <th>IDLOCATION</th>\n",
       "      <th>QUANTITY</th>\n",
       "      <th>TIMESTAMP</th>\n",
       "    </tr>\n",
       "  </thead>\n",
       "  <tbody>\n",
       "    <tr>\n",
       "      <th>0</th>\n",
       "      <td>1</td>\n",
       "      <td>LOGICAL_WH1</td>\n",
       "      <td>0</td>\n",
       "      <td>1173</td>\n",
       "      <td>3.894092</td>\n",
       "      <td>2020-01-02</td>\n",
       "    </tr>\n",
       "    <tr>\n",
       "      <th>0</th>\n",
       "      <td>1</td>\n",
       "      <td>FAKE</td>\n",
       "      <td>1</td>\n",
       "      <td>261</td>\n",
       "      <td>3.454996</td>\n",
       "      <td>2020-01-02</td>\n",
       "    </tr>\n",
       "    <tr>\n",
       "      <th>0</th>\n",
       "      <td>1</td>\n",
       "      <td>FAKE</td>\n",
       "      <td>2</td>\n",
       "      <td>1490</td>\n",
       "      <td>7.648038</td>\n",
       "      <td>2020-01-02</td>\n",
       "    </tr>\n",
       "    <tr>\n",
       "      <th>0</th>\n",
       "      <td>1</td>\n",
       "      <td>LOGICAL_WH2</td>\n",
       "      <td>3</td>\n",
       "      <td>328</td>\n",
       "      <td>3.338922</td>\n",
       "      <td>2020-01-02</td>\n",
       "    </tr>\n",
       "    <tr>\n",
       "      <th>0</th>\n",
       "      <td>1</td>\n",
       "      <td>LOGICAL_WH2</td>\n",
       "      <td>4</td>\n",
       "      <td>828</td>\n",
       "      <td>5.582892</td>\n",
       "      <td>2020-01-02</td>\n",
       "    </tr>\n",
       "  </tbody>\n",
       "</table>"
      ],
      "text/plain": [
       "<IPython.core.display.HTML object>"
      ]
     },
     "metadata": {},
     "output_type": "display_data"
    }
   ],
   "source": [
    "#print SKUs master file dataframe\n",
    "display(HTML(D_inventory.head().to_html()))"
   ]
  },
  {
   "cell_type": "markdown",
   "metadata": {},
   "source": [
    "### Create folder hierarchy"
   ]
  },
  {
   "cell_type": "code",
   "execution_count": 8,
   "metadata": {},
   "outputs": [
    {
     "name": "stdout",
     "output_type": "stream",
     "text": [
      "Cartella TOY_DATA_results già esistente\n",
      "Cartella P8_warehouseAssessment già esistente\n"
     ]
    }
   ],
   "source": [
    "# %% create folder hierarchy\n",
    "pathResults = 'C:\\\\Users\\\\aletu\\\\desktop'\n",
    "_, root_path = creaCartella(pathResults,f\"{string_casestudy}_results\")\n",
    "_, path_results = creaCartella(root_path,f\"P8_warehouseAssessment\")"
   ]
  },
  {
   "cell_type": "markdown",
   "metadata": {},
   "source": [
    "### Set the columns name"
   ]
  },
  {
   "cell_type": "code",
   "execution_count": 9,
   "metadata": {},
   "outputs": [],
   "source": [
    "# %% SET COLUMNS MOVEMENTS\n",
    "timecolumn_mov='TIMESTAMP_IN'\n",
    "itemcodeColumns_mov='ITEMCODE'\n",
    "inout_column_mov = 'INOUT'\n",
    "x_col_mov = 'LOCCODEX'\n",
    "y_col_mov = 'LOCCODEY'\n",
    "z_col_mov = 'LOCCODEZ'"
   ]
  },
  {
   "cell_type": "code",
   "execution_count": 10,
   "metadata": {},
   "outputs": [],
   "source": [
    "# %% SET COLUMNS SKUS\n",
    "itemcodeColumns_sku='ITEMCODE'"
   ]
  },
  {
   "cell_type": "code",
   "execution_count": 11,
   "metadata": {},
   "outputs": [],
   "source": [
    "# %% SET COLUMNS INVENTORY\n",
    "itemcodeColumns_inv = 'ITEMCODE'"
   ]
  },
  {
   "cell_type": "markdown",
   "metadata": {},
   "source": [
    "### Generate the inventory curve for each SKU"
   ]
  },
  {
   "cell_type": "code",
   "execution_count": 12,
   "metadata": {},
   "outputs": [
    {
     "name": "stderr",
     "output_type": "stream",
     "text": [
      "..\\logproj\\information_framework.py:230: SettingWithCopyWarning: \n",
      "A value is trying to be set on a copy of a slice from a DataFrame.\n",
      "Try using .loc[row_indexer,col_indexer] = value instead\n",
      "\n",
      "See the caveats in the documentation: https://pandas.pydata.org/pandas-docs/stable/user_guide/indexing.html#returning-a-view-versus-a-copy\n",
      "  D_movements['MOVEMENT'] = D_movements['INOUT'].astype(str) + D_movements[quantityColums].astype(str)\n",
      "..\\logproj\\information_framework.py:231: SettingWithCopyWarning: \n",
      "A value is trying to be set on a copy of a slice from a DataFrame.\n",
      "Try using .loc[row_indexer,col_indexer] = value instead\n",
      "\n",
      "See the caveats in the documentation: https://pandas.pydata.org/pandas-docs/stable/user_guide/indexing.html#returning-a-view-versus-a-copy\n",
      "  D_movements['MOVEMENT']=D_movements['MOVEMENT'].astype(float)\n",
      "..\\logproj\\information_framework.py:234: SettingWithCopyWarning: \n",
      "A value is trying to be set on a copy of a slice from a DataFrame.\n",
      "Try using .loc[row_indexer,col_indexer] = value instead\n",
      "\n",
      "See the caveats in the documentation: https://pandas.pydata.org/pandas-docs/stable/user_guide/indexing.html#returning-a-view-versus-a-copy\n",
      "  D_movements['PERIOD'] = ts.sampleTimeSeries(D_movements['TIMESTAMP_IN'],'day')\n",
      "..\\logproj\\information_framework.py:261: SettingWithCopyWarning: \n",
      "A value is trying to be set on a copy of a slice from a DataFrame.\n",
      "Try using .loc[row_indexer,col_indexer] = value instead\n",
      "\n",
      "See the caveats in the documentation: https://pandas.pydata.org/pandas-docs/stable/user_guide/indexing.html#returning-a-view-versus-a-copy\n",
      "  D_inventory['PERIOD'] = ts.sampleTimeSeries(D_inventory['TIMESTAMP'],'day')\n"
     ]
    }
   ],
   "source": [
    "# generate the inventory curve for each SKU\n",
    "from logproj.information_framework import updatePartInventory\n",
    "D_SKUs= updatePartInventory(D_SKUs,D_movements,D_inventory,timecolumn_mov,itemcodeColumns_sku,itemcodeColumns_mov,itemcodeColumns_inv) \n"
   ]
  },
  {
   "cell_type": "code",
   "execution_count": 13,
   "metadata": {
    "scrolled": false
   },
   "outputs": [
    {
     "name": "stdout",
     "output_type": "stream",
     "text": [
      "Cartella Inventory già esistente\n"
     ]
    },
    {
     "name": "stderr",
     "output_type": "stream",
     "text": [
      "..\\logproj\\P8_performanceAssessment\\wh_inventory_assessment.py:30: RuntimeWarning: invalid value encountered in true_divide\n",
      "  list_inventory_normalised = (list_inventory - min(list_inventory))/(max(list_inventory)-min(list_inventory))\n"
     ]
    },
    {
     "data": {
      "image/png": "[encoded data removed]",
      "text/plain": [
       "<Figure size 432x288 with 1 Axes>"
      ]
     },
     "metadata": {
      "needs_background": "light"
     },
     "output_type": "display_data"
    },
    {
     "data": {
      "image/png": "[encoded data removed]",
      "text/plain": [
       "<Figure size 432x288 with 1 Axes>"
      ]
     },
     "metadata": {
      "needs_background": "light"
     },
     "output_type": "display_data"
    },
    {
     "data": {
      "image/png": "[encoded data removed]",
      "text/plain": [
       "<Figure size 432x288 with 1 Axes>"
      ]
     },
     "metadata": {
      "needs_background": "light"
     },
     "output_type": "display_data"
    },
    {
     "data": {
      "image/png": "[encoded data removed]",
      "text/plain": [
       "<Figure size 432x288 with 1 Axes>"
      ]
     },
     "metadata": {
      "needs_background": "light"
     },
     "output_type": "display_data"
    },
    {
     "data": {
      "image/png": "[encoded data removed]",
      "text/plain": [
       "<Figure size 432x288 with 1 Axes>"
      ]
     },
     "metadata": {
      "needs_background": "light"
     },
     "output_type": "display_data"
    },
    {
     "data": {
      "image/png": "[encoded data removed]",
      "text/plain": [
       "<Figure size 432x288 with 1 Axes>"
      ]
     },
     "metadata": {
      "needs_background": "light"
     },
     "output_type": "display_data"
    }
   ],
   "source": [
    "# %% update global inventory\n",
    "from logproj.P8_performanceAssessment.wh_inventory_assessment import updateGlobalInventory\n",
    "\n",
    "_, path_current = creaCartella(path_results,f\"Inventory\")\n",
    "\n",
    "D_global_inventory = updateGlobalInventory(D_SKUs,inventoryColumn='INVENTORY_QTY')\n",
    "D_global_inventory.to_excel(path_current+\"\\\\global inventory.xlsx\")\n",
    "\n",
    "        \n",
    "# %% analyse the inventory behaviour\n",
    "from logproj.P8_performanceAssessment.wh_inventory_assessment import inventoryAnalysis\n",
    "\n",
    "output_figures = inventoryAnalysis(D_global_inventory)\n",
    "\n",
    "for key in output_figures.keys():\n",
    "        output_figures[key].savefig(path_current+f\"\\\\{key}.png\") \n",
    "        "
   ]
  }
 ],
 "metadata": {
  "kernelspec": {
   "display_name": "Python 3",
   "language": "python",
   "name": "python3"
  },
  "language_info": {
   "codemirror_mode": {
    "name": "ipython",
    "version": 3
   },
   "file_extension": ".py",
   "mimetype": "text/x-python",
   "name": "python",
   "nbconvert_exporter": "python",
   "pygments_lexer": "ipython3",
   "version": "3.6.10"
  }
 },
 "nbformat": 4,
 "nbformat_minor": 4
}
