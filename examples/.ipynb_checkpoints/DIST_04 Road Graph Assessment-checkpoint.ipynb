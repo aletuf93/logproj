{
 "cells": [
  {
   "cell_type": "markdown",
   "metadata": {},
   "source": [
    "# Road Graph assessment\n",
    "*This notebook illustrates how to define a road graph of a supply chain*\n",
    "***\n",
    "Alessandro Tufano 2020"
   ]
  },
  {
   "cell_type": "markdown",
   "metadata": {},
   "source": [
    "### Import packages"
   ]
  },
  {
   "cell_type": "code",
   "execution_count": 5,
   "metadata": {},
   "outputs": [],
   "source": [
    "# %% append functions path\n",
    "import sys; sys.path.insert(0, '..') #add the above level with the package\n",
    "import pandas as pd\n",
    "\n",
    "# import logproj functions\n",
    "from logproj.P6_placementProblem.distribution_graph_definition import import_graph_drive\n",
    "from logproj.P8_performanceAssessment.network_graph_analysis import networkRoadsRoutePlot\n",
    "from logproj.P8_performanceAssessment.network_graph_analysis import networkRaysPlot\n",
    "from logproj.P8_performanceAssessment.network_graph_analysis import supplyChainMap\n",
    "from logproj.P8_performanceAssessment.network_graph_analysis import supplyChainCentersOfMass\n",
    "from logproj.P8_performanceAssessment.network_graph_analysis import supplyChainCovering\n",
    "\n",
    "#import utilities\n",
    "from logproj.utilities import creaCartella\n",
    "\n",
    "from IPython.display import display, HTML\n"
   ]
  },
  {
   "cell_type": "markdown",
   "metadata": {},
   "source": [
    "### Set data fields"
   ]
  },
  {
   "cell_type": "code",
   "execution_count": 9,
   "metadata": {},
   "outputs": [],
   "source": [
    "dbName='CAMST_FRIULI'\n",
    "timecol='TIMESTAMP_IN'\n",
    "latCol_to='LATITUDE_api'\n",
    "lonCol_to='LONGITUDE_api'\n",
    "latCol_from='LATITUDE_FROM'\n",
    "lonCol_from='LONGITUDE_FROM'\n",
    "fromCol='LOADING_NODE'\n",
    "\n",
    "colore='RAGGRUPPAMENTO'\n",
    "descrCol='_id'\n",
    "\n",
    "plantListName='LIST_NODE'\n",
    "plantLatitude='LATITUDE'\n",
    "plantLongitude='LONGITUDE'\n",
    "\n",
    "coordCuce = {'CIVIDALE':(46.087,13.392),\n",
    "             'CODROIPO':(45.9747,12.9932),\n",
    "             'UDINE':(46.0264,13.2602),\n",
    "             'PORDENONE':(45.9319,12.6536)\n",
    "             }\n",
    "\n"
   ]
  },
  {
   "cell_type": "markdown",
   "metadata": {},
   "source": [
    "### Import data"
   ]
  },
  {
   "cell_type": "code",
   "execution_count": 7,
   "metadata": {},
   "outputs": [],
   "source": [
    "D_arcs = pd.read_excel('C:\\\\Users\\\\aletu\\\\Desktop\\\\CAMST_FRIULI_results\\\\P9_networkAssessment\\\\Voyage Analysis\\\\PROVISIONAL\\\\CENSORED\\\\arcRoute.xlsx')\n",
    "display(HTML(D_arcs.to_html()))"
   ]
  },
  {
   "cell_type": "markdown",
   "metadata": {},
   "source": [
    "### Import road graph"
   ]
  },
  {
   "cell_type": "code",
   "execution_count": null,
   "metadata": {},
   "outputs": [
    {
     "name": "stdout",
     "output_type": "stream",
     "text": [
      "**MONGO: query with filters: {}, time 2020-05-15 16:25:50\n",
      "**MONGO: end query, time: 0.0 sec\n",
      "**MONGO: query with filters: {}, time 2020-05-15 16:25:50\n",
      "**MONGO: end query, time: 0.3 sec\n"
     ]
    }
   ],
   "source": [
    "G = import_graph_drive(dbName,latCol_to,lonCol_to, plantLatitude, plantLongitude)"
   ]
  },
  {
   "cell_type": "markdown",
   "metadata": {},
   "source": [
    "### Import data from db"
   ]
  },
  {
   "cell_type": "code",
   "execution_count": null,
   "metadata": {},
   "outputs": [],
   "source": [
    "D_mov = mdb.queryTodf(model_dist.movement_dist.objects())\n",
    "D_mov = mdb.convertMongoToPandasDate(D_mov, timecol)\n",
    "D_node=mdb.queryTodf(model_dist.node.objects)\n",
    "D_plant=mdb.queryTodf(model_prod.plant.objects)"
   ]
  },
  {
   "cell_type": "markdown",
   "metadata": {},
   "source": [
    "### Create folder hierarchy"
   ]
  },
  {
   "cell_type": "code",
   "execution_count": null,
   "metadata": {},
   "outputs": [],
   "source": [
    "pathResults = 'C:\\\\Users\\\\aletu\\\\desktop'\n",
    "_, root_path = creaCartella(pathResults,f\"{dbName}_results\")\n",
    "_, path_results = creaCartella(root_path,f\"P8_networkAssessment\")\n",
    "_, currentPath = creaCartella(path_results,f\"Network Graph Assessment\")"
   ]
  },
  {
   "cell_type": "markdown",
   "metadata": {},
   "source": [
    "### Network rays"
   ]
  },
  {
   "cell_type": "code",
   "execution_count": null,
   "metadata": {},
   "outputs": [],
   "source": [
    "outputfigures, outputCoverages = networkRaysPlot(D_mov=D_mov, \n",
    "                                timecol=timecol,\n",
    "                                lonCol_to=lonCol_to, \n",
    "                                latCol_to=latCol_to, \n",
    "                                lonCol_from=lonCol_from, \n",
    "                                latCol_from=latCol_from, \n",
    "                                G=G,\n",
    "                                capacityField=capacityField,\n",
    "                                sampleInterval=sampleInterval)\n",
    "\n",
    "for key in outputfigures.keys():\n",
    "        outputfigures[key].savefig(currentPath+f\"\\\\{key}.png\")\n",
    "        \n",
    "for key in outputCoverages.keys():\n",
    "        outputCoverages[key].to_excel(currentPath+f\"\\\\{key}.xlsx\")"
   ]
  },
  {
   "cell_type": "markdown",
   "metadata": {},
   "source": [
    "### Network arcs"
   ]
  },
  {
   "cell_type": "code",
   "execution_count": null,
   "metadata": {},
   "outputs": [],
   "source": [
    "if len(D_arcs)>0:\n",
    "    outputfigures = networkRoadsRoutePlot(D_arcs,lonCol_from, latCol_from, latCol_to,lonCol_to, G)\n",
    "    for key in outputfigures.keys():\n",
    "            outputfigures[key].savefig(currentPath+f\"\\\\{key}.png\")"
   ]
  },
  {
   "cell_type": "markdown",
   "metadata": {},
   "source": [
    "### Network nodes"
   ]
  },
  {
   "cell_type": "code",
   "execution_count": null,
   "metadata": {},
   "outputs": [],
   "source": [
    "if len(colorNode)==0:\n",
    "    D_node['SIZE']=1\n",
    "    colorNode='SIZE'\n",
    "    \n",
    "if len(sizeNode)==0:\n",
    "    D_node['SIZE']=1\n",
    "    sizeNode='SIZE'\n",
    "\n",
    "fig, coverages = supplyChainMap(D_table=D_node,\n",
    "                                latCol=latCol_node,\n",
    "                                lonCol=lonCol_node,\n",
    "                                descrCol=descrColNode,\n",
    "                                color=colorNode,\n",
    "                                size=sizeNode,\n",
    "                                cleanOutliers=cleanOutliers)\n",
    "plotly.offline.plot(fig, filename = f\"{currentPath}//supplyChainNodeType.html\", auto_open=False)\n",
    "fig.show()\n",
    "for key in coverages.keys():\n",
    "    coverages[key].to_excel(currentPath+f\"\\\\supplyChainNodeType_coverages.xlsx\")\n"
   ]
  },
  {
   "cell_type": "code",
   "execution_count": null,
   "metadata": {},
   "outputs": [],
   "source": [
    "#represent without colors\n",
    "fig, coverages = supplyChainMap(D_table=D_node,\n",
    "                                latCol=latCol_node,\n",
    "                                lonCol=lonCol_node,\n",
    "                                descrCol=descrColNode,\n",
    "                                color=sizeNode,\n",
    "                                size=sizeNode,\n",
    "                                cleanOutliers=cleanOutliers)\n",
    "plotly.offline.plot(fig, filename = f\"{currentPath}//supplyChainNodes.html\", auto_open=False)\n",
    "fig.show()\n",
    "for key in coverages.keys():\n",
    "    coverages[key].to_excel(currentPath+f\"\\\\supplyChainNodes.xlsx\")"
   ]
  },
  {
   "cell_type": "markdown",
   "metadata": {},
   "source": [
    "### Set covering problem"
   ]
  },
  {
   "cell_type": "code",
   "execution_count": null,
   "metadata": {},
   "outputs": [],
   "source": [
    "fig, output_coverages = supplyChainCovering(D_plant=D_plant,\n",
    "                               D_mov=D_mov,\n",
    "                               latCol_plant=latCol_plant,\n",
    "                               lonCol_plant=lonCol_plant,\n",
    "                               node_from=node_from,\n",
    "                               node_to=node_to,\n",
    "                               lonCol_to=lonCol_to,\n",
    "                               latCol_to=latCol_to,\n",
    "                               capacityField=capacityField,\n",
    "                               cleanOutliers=cleanOutliers)\n",
    "\n",
    "plotly.offline.plot(fig, filename = f\"{currentPath}//supplyChainCovering.html\", auto_open=False)\n",
    "fig.show()\n",
    "for key in output_coverages.keys():\n",
    "    output_coverages[key].to_excel(currentPath+f\"\\\\supplyChainCovering.xlsx\")"
   ]
  },
  {
   "cell_type": "markdown",
   "metadata": {},
   "source": [
    "### Centers of mass"
   ]
  },
  {
   "cell_type": "code",
   "execution_count": null,
   "metadata": {},
   "outputs": [],
   "source": [
    "# %% REPRESENT THE CENTER OF MASS\n",
    "fig, output_coverages = supplyChainCentersOfMass(D_plant=D_plant,\n",
    "                               D_mov=D_mov,\n",
    "                               latCol_plant=latCol_plant,\n",
    "                               lonCol_plant=lonCol_plant,\n",
    "                               node_from=node_from,\n",
    "                               node_to=node_to,\n",
    "                               lonCol_to=lonCol_to,\n",
    "                               latCol_to=latCol_to,\n",
    "                               capacityField=capacityField,\n",
    "                               cleanOutliers=cleanOutliers)\n",
    "plotly.offline.plot(fig, filename = f\"{currentPath}//supplyChainCentersOfMass.html\", auto_open=False)\n",
    "fig.show()\n",
    "for key in output_coverages.keys():\n",
    "    output_coverages[key].to_excel(currentPath+f\"\\\\supplyChainCentersOfMass.xlsx\")"
   ]
  }
 ],
 "metadata": {
  "kernelspec": {
   "display_name": "Python 3",
   "language": "python",
   "name": "python3"
  },
  "language_info": {
   "codemirror_mode": {
    "name": "ipython",
    "version": 3
   },
   "file_extension": ".py",
   "mimetype": "text/x-python",
   "name": "python",
   "nbconvert_exporter": "python",
   "pygments_lexer": "ipython3",
   "version": "3.8.2"
  }
 },
 "nbformat": 4,
 "nbformat_minor": 4
}
