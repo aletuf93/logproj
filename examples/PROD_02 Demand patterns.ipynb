{
 "cells": [
  {
   "cell_type": "markdown",
   "metadata": {},
   "source": [
    "# Production demand patterns\n",
    "*This notebook illustrates methods to explore the demand patterns of a set of parts.*  \n",
    "*Use the virtual environment logproj.yml to run this notebook.*\n",
    "***\n",
    "Alessandro Tufano 2020"
   ]
  },
  {
   "cell_type": "markdown",
   "metadata": {},
   "source": [
    "### Import packages"
   ]
  },
  {
   "cell_type": "code",
   "execution_count": 11,
   "metadata": {},
   "outputs": [],
   "source": [
    "# %% append functions path\n",
    "import sys; sys.path.insert(0, '..') #add the above level with the package\n",
    "\n",
    "import pandas as pd\n",
    "import numpy as np\n",
    "\n",
    "from IPython.display import display, HTML #display dataframe\n",
    "\n",
    "#import utilities\n",
    "from logproj.utilities import creaCartella"
   ]
  },
  {
   "cell_type": "markdown",
   "metadata": {},
   "source": [
    "### Set data fields"
   ]
  },
  {
   "cell_type": "code",
   "execution_count": 2,
   "metadata": {},
   "outputs": [],
   "source": [
    "string_casestudy = 'TOY_DATA'"
   ]
  },
  {
   "cell_type": "markdown",
   "metadata": {},
   "source": [
    "### Import data"
   ]
  },
  {
   "cell_type": "code",
   "execution_count": 4,
   "metadata": {},
   "outputs": [],
   "source": [
    "# %% import data\n",
    "from logproj.data_generator_distribution import generateDistributionData\n",
    "\n",
    "#random generation of distribution data\n",
    "_, _, _, D_mov = generateDistributionData(num_movements=2500, num_parts = 100)\n"
   ]
  },
  {
   "cell_type": "code",
   "execution_count": 6,
   "metadata": {},
   "outputs": [
    {
     "data": {
      "text/html": [
       "<table border=\"1\" class=\"dataframe\">\n",
       "  <thead>\n",
       "    <tr style=\"text-align: right;\">\n",
       "      <th></th>\n",
       "      <th>LOADING_NODE</th>\n",
       "      <th>LOADING_NODE_DESCRIPTION</th>\n",
       "      <th>LOADING_NODE_LATITUDE</th>\n",
       "      <th>LOADING_NODE_LONGITUDE</th>\n",
       "      <th>PTA_FROM</th>\n",
       "      <th>PTD_FROM</th>\n",
       "      <th>ATA_FROM</th>\n",
       "      <th>ATD_FROM</th>\n",
       "      <th>DISCHARGING_NODE</th>\n",
       "      <th>DISCHARGING_NODE_DESCRIPTION</th>\n",
       "      <th>DISCHARGING_LATITUDE</th>\n",
       "      <th>DISCHARGING_LONGITUDE</th>\n",
       "      <th>PTA_TO</th>\n",
       "      <th>PTD_TO</th>\n",
       "      <th>ATA_TO</th>\n",
       "      <th>ATD_TO</th>\n",
       "      <th>ITEMCODE</th>\n",
       "      <th>PRODUCT_FAMILY</th>\n",
       "      <th>CLIENT</th>\n",
       "      <th>VEHICLE_CODE</th>\n",
       "      <th>VOYAGE_CODE</th>\n",
       "      <th>QUANTITY</th>\n",
       "      <th>TIMESTAMP_IN</th>\n",
       "      <th>PACKAGE_DESCRIPTION</th>\n",
       "      <th>USER</th>\n",
       "    </tr>\n",
       "  </thead>\n",
       "  <tbody>\n",
       "    <tr>\n",
       "      <th>0</th>\n",
       "      <td>9</td>\n",
       "      <td>NODE_9</td>\n",
       "      <td>41.845392</td>\n",
       "      <td>14.739318</td>\n",
       "      <td>2020-01-02 00:00:00.000000</td>\n",
       "      <td>2020-01-02 01:00:00.000000</td>\n",
       "      <td>2020-01-01 23:48:00.722898</td>\n",
       "      <td>2020-01-02 01:08:02.854602</td>\n",
       "      <td>3</td>\n",
       "      <td>NODE_3</td>\n",
       "      <td>41.840934</td>\n",
       "      <td>14.029557</td>\n",
       "      <td>2020-01-02 21:03:38.121079</td>\n",
       "      <td>2020-01-02 22:03:38.121079</td>\n",
       "      <td>2020-01-02 21:11:35.760495</td>\n",
       "      <td>2020-01-02 22:05:52.861864</td>\n",
       "      <td>65</td>\n",
       "      <td>PRODUCT_FAMILY 1</td>\n",
       "      <td>CLIENT 2</td>\n",
       "      <td>TRUCK 1</td>\n",
       "      <td>0</td>\n",
       "      <td>1.076042</td>\n",
       "      <td>2019-12-24 15:31:56.521260</td>\n",
       "      <td>TEU CONTAINER</td>\n",
       "      <td>USER_0</td>\n",
       "    </tr>\n",
       "    <tr>\n",
       "      <th>0</th>\n",
       "      <td>21</td>\n",
       "      <td>NODE_21</td>\n",
       "      <td>41.528971</td>\n",
       "      <td>14.969752</td>\n",
       "      <td>2020-01-03 00:24:42.983959</td>\n",
       "      <td>2020-01-03 01:24:42.983959</td>\n",
       "      <td>2020-01-03 00:44:00.758088</td>\n",
       "      <td>2020-01-03 01:15:21.330825</td>\n",
       "      <td>3</td>\n",
       "      <td>NODE_3</td>\n",
       "      <td>41.840934</td>\n",
       "      <td>14.029557</td>\n",
       "      <td>2020-01-04 05:28:37.751013</td>\n",
       "      <td>2020-01-04 06:28:37.751013</td>\n",
       "      <td>2020-01-04 05:17:15.074000</td>\n",
       "      <td>2020-01-04 06:40:12.948972</td>\n",
       "      <td>89</td>\n",
       "      <td>PRODUCT_FAMILY 1</td>\n",
       "      <td>CLIENT 2</td>\n",
       "      <td>TRUCK 1</td>\n",
       "      <td>0</td>\n",
       "      <td>5.166790</td>\n",
       "      <td>2019-12-05 15:10:13.869492</td>\n",
       "      <td>TEU CONTAINER</td>\n",
       "      <td>USER_6</td>\n",
       "    </tr>\n",
       "    <tr>\n",
       "      <th>0</th>\n",
       "      <td>3</td>\n",
       "      <td>NODE_3</td>\n",
       "      <td>41.840934</td>\n",
       "      <td>14.029557</td>\n",
       "      <td>2020-01-04 07:37:40.285409</td>\n",
       "      <td>2020-01-04 08:37:40.285409</td>\n",
       "      <td>2020-01-04 07:23:36.494315</td>\n",
       "      <td>2020-01-04 08:48:17.820835</td>\n",
       "      <td>15</td>\n",
       "      <td>NODE_15</td>\n",
       "      <td>41.732713</td>\n",
       "      <td>14.465664</td>\n",
       "      <td>2020-01-04 16:38:04.473836</td>\n",
       "      <td>2020-01-04 17:38:04.473836</td>\n",
       "      <td>2020-01-04 16:24:57.508541</td>\n",
       "      <td>2020-01-04 18:08:12.162449</td>\n",
       "      <td>48</td>\n",
       "      <td>PRODUCT_FAMILY 2</td>\n",
       "      <td>CLIENT 2</td>\n",
       "      <td>TRUCK 1</td>\n",
       "      <td>0</td>\n",
       "      <td>1.655524</td>\n",
       "      <td>2019-12-31 13:13:03.087426</td>\n",
       "      <td>FEU CONTAINER</td>\n",
       "      <td>USER_2</td>\n",
       "    </tr>\n",
       "    <tr>\n",
       "      <th>0</th>\n",
       "      <td>22</td>\n",
       "      <td>NODE_22</td>\n",
       "      <td>41.711571</td>\n",
       "      <td>14.992303</td>\n",
       "      <td>2020-01-05 00:05:06.931083</td>\n",
       "      <td>2020-01-05 01:05:06.931083</td>\n",
       "      <td>2020-01-04 23:58:16.602785</td>\n",
       "      <td>2020-01-05 01:19:57.311278</td>\n",
       "      <td>0</td>\n",
       "      <td>NODE_0</td>\n",
       "      <td>41.535813</td>\n",
       "      <td>14.370158</td>\n",
       "      <td>2020-01-05 12:05:03.228367</td>\n",
       "      <td>2020-01-05 13:05:03.228367</td>\n",
       "      <td>2020-01-05 11:40:33.091177</td>\n",
       "      <td>2020-01-05 12:47:57.275127</td>\n",
       "      <td>78</td>\n",
       "      <td>PRODUCT_FAMILY 2</td>\n",
       "      <td>CLIENT 1</td>\n",
       "      <td>TRUCK 1</td>\n",
       "      <td>0</td>\n",
       "      <td>4.259778</td>\n",
       "      <td>2020-01-04 18:18:08.413786</td>\n",
       "      <td>TEU CONTAINER</td>\n",
       "      <td>USER_6</td>\n",
       "    </tr>\n",
       "    <tr>\n",
       "      <th>0</th>\n",
       "      <td>21</td>\n",
       "      <td>NODE_21</td>\n",
       "      <td>41.528971</td>\n",
       "      <td>14.969752</td>\n",
       "      <td>2020-01-05 16:13:38.333185</td>\n",
       "      <td>2020-01-05 17:13:38.333185</td>\n",
       "      <td>2020-01-05 16:04:07.225675</td>\n",
       "      <td>2020-01-05 17:40:48.556060</td>\n",
       "      <td>0</td>\n",
       "      <td>NODE_0</td>\n",
       "      <td>41.535813</td>\n",
       "      <td>14.370158</td>\n",
       "      <td>2020-01-06 00:55:42.518817</td>\n",
       "      <td>2020-01-06 01:55:42.518817</td>\n",
       "      <td>2020-01-06 00:56:03.861701</td>\n",
       "      <td>2020-01-06 01:32:55.911648</td>\n",
       "      <td>15</td>\n",
       "      <td>PRODUCT_FAMILY 1</td>\n",
       "      <td>CLIENT 1</td>\n",
       "      <td>TRUCK 1</td>\n",
       "      <td>0</td>\n",
       "      <td>6.937719</td>\n",
       "      <td>2020-01-04 15:41:26.620318</td>\n",
       "      <td>FEU CONTAINER</td>\n",
       "      <td>USER_4</td>\n",
       "    </tr>\n",
       "  </tbody>\n",
       "</table>"
      ],
      "text/plain": [
       "<IPython.core.display.HTML object>"
      ]
     },
     "metadata": {},
     "output_type": "display_data"
    }
   ],
   "source": [
    "#print nodes dataframe\n",
    "display(HTML(D_mov.head().to_html()))"
   ]
  },
  {
   "cell_type": "markdown",
   "metadata": {},
   "source": [
    "### Create folder hierarchy"
   ]
  },
  {
   "cell_type": "code",
   "execution_count": 5,
   "metadata": {},
   "outputs": [
    {
     "name": "stdout",
     "output_type": "stream",
     "text": [
      "Cartella TOY_DATA_results già esistente\n"
     ]
    }
   ],
   "source": [
    "# %% create folder hierarchy\n",
    "pathResults = 'C:\\\\Users\\\\aletu\\\\desktop'\n",
    "_, root_path = creaCartella(pathResults,f\"{string_casestudy}_results\")\n",
    "_, prediction_results_path = creaCartella(root_path,f\"P9_predictions\")"
   ]
  },
  {
   "cell_type": "markdown",
   "metadata": {},
   "source": [
    "### Calculate ADI and CV2"
   ]
  },
  {
   "cell_type": "code",
   "execution_count": 17,
   "metadata": {},
   "outputs": [],
   "source": [
    "itemfield='ITEMCODE' #column name with itemcode \n",
    "qtyfield = 'QUANTITY' #column name with quantity\n",
    "dateVar = 'TIMESTAMP_IN'\n",
    "\n",
    "def calculateADICV2(D_mov, itemfield, qtyfield, dateVar)\n",
    "    #identify the number of days of the input dataset\n",
    "    N_Days=max(D_mov[dateVar])-min(D_mov[dateVar])\n",
    "    N_Days=N_Days.days\n",
    "\n",
    "    D_demandPatterns = pd.DataFrame(columns = ['ITEMCODE','ADI','CV2'])\n",
    "    for item in set(D_mov[itemfield]):\n",
    "                #item='17092774'\n",
    "                df_filtered=D_mov[D_mov[itemfield]==item]\n",
    "                CV2=(np.std(df_filtered[qtyfield])/np.mean(df_filtered[qtyfield]))**2\n",
    "\n",
    "                #ADI in days\n",
    "                df_filtered=df_filtered.sort_values(by=dateVar)\n",
    "                ADI=len(df_filtered)/N_Days\n",
    "                D_demandPatterns = D_demandPatterns.append(pd.DataFrame([[item, ADI,CV2]],columns=D_demandPatterns.columns))\n",
    "    return D_demandPatterns\n",
    "D_demandPatterns = calculateADICV2(D_mov, itemfield, qtyfield, dateVar)\n",
    "    "
   ]
  },
  {
   "cell_type": "code",
   "execution_count": 23,
   "metadata": {},
   "outputs": [
    {
     "data": {
      "text/html": [
       "<table border=\"1\" class=\"dataframe\">\n",
       "  <thead>\n",
       "    <tr style=\"text-align: right;\">\n",
       "      <th></th>\n",
       "      <th>ITEMCODE</th>\n",
       "      <th>ADI</th>\n",
       "      <th>CV2</th>\n",
       "      <th>frequency</th>\n",
       "    </tr>\n",
       "  </thead>\n",
       "  <tbody>\n",
       "    <tr>\n",
       "      <th>0</th>\n",
       "      <td>0</td>\n",
       "      <td>0.018827</td>\n",
       "      <td>0.132560</td>\n",
       "      <td>1</td>\n",
       "    </tr>\n",
       "    <tr>\n",
       "      <th>0</th>\n",
       "      <td>1</td>\n",
       "      <td>0.015062</td>\n",
       "      <td>0.240670</td>\n",
       "      <td>1</td>\n",
       "    </tr>\n",
       "    <tr>\n",
       "      <th>0</th>\n",
       "      <td>2</td>\n",
       "      <td>0.011296</td>\n",
       "      <td>0.153792</td>\n",
       "      <td>1</td>\n",
       "    </tr>\n",
       "    <tr>\n",
       "      <th>0</th>\n",
       "      <td>3</td>\n",
       "      <td>0.011834</td>\n",
       "      <td>0.167010</td>\n",
       "      <td>1</td>\n",
       "    </tr>\n",
       "    <tr>\n",
       "      <th>0</th>\n",
       "      <td>4</td>\n",
       "      <td>0.013986</td>\n",
       "      <td>0.232690</td>\n",
       "      <td>1</td>\n",
       "    </tr>\n",
       "  </tbody>\n",
       "</table>"
      ],
      "text/plain": [
       "<IPython.core.display.HTML object>"
      ]
     },
     "metadata": {},
     "output_type": "display_data"
    }
   ],
   "source": [
    "#print demand patterns dataframe\n",
    "display(HTML(D_demandPatterns.head().to_html()))"
   ]
  },
  {
   "cell_type": "markdown",
   "metadata": {},
   "source": [
    "### Plot demand patterns"
   ]
  },
  {
   "cell_type": "code",
   "execution_count": 22,
   "metadata": {},
   "outputs": [],
   "source": [
    "#set the relative importance of each part\n",
    "D_demandPatterns['frequency']=1"
   ]
  },
  {
   "cell_type": "code",
   "execution_count": 25,
   "metadata": {},
   "outputs": [
    {
     "data": {
      "text/plain": [
       "(<Figure size 432x288 with 1 Axes>,\n",
       " <Figure size 432x288 with 1 Axes>,\n",
       " 0,\n",
       " 100,\n",
       " 0,\n",
       " 0)"
      ]
     },
     "execution_count": 25,
     "metadata": {},
     "output_type": "execute_result"
    },
    {
     "data": {
      "image/png": "[encoded data removed]",
      "text/plain": [
       "<Figure size 432x288 with 1 Axes>"
      ]
     },
     "metadata": {
      "needs_background": "light"
     },
     "output_type": "display_data"
    },
    {
     "data": {
      "image/png": "[encoded data removed]",
      "text/plain": [
       "<Figure size 432x288 with 1 Axes>"
      ]
     },
     "metadata": {
      "needs_background": "light"
     },
     "output_type": "display_data"
    }
   ],
   "source": [
    "from logproj.P1_familyProblem.part_classification import demandPatternADICV2\n",
    "demandPatternADICV2(D_demandPatterns, string_casestudy, draw=True)"
   ]
  }
 ],
 "metadata": {
  "kernelspec": {
   "display_name": "Python 3",
   "language": "python",
   "name": "python3"
  },
  "language_info": {
   "codemirror_mode": {
    "name": "ipython",
    "version": 3
   },
   "file_extension": ".py",
   "mimetype": "text/x-python",
   "name": "python",
   "nbconvert_exporter": "python",
   "pygments_lexer": "ipython3",
   "version": "3.6.10"
  }
 },
 "nbformat": 4,
 "nbformat_minor": 4
}
