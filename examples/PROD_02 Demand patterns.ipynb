{
 "cells": [
  {
   "cell_type": "markdown",
   "metadata": {},
   "source": [
    "# Production demand patterns\n",
    "*This notebook illustrates methods to explore the demand patterns of a set of parts.*  \n",
    "*Use the virtual environment logproj.yml to run this notebook.*\n",
    "***\n",
    "Alessandro Tufano 2020"
   ]
  },
  {
   "cell_type": "markdown",
   "metadata": {},
   "source": [
    "### Import packages"
   ]
  },
  {
   "cell_type": "code",
   "execution_count": 1,
   "metadata": {},
   "outputs": [],
   "source": [
    "# %% append functions path\n",
    "import sys; sys.path.insert(0, '..') #add the above level with the package\n",
    "\n",
    "import pandas as pd\n",
    "import numpy as np\n",
    "\n",
    "from IPython.display import display, HTML #display dataframe\n",
    "\n",
    "#import utilities\n",
    "from logproj.utilities import creaCartella"
   ]
  },
  {
   "cell_type": "markdown",
   "metadata": {},
   "source": [
    "### Set data fields"
   ]
  },
  {
   "cell_type": "code",
   "execution_count": 2,
   "metadata": {},
   "outputs": [],
   "source": [
    "string_casestudy = 'TOY_DATA'"
   ]
  },
  {
   "cell_type": "markdown",
   "metadata": {},
   "source": [
    "### Import data"
   ]
  },
  {
   "cell_type": "code",
   "execution_count": 3,
   "metadata": {},
   "outputs": [],
   "source": [
    "# %% import data\n",
    "from logproj.data_generator_distribution import generateDistributionData\n",
    "\n",
    "#random generation of distribution data\n",
    "_, _, _, D_mov = generateDistributionData(num_movements=2500, num_parts = 100)\n"
   ]
  },
  {
   "cell_type": "code",
   "execution_count": 4,
   "metadata": {},
   "outputs": [
    {
     "data": {
      "text/html": [
       "<table border=\"1\" class=\"dataframe\">\n",
       "  <thead>\n",
       "    <tr style=\"text-align: right;\">\n",
       "      <th></th>\n",
       "      <th>LOADING_NODE</th>\n",
       "      <th>LOADING_NODE_DESCRIPTION</th>\n",
       "      <th>LOADING_NODE_LATITUDE</th>\n",
       "      <th>LOADING_NODE_LONGITUDE</th>\n",
       "      <th>PTA_FROM</th>\n",
       "      <th>PTD_FROM</th>\n",
       "      <th>ATA_FROM</th>\n",
       "      <th>ATD_FROM</th>\n",
       "      <th>DISCHARGING_NODE</th>\n",
       "      <th>DISCHARGING_NODE_DESCRIPTION</th>\n",
       "      <th>DISCHARGING_LATITUDE</th>\n",
       "      <th>DISCHARGING_LONGITUDE</th>\n",
       "      <th>PTA_TO</th>\n",
       "      <th>PTD_TO</th>\n",
       "      <th>ATA_TO</th>\n",
       "      <th>ATD_TO</th>\n",
       "      <th>ITEMCODE</th>\n",
       "      <th>PRODUCT_FAMILY</th>\n",
       "      <th>CLIENT</th>\n",
       "      <th>VEHICLE_CODE</th>\n",
       "      <th>VOYAGE_CODE</th>\n",
       "      <th>QUANTITY</th>\n",
       "      <th>TIMESTAMP_IN</th>\n",
       "      <th>PACKAGE_DESCRIPTION</th>\n",
       "      <th>USER</th>\n",
       "    </tr>\n",
       "  </thead>\n",
       "  <tbody>\n",
       "    <tr>\n",
       "      <th>0</th>\n",
       "      <td>2</td>\n",
       "      <td>NODE_2</td>\n",
       "      <td>41.800299</td>\n",
       "      <td>15.040764</td>\n",
       "      <td>2020-01-02 00:00:00.000000</td>\n",
       "      <td>2020-01-02 01:00:00.000000</td>\n",
       "      <td>2020-01-02 00:05:43.744714</td>\n",
       "      <td>2020-01-02 01:14:00.253242</td>\n",
       "      <td>10</td>\n",
       "      <td>NODE_10</td>\n",
       "      <td>41.761236</td>\n",
       "      <td>14.901603</td>\n",
       "      <td>2020-01-02 04:49:36.539449</td>\n",
       "      <td>2020-01-02 05:49:36.539449</td>\n",
       "      <td>2020-01-02 04:47:04.744862</td>\n",
       "      <td>2020-01-02 06:19:33.143669</td>\n",
       "      <td>13</td>\n",
       "      <td>PRODUCT_FAMILY 1</td>\n",
       "      <td>CLIENT 1</td>\n",
       "      <td>TRUCK 1</td>\n",
       "      <td>0</td>\n",
       "      <td>9.940801</td>\n",
       "      <td>2019-12-31 15:13:12.318315</td>\n",
       "      <td>FEU CONTAINER</td>\n",
       "      <td>USER_5</td>\n",
       "    </tr>\n",
       "    <tr>\n",
       "      <th>0</th>\n",
       "      <td>22</td>\n",
       "      <td>NODE_22</td>\n",
       "      <td>41.526764</td>\n",
       "      <td>15.005625</td>\n",
       "      <td>2020-01-02 07:38:13.215426</td>\n",
       "      <td>2020-01-02 08:38:13.215426</td>\n",
       "      <td>2020-01-02 08:01:24.086258</td>\n",
       "      <td>2020-01-02 08:22:19.658261</td>\n",
       "      <td>17</td>\n",
       "      <td>NODE_17</td>\n",
       "      <td>41.773183</td>\n",
       "      <td>15.025028</td>\n",
       "      <td>2020-01-02 14:02:01.363303</td>\n",
       "      <td>2020-01-02 15:02:01.363303</td>\n",
       "      <td>2020-01-02 13:56:41.593685</td>\n",
       "      <td>2020-01-02 14:47:30.360020</td>\n",
       "      <td>72</td>\n",
       "      <td>PRODUCT_FAMILY 2</td>\n",
       "      <td>CLIENT 2</td>\n",
       "      <td>TRUCK 1</td>\n",
       "      <td>0</td>\n",
       "      <td>3.541510</td>\n",
       "      <td>2019-12-28 02:29:06.330201</td>\n",
       "      <td>FEU CONTAINER</td>\n",
       "      <td>USER_4</td>\n",
       "    </tr>\n",
       "    <tr>\n",
       "      <th>0</th>\n",
       "      <td>16</td>\n",
       "      <td>NODE_16</td>\n",
       "      <td>41.757053</td>\n",
       "      <td>14.963701</td>\n",
       "      <td>2020-01-02 15:45:48.952121</td>\n",
       "      <td>2020-01-02 16:45:48.952121</td>\n",
       "      <td>2020-01-02 15:43:55.011837</td>\n",
       "      <td>2020-01-02 16:49:59.069100</td>\n",
       "      <td>7</td>\n",
       "      <td>NODE_7</td>\n",
       "      <td>41.482315</td>\n",
       "      <td>14.628694</td>\n",
       "      <td>2020-01-03 05:20:19.674568</td>\n",
       "      <td>2020-01-03 06:20:19.674568</td>\n",
       "      <td>2020-01-03 04:54:10.075607</td>\n",
       "      <td>2020-01-03 06:01:40.750234</td>\n",
       "      <td>59</td>\n",
       "      <td>PRODUCT_FAMILY 2</td>\n",
       "      <td>CLIENT 2</td>\n",
       "      <td>TRUCK 1</td>\n",
       "      <td>0</td>\n",
       "      <td>7.138456</td>\n",
       "      <td>2019-12-14 09:24:12.146988</td>\n",
       "      <td>FEU CONTAINER</td>\n",
       "      <td>USER_3</td>\n",
       "    </tr>\n",
       "    <tr>\n",
       "      <th>0</th>\n",
       "      <td>11</td>\n",
       "      <td>NODE_11</td>\n",
       "      <td>41.915196</td>\n",
       "      <td>14.804739</td>\n",
       "      <td>2020-01-03 07:32:14.536305</td>\n",
       "      <td>2020-01-03 08:32:14.536305</td>\n",
       "      <td>2020-01-03 07:29:11.382647</td>\n",
       "      <td>2020-01-03 08:56:25.581188</td>\n",
       "      <td>22</td>\n",
       "      <td>NODE_22</td>\n",
       "      <td>41.526764</td>\n",
       "      <td>15.005625</td>\n",
       "      <td>2020-01-03 20:15:33.717094</td>\n",
       "      <td>2020-01-03 21:15:33.717094</td>\n",
       "      <td>2020-01-03 20:07:30.202876</td>\n",
       "      <td>2020-01-03 21:22:03.942005</td>\n",
       "      <td>51</td>\n",
       "      <td>PRODUCT_FAMILY 1</td>\n",
       "      <td>CLIENT 2</td>\n",
       "      <td>TRUCK 1</td>\n",
       "      <td>0</td>\n",
       "      <td>1.810188</td>\n",
       "      <td>2020-01-02 20:05:41.885432</td>\n",
       "      <td>TEU CONTAINER</td>\n",
       "      <td>USER_4</td>\n",
       "    </tr>\n",
       "    <tr>\n",
       "      <th>0</th>\n",
       "      <td>20</td>\n",
       "      <td>NODE_20</td>\n",
       "      <td>41.735692</td>\n",
       "      <td>14.116754</td>\n",
       "      <td>2020-01-03 21:31:54.274411</td>\n",
       "      <td>2020-01-03 22:31:54.274411</td>\n",
       "      <td>2020-01-03 21:18:02.057008</td>\n",
       "      <td>2020-01-03 22:44:02.364698</td>\n",
       "      <td>5</td>\n",
       "      <td>NODE_5</td>\n",
       "      <td>41.486453</td>\n",
       "      <td>14.774873</td>\n",
       "      <td>2020-01-04 21:44:42.833206</td>\n",
       "      <td>2020-01-04 22:44:42.833206</td>\n",
       "      <td>2020-01-04 21:32:30.303637</td>\n",
       "      <td>2020-01-04 23:13:58.918675</td>\n",
       "      <td>62</td>\n",
       "      <td>PRODUCT_FAMILY 2</td>\n",
       "      <td>CLIENT 2</td>\n",
       "      <td>TRUCK 1</td>\n",
       "      <td>0</td>\n",
       "      <td>6.311582</td>\n",
       "      <td>2020-01-01 10:33:05.193078</td>\n",
       "      <td>FEU CONTAINER</td>\n",
       "      <td>USER_0</td>\n",
       "    </tr>\n",
       "  </tbody>\n",
       "</table>"
      ],
      "text/plain": [
       "<IPython.core.display.HTML object>"
      ]
     },
     "metadata": {},
     "output_type": "display_data"
    }
   ],
   "source": [
    "#print nodes dataframe\n",
    "display(HTML(D_mov.head().to_html()))"
   ]
  },
  {
   "cell_type": "markdown",
   "metadata": {},
   "source": [
    "### Create folder hierarchy"
   ]
  },
  {
   "cell_type": "code",
   "execution_count": 5,
   "metadata": {},
   "outputs": [
    {
     "name": "stdout",
     "output_type": "stream",
     "text": [
      "Cartella TOY_DATA_results già esistente\n",
      "Cartella P9_predictions già esistente\n"
     ]
    }
   ],
   "source": [
    "# %% create folder hierarchy\n",
    "pathResults = 'C:\\\\Users\\\\aletu\\\\desktop'\n",
    "_, root_path = creaCartella(pathResults,f\"{string_casestudy}_results\")\n",
    "_, prediction_results_path = creaCartella(root_path,f\"P9_predictions\")"
   ]
  },
  {
   "cell_type": "markdown",
   "metadata": {},
   "source": [
    "### Calculate ADI and CV2"
   ]
  },
  {
   "cell_type": "code",
   "execution_count": 6,
   "metadata": {},
   "outputs": [],
   "source": [
    "from logproj.P1_familyProblem.part_classification import calculateADICV2\n",
    "\n",
    "#set column parameters\n",
    "itemfield='ITEMCODE' #column name with itemcode \n",
    "qtyfield = 'QUANTITY' #column name with quantity\n",
    "dateVar = 'TIMESTAMP_IN'\n",
    "\n",
    "D_demandPatterns = calculateADICV2(D_mov, itemfield, qtyfield, dateVar)\n",
    "    "
   ]
  },
  {
   "cell_type": "code",
   "execution_count": 7,
   "metadata": {},
   "outputs": [
    {
     "data": {
      "text/html": [
       "<table border=\"1\" class=\"dataframe\">\n",
       "  <thead>\n",
       "    <tr style=\"text-align: right;\">\n",
       "      <th></th>\n",
       "      <th>ITEMCODE</th>\n",
       "      <th>ADI</th>\n",
       "      <th>CV2</th>\n",
       "    </tr>\n",
       "  </thead>\n",
       "  <tbody>\n",
       "    <tr>\n",
       "      <th>0</th>\n",
       "      <td>0</td>\n",
       "      <td>0.013348</td>\n",
       "      <td>0.336926</td>\n",
       "    </tr>\n",
       "    <tr>\n",
       "      <th>0</th>\n",
       "      <td>1</td>\n",
       "      <td>0.016685</td>\n",
       "      <td>0.136675</td>\n",
       "    </tr>\n",
       "    <tr>\n",
       "      <th>0</th>\n",
       "      <td>2</td>\n",
       "      <td>0.008343</td>\n",
       "      <td>0.084249</td>\n",
       "    </tr>\n",
       "    <tr>\n",
       "      <th>0</th>\n",
       "      <td>3</td>\n",
       "      <td>0.011680</td>\n",
       "      <td>0.093550</td>\n",
       "    </tr>\n",
       "    <tr>\n",
       "      <th>0</th>\n",
       "      <td>4</td>\n",
       "      <td>0.021691</td>\n",
       "      <td>0.213602</td>\n",
       "    </tr>\n",
       "  </tbody>\n",
       "</table>"
      ],
      "text/plain": [
       "<IPython.core.display.HTML object>"
      ]
     },
     "metadata": {},
     "output_type": "display_data"
    }
   ],
   "source": [
    "#print demand patterns dataframe\n",
    "display(HTML(D_demandPatterns.head().to_html()))"
   ]
  },
  {
   "cell_type": "markdown",
   "metadata": {},
   "source": [
    "### Plot demand patterns"
   ]
  },
  {
   "cell_type": "code",
   "execution_count": 8,
   "metadata": {},
   "outputs": [],
   "source": [
    "#set the relative importance of each part\n",
    "D_demandPatterns['frequency']=1"
   ]
  },
  {
   "cell_type": "code",
   "execution_count": 9,
   "metadata": {},
   "outputs": [
    {
     "data": {
      "text/plain": [
       "(<Figure size 432x288 with 1 Axes>,\n",
       " <Figure size 432x288 with 1 Axes>,\n",
       " 0,\n",
       " 100,\n",
       " 0,\n",
       " 0)"
      ]
     },
     "execution_count": 9,
     "metadata": {},
     "output_type": "execute_result"
    },
    {
     "data": {
      "image/png": "[encoded data removed]",
      "text/plain": [
       "<Figure size 432x288 with 1 Axes>"
      ]
     },
     "metadata": {
      "needs_background": "light"
     },
     "output_type": "display_data"
    },
    {
     "data": {
      "image/png": "[encoded data removed]",
      "text/plain": [
       "<Figure size 432x288 with 1 Axes>"
      ]
     },
     "metadata": {
      "needs_background": "light"
     },
     "output_type": "display_data"
    }
   ],
   "source": [
    "from logproj.P1_familyProblem.part_classification import demandPatternADICV2\n",
    "demandPatternADICV2(D_demandPatterns, string_casestudy, draw=True)"
   ]
  }
 ],
 "metadata": {
  "kernelspec": {
   "display_name": "Python 3",
   "language": "python",
   "name": "python3"
  },
  "language_info": {
   "codemirror_mode": {
    "name": "ipython",
    "version": 3
   },
   "file_extension": ".py",
   "mimetype": "text/x-python",
   "name": "python",
   "nbconvert_exporter": "python",
   "pygments_lexer": "ipython3",
   "version": "3.6.10"
  }
 },
 "nbformat": 4,
 "nbformat_minor": 4
}
