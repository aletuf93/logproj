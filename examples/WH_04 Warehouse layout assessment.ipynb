{
 "cells": [
  {
   "cell_type": "markdown",
   "metadata": {},
   "source": [
    "# Warehouse Layout assessment\n",
    "*This notebook illustrates how to assess the layout and the travelled distances of a storage system.\n",
    "*Use the virtual environment logproj.yml to run this notebook.*\n",
    "***\n",
    "Alessandro Tufano 2020"
   ]
  },
  {
   "cell_type": "markdown",
   "metadata": {},
   "source": [
    "### Import packages"
   ]
  },
  {
   "cell_type": "code",
   "execution_count": 1,
   "metadata": {},
   "outputs": [],
   "source": [
    "# %% append functions path\n",
    "import sys; sys.path.insert(0, '..') #add the above level with the package\n",
    "\n",
    "import pandas as pd\n",
    "import numpy as np\n",
    "\n",
    "from IPython.display import display, HTML #display dataframe\n",
    "\n",
    "#import utilities\n",
    "from logproj.utilities import creaCartella"
   ]
  },
  {
   "cell_type": "markdown",
   "metadata": {},
   "source": [
    "### Set data fields"
   ]
  },
  {
   "cell_type": "code",
   "execution_count": 2,
   "metadata": {},
   "outputs": [],
   "source": [
    "string_casestudy = 'TOY_DATA'"
   ]
  },
  {
   "cell_type": "markdown",
   "metadata": {},
   "source": [
    "### Import data"
   ]
  },
  {
   "cell_type": "code",
   "execution_count": 3,
   "metadata": {},
   "outputs": [],
   "source": [
    "# %% import data\n",
    "from logproj.data_generator_warehouse import generateWarehouseData\n",
    "D_locations, D_SKUs, D_movements, D_inventory = generateWarehouseData()\n"
   ]
  },
  {
   "cell_type": "code",
   "execution_count": 4,
   "metadata": {},
   "outputs": [
    {
     "data": {
      "text/html": [
       "<table border=\"1\" class=\"dataframe\">\n",
       "  <thead>\n",
       "    <tr style=\"text-align: right;\">\n",
       "      <th></th>\n",
       "      <th>NODECODE</th>\n",
       "      <th>IDWH</th>\n",
       "      <th>WHSUBAREA</th>\n",
       "      <th>IDLOCATION</th>\n",
       "      <th>LOCCODEX</th>\n",
       "      <th>LOCCODEY</th>\n",
       "      <th>LOCCODEZ</th>\n",
       "      <th>RACK</th>\n",
       "      <th>BAY</th>\n",
       "      <th>LEVEL</th>\n",
       "    </tr>\n",
       "  </thead>\n",
       "  <tbody>\n",
       "    <tr>\n",
       "      <th>0</th>\n",
       "      <td>1</td>\n",
       "      <td>FAKE</td>\n",
       "      <td>AREA 1</td>\n",
       "      <td>1</td>\n",
       "      <td>0</td>\n",
       "      <td>0</td>\n",
       "      <td>0</td>\n",
       "      <td>0</td>\n",
       "      <td>0</td>\n",
       "      <td>0</td>\n",
       "    </tr>\n",
       "    <tr>\n",
       "      <th>0</th>\n",
       "      <td>1</td>\n",
       "      <td>LOGICAL_WH1</td>\n",
       "      <td>AREA 1</td>\n",
       "      <td>2</td>\n",
       "      <td>0</td>\n",
       "      <td>0</td>\n",
       "      <td>1200</td>\n",
       "      <td>0</td>\n",
       "      <td>0</td>\n",
       "      <td>1</td>\n",
       "    </tr>\n",
       "    <tr>\n",
       "      <th>0</th>\n",
       "      <td>1</td>\n",
       "      <td>LOGICAL_WH2</td>\n",
       "      <td>AREA 1</td>\n",
       "      <td>3</td>\n",
       "      <td>0</td>\n",
       "      <td>0</td>\n",
       "      <td>2400</td>\n",
       "      <td>0</td>\n",
       "      <td>0</td>\n",
       "      <td>2</td>\n",
       "    </tr>\n",
       "    <tr>\n",
       "      <th>0</th>\n",
       "      <td>1</td>\n",
       "      <td>FAKE</td>\n",
       "      <td>AREA 1</td>\n",
       "      <td>4</td>\n",
       "      <td>0</td>\n",
       "      <td>0</td>\n",
       "      <td>3600</td>\n",
       "      <td>0</td>\n",
       "      <td>0</td>\n",
       "      <td>3</td>\n",
       "    </tr>\n",
       "    <tr>\n",
       "      <th>0</th>\n",
       "      <td>1</td>\n",
       "      <td>FAKE</td>\n",
       "      <td>AREA 1</td>\n",
       "      <td>5</td>\n",
       "      <td>0</td>\n",
       "      <td>0</td>\n",
       "      <td>4800</td>\n",
       "      <td>0</td>\n",
       "      <td>0</td>\n",
       "      <td>4</td>\n",
       "    </tr>\n",
       "  </tbody>\n",
       "</table>"
      ],
      "text/plain": [
       "<IPython.core.display.HTML object>"
      ]
     },
     "metadata": {},
     "output_type": "display_data"
    }
   ],
   "source": [
    "#print locations dataframe\n",
    "display(HTML(D_locations.head().to_html()))"
   ]
  },
  {
   "cell_type": "code",
   "execution_count": 5,
   "metadata": {},
   "outputs": [
    {
     "data": {
      "text/html": [
       "<table border=\"1\" class=\"dataframe\">\n",
       "  <thead>\n",
       "    <tr style=\"text-align: right;\">\n",
       "      <th></th>\n",
       "      <th>ITEMCODE</th>\n",
       "      <th>DESCRIPTION</th>\n",
       "      <th>VOLUME</th>\n",
       "      <th>WEIGHT</th>\n",
       "    </tr>\n",
       "  </thead>\n",
       "  <tbody>\n",
       "    <tr>\n",
       "      <th>0</th>\n",
       "      <td>0</td>\n",
       "      <td>PRODOTTO_0</td>\n",
       "      <td>80.397226</td>\n",
       "      <td>7.586430</td>\n",
       "    </tr>\n",
       "    <tr>\n",
       "      <th>0</th>\n",
       "      <td>1</td>\n",
       "      <td>PRODOTTO_1</td>\n",
       "      <td>93.454708</td>\n",
       "      <td>5.190927</td>\n",
       "    </tr>\n",
       "    <tr>\n",
       "      <th>0</th>\n",
       "      <td>2</td>\n",
       "      <td>PRODOTTO_2</td>\n",
       "      <td>78.546997</td>\n",
       "      <td>3.614374</td>\n",
       "    </tr>\n",
       "    <tr>\n",
       "      <th>0</th>\n",
       "      <td>3</td>\n",
       "      <td>PRODOTTO_3</td>\n",
       "      <td>75.845620</td>\n",
       "      <td>5.616741</td>\n",
       "    </tr>\n",
       "    <tr>\n",
       "      <th>0</th>\n",
       "      <td>4</td>\n",
       "      <td>PRODOTTO_4</td>\n",
       "      <td>31.284550</td>\n",
       "      <td>8.856148</td>\n",
       "    </tr>\n",
       "  </tbody>\n",
       "</table>"
      ],
      "text/plain": [
       "<IPython.core.display.HTML object>"
      ]
     },
     "metadata": {},
     "output_type": "display_data"
    }
   ],
   "source": [
    "#print SKUs master file dataframe\n",
    "display(HTML(D_SKUs.head().to_html()))"
   ]
  },
  {
   "cell_type": "code",
   "execution_count": 6,
   "metadata": {},
   "outputs": [
    {
     "data": {
      "text/html": [
       "<table border=\"1\" class=\"dataframe\">\n",
       "  <thead>\n",
       "    <tr style=\"text-align: right;\">\n",
       "      <th></th>\n",
       "      <th>ITEMCODE</th>\n",
       "      <th>NODECODE</th>\n",
       "      <th>IDWH</th>\n",
       "      <th>WHSUBAREA</th>\n",
       "      <th>IDLOCATION</th>\n",
       "      <th>RACK</th>\n",
       "      <th>BAY</th>\n",
       "      <th>LEVEL</th>\n",
       "      <th>LOCCODEX</th>\n",
       "      <th>LOCCODEY</th>\n",
       "      <th>LOCCODEZ</th>\n",
       "      <th>ORDERCODE</th>\n",
       "      <th>PICKINGLIST</th>\n",
       "      <th>QUANTITY</th>\n",
       "      <th>VOLUME</th>\n",
       "      <th>WEIGHT</th>\n",
       "      <th>TIMESTAMP_IN</th>\n",
       "      <th>INOUT</th>\n",
       "      <th>ORDERTYPE</th>\n",
       "    </tr>\n",
       "  </thead>\n",
       "  <tbody>\n",
       "    <tr>\n",
       "      <th>0</th>\n",
       "      <td>38</td>\n",
       "      <td>1</td>\n",
       "      <td>LOGICAL_WH1</td>\n",
       "      <td>AREA 1</td>\n",
       "      <td>1331</td>\n",
       "      <td>4</td>\n",
       "      <td>2</td>\n",
       "      <td>0</td>\n",
       "      <td>16000</td>\n",
       "      <td>1600</td>\n",
       "      <td>0</td>\n",
       "      <td>718</td>\n",
       "      <td>718</td>\n",
       "      <td>20.126132</td>\n",
       "      <td>1190.719598</td>\n",
       "      <td>15.466392</td>\n",
       "      <td>2020-01-02 00:14:42.854625</td>\n",
       "      <td>-</td>\n",
       "      <td>PUTAWAY</td>\n",
       "    </tr>\n",
       "    <tr>\n",
       "      <th>0</th>\n",
       "      <td>36</td>\n",
       "      <td>1</td>\n",
       "      <td>FAKE</td>\n",
       "      <td>AREA 1</td>\n",
       "      <td>778</td>\n",
       "      <td>2</td>\n",
       "      <td>23</td>\n",
       "      <td>2</td>\n",
       "      <td>8000</td>\n",
       "      <td>18400</td>\n",
       "      <td>2400</td>\n",
       "      <td>656</td>\n",
       "      <td>656</td>\n",
       "      <td>9.897034</td>\n",
       "      <td>790.403142</td>\n",
       "      <td>68.104552</td>\n",
       "      <td>2020-01-02 01:14:09.352319</td>\n",
       "      <td>-</td>\n",
       "      <td>OTHER</td>\n",
       "    </tr>\n",
       "    <tr>\n",
       "      <th>0</th>\n",
       "      <td>87</td>\n",
       "      <td>1</td>\n",
       "      <td>LOGICAL_WH1</td>\n",
       "      <td>AREA 1</td>\n",
       "      <td>701</td>\n",
       "      <td>2</td>\n",
       "      <td>8</td>\n",
       "      <td>0</td>\n",
       "      <td>8000</td>\n",
       "      <td>6400</td>\n",
       "      <td>0</td>\n",
       "      <td>618</td>\n",
       "      <td>618</td>\n",
       "      <td>0.651394</td>\n",
       "      <td>24.330627</td>\n",
       "      <td>5.226682</td>\n",
       "      <td>2020-01-02 01:36:39.426802</td>\n",
       "      <td></td>\n",
       "      <td>PUTAWAY</td>\n",
       "    </tr>\n",
       "    <tr>\n",
       "      <th>0</th>\n",
       "      <td>37</td>\n",
       "      <td>1</td>\n",
       "      <td>LOGICAL_WH1</td>\n",
       "      <td>AREA 1</td>\n",
       "      <td>1282</td>\n",
       "      <td>3</td>\n",
       "      <td>58</td>\n",
       "      <td>1</td>\n",
       "      <td>12000</td>\n",
       "      <td>46400</td>\n",
       "      <td>1200</td>\n",
       "      <td>76</td>\n",
       "      <td>76</td>\n",
       "      <td>17.465840</td>\n",
       "      <td>759.280079</td>\n",
       "      <td>36.993686</td>\n",
       "      <td>2020-01-02 03:00:03.544366</td>\n",
       "      <td></td>\n",
       "      <td>PICKING</td>\n",
       "    </tr>\n",
       "    <tr>\n",
       "      <th>0</th>\n",
       "      <td>71</td>\n",
       "      <td>1</td>\n",
       "      <td>LOGICAL_WH1</td>\n",
       "      <td>AREA 1</td>\n",
       "      <td>1485</td>\n",
       "      <td>4</td>\n",
       "      <td>32</td>\n",
       "      <td>4</td>\n",
       "      <td>16000</td>\n",
       "      <td>25600</td>\n",
       "      <td>4800</td>\n",
       "      <td>259</td>\n",
       "      <td>259</td>\n",
       "      <td>15.479853</td>\n",
       "      <td>757.704912</td>\n",
       "      <td>63.002727</td>\n",
       "      <td>2020-01-02 03:44:09.500000</td>\n",
       "      <td>+</td>\n",
       "      <td>OTHER</td>\n",
       "    </tr>\n",
       "  </tbody>\n",
       "</table>"
      ],
      "text/plain": [
       "<IPython.core.display.HTML object>"
      ]
     },
     "metadata": {},
     "output_type": "display_data"
    }
   ],
   "source": [
    "#print SKUs master file dataframe\n",
    "display(HTML(D_movements.head().to_html()))"
   ]
  },
  {
   "cell_type": "code",
   "execution_count": 7,
   "metadata": {},
   "outputs": [
    {
     "data": {
      "text/html": [
       "<table border=\"1\" class=\"dataframe\">\n",
       "  <thead>\n",
       "    <tr style=\"text-align: right;\">\n",
       "      <th></th>\n",
       "      <th>NODECODE</th>\n",
       "      <th>IDWH</th>\n",
       "      <th>ITEMCODE</th>\n",
       "      <th>IDLOCATION</th>\n",
       "      <th>QUANTITY</th>\n",
       "      <th>TIMESTAMP</th>\n",
       "    </tr>\n",
       "  </thead>\n",
       "  <tbody>\n",
       "    <tr>\n",
       "      <th>0</th>\n",
       "      <td>1</td>\n",
       "      <td>LOGICAL_WH1</td>\n",
       "      <td>0</td>\n",
       "      <td>1229</td>\n",
       "      <td>14.214980</td>\n",
       "      <td>2020-01-02</td>\n",
       "    </tr>\n",
       "    <tr>\n",
       "      <th>0</th>\n",
       "      <td>1</td>\n",
       "      <td>LOGICAL_WH2</td>\n",
       "      <td>1</td>\n",
       "      <td>1232</td>\n",
       "      <td>18.330505</td>\n",
       "      <td>2020-01-02</td>\n",
       "    </tr>\n",
       "    <tr>\n",
       "      <th>0</th>\n",
       "      <td>1</td>\n",
       "      <td>LOGICAL_WH1</td>\n",
       "      <td>2</td>\n",
       "      <td>534</td>\n",
       "      <td>10.036301</td>\n",
       "      <td>2020-01-02</td>\n",
       "    </tr>\n",
       "    <tr>\n",
       "      <th>0</th>\n",
       "      <td>1</td>\n",
       "      <td>LOGICAL_WH2</td>\n",
       "      <td>3</td>\n",
       "      <td>1359</td>\n",
       "      <td>72.427013</td>\n",
       "      <td>2020-01-02</td>\n",
       "    </tr>\n",
       "    <tr>\n",
       "      <th>0</th>\n",
       "      <td>1</td>\n",
       "      <td>LOGICAL_WH2</td>\n",
       "      <td>4</td>\n",
       "      <td>824</td>\n",
       "      <td>16.515054</td>\n",
       "      <td>2020-01-02</td>\n",
       "    </tr>\n",
       "  </tbody>\n",
       "</table>"
      ],
      "text/plain": [
       "<IPython.core.display.HTML object>"
      ]
     },
     "metadata": {},
     "output_type": "display_data"
    }
   ],
   "source": [
    "#print SKUs master file dataframe\n",
    "display(HTML(D_inventory.head().to_html()))"
   ]
  },
  {
   "cell_type": "markdown",
   "metadata": {},
   "source": [
    "### Create folder hierarchy"
   ]
  },
  {
   "cell_type": "code",
   "execution_count": 8,
   "metadata": {},
   "outputs": [
    {
     "name": "stdout",
     "output_type": "stream",
     "text": [
      "Cartella TOY_DATA_results già esistente\n",
      "Cartella P8_warehouseAssessment già esistente\n"
     ]
    }
   ],
   "source": [
    "# %% create folder hierarchy\n",
    "pathResults = 'C:\\\\Users\\\\aletu\\\\desktop'\n",
    "_, root_path = creaCartella(pathResults,f\"{string_casestudy}_results\")\n",
    "_, path_results = creaCartella(root_path,f\"P8_warehouseAssessment\")"
   ]
  },
  {
   "cell_type": "markdown",
   "metadata": {},
   "source": [
    "### Preprocess data to define the warehouse graph"
   ]
  },
  {
   "cell_type": "code",
   "execution_count": 9,
   "metadata": {},
   "outputs": [
    {
     "name": "stdout",
     "output_type": "stream",
     "text": [
      "=======Input point unmapped. I is set to x:8000.0,y:-1\n",
      "=======Output point unmapped. O is set to x:8000.0,y:-1\n",
      "=====0 x coordinates have been randomly interpolated\n"
     ]
    },
    {
     "name": "stderr",
     "output_type": "stream",
     "text": [
      "C:\\Users\\aletu\\.conda\\envs\\logproj\\lib\\site-packages\\pandas\\core\\indexing.py:671: SettingWithCopyWarning: \n",
      "A value is trying to be set on a copy of a slice from a DataFrame\n",
      "\n",
      "See the caveats in the documentation: https://pandas.pydata.org/pandas-docs/stable/user_guide/indexing.html#returning-a-view-versus-a-copy\n",
      "  self._setitem_with_indexer(indexer, value)\n",
      "C:\\Users\\aletu\\.conda\\envs\\logproj\\lib\\site-packages\\pandas\\core\\generic.py:6245: SettingWithCopyWarning: \n",
      "A value is trying to be set on a copy of a slice from a DataFrame\n",
      "\n",
      "See the caveats in the documentation: https://pandas.pydata.org/pandas-docs/stable/user_guide/indexing.html#returning-a-view-versus-a-copy\n",
      "  self._update_inplace(new_data)\n",
      "C:\\Users\\aletu\\.conda\\envs\\logproj\\lib\\site-packages\\pandas\\core\\generic.py:7023: SettingWithCopyWarning: \n",
      "A value is trying to be set on a copy of a slice from a DataFrame\n",
      "\n",
      "See the caveats in the documentation: https://pandas.pydata.org/pandas-docs/stable/user_guide/indexing.html#returning-a-view-versus-a-copy\n",
      "  self._update_inplace(new_data)\n"
     ]
    },
    {
     "name": "stdout",
     "output_type": "stream",
     "text": [
      "=====0 y coordinates have been randomly interpolated\n"
     ]
    }
   ],
   "source": [
    "# %% LAYOUT ANALYSIS\n",
    "from logproj.P6_placementProblem.warehouse_graph_definition import prepareCoordinates\n",
    "import numpy as np\n",
    "_, path_current = creaCartella(path_results,f\"Layout\")\n",
    "\n",
    "\n",
    "D_layout, D_IO, D_fake,  allLocs = prepareCoordinates(D_locations)\n",
    "D_layout['aislecodex'] =np.nan \n",
    "\n",
    "\n",
    "# %% PREPARE DATA FOR GRAPH DEFINITION\n",
    "from logproj.P6_placementProblem.warehouse_graph_definition import defineWHgraph\n",
    "G, D_res, D_layout = defineWHgraph(D_layout=D_layout, \n",
    "              D_IO=D_IO, \n",
    "              D_fake=D_fake,\n",
    "              allLocs = len(D_locations), \n",
    "              draw=False, \n",
    "              arcLabel=False, \n",
    "              nodeLabel=False, \n",
    "              trafficGraph=True)"
   ]
  },
  {
   "cell_type": "markdown",
   "metadata": {},
   "source": [
    "### Define tha warehouse graph $G(V,A)$"
   ]
  },
  {
   "cell_type": "code",
   "execution_count": 10,
   "metadata": {},
   "outputs": [
    {
     "data": {
      "image/png": "[encoded data removed]",
      "text/plain": [
       "<Figure size 432x288 with 1 Axes>"
      ]
     },
     "metadata": {},
     "output_type": "display_data"
    }
   ],
   "source": [
    "# %% DEFINE THE GRAPH\n",
    "from  logproj.ml_graphs import printGraph\n",
    "# print the graph\n",
    "distance=weight='length'\n",
    "title='Warehouse graph'\n",
    "printNodecoords=False\n",
    "\n",
    "fig1 = printGraph(G, \n",
    "           distance, \n",
    "           weight, \n",
    "           title, \n",
    "           arcLabel=False, \n",
    "           nodeLabel=False, \n",
    "           trafficGraph=False,\n",
    "           printNodecoords=True,\n",
    "           D_layout=D_layout)\n",
    "fig1.savefig(path_current+\"//layout_graph.png\") "
   ]
  },
  {
   "cell_type": "markdown",
   "metadata": {},
   "source": [
    "### Assess the traffic within the warehouse"
   ]
  },
  {
   "cell_type": "code",
   "execution_count": 11,
   "metadata": {},
   "outputs": [
    {
     "data": {
      "image/png": "[encoded data removed]",
      "text/plain": [
       "<Figure size 432x288 with 1 Axes>"
      ]
     },
     "metadata": {},
     "output_type": "display_data"
    }
   ],
   "source": [
    "# %% DEFINE TRAFFIC CHART\n",
    "fig2 = printGraph(G, \n",
    "           distance, \n",
    "           weight, \n",
    "           title, \n",
    "           arcLabel=False, \n",
    "           nodeLabel=False, \n",
    "           trafficGraph=True,\n",
    "           printNodecoords=False,\n",
    "           D_layout=D_layout)\n",
    "fig2.savefig(path_current+\"//traffic_graph.png\") "
   ]
  },
  {
   "cell_type": "markdown",
   "metadata": {},
   "source": [
    "### Exchange storage locations to reduce the travelled distances"
   ]
  },
  {
   "cell_type": "code",
   "execution_count": 12,
   "metadata": {},
   "outputs": [
    {
     "name": "stdout",
     "output_type": "stream",
     "text": [
      "=======================================================\n",
      "The expected saving is: 15.5%\n"
     ]
    },
    {
     "data": {
      "image/png": "[encoded data removed]",
      "text/plain": [
       "<Figure size 432x288 with 2 Axes>"
      ]
     },
     "metadata": {
      "needs_background": "light"
     },
     "output_type": "display_data"
    }
   ],
   "source": [
    "# Exchange te storage locations to place the higher popularities close to the I/O point\n",
    "from logproj.P6_placementProblem.warehouse_graph_definition import calculateExchangeSaving\n",
    "D_results = calculateExchangeSaving(D_movements, D_res, G, useSameLevel=False)\n"
   ]
  },
  {
   "cell_type": "code",
   "execution_count": 13,
   "metadata": {},
   "outputs": [
    {
     "data": {
      "text/html": [
       "<table border=\"1\" class=\"dataframe\">\n",
       "  <thead>\n",
       "    <tr style=\"text-align: right;\">\n",
       "      <th></th>\n",
       "      <th>popularity</th>\n",
       "      <th>idNode</th>\n",
       "      <th>distance</th>\n",
       "      <th>new_idNode</th>\n",
       "      <th>new_distance</th>\n",
       "      <th>costASIS</th>\n",
       "      <th>costTOBE</th>\n",
       "      <th>loccodex</th>\n",
       "      <th>loccodey</th>\n",
       "      <th>idlocationASIS</th>\n",
       "      <th>idlocationTOBE</th>\n",
       "      <th>saving_rank</th>\n",
       "      <th>saving_exchange</th>\n",
       "      <th>loccodexTOBE</th>\n",
       "      <th>loccodeyTOBE</th>\n",
       "    </tr>\n",
       "  </thead>\n",
       "  <tbody>\n",
       "    <tr>\n",
       "      <th>0</th>\n",
       "      <td>4.0</td>\n",
       "      <td>5</td>\n",
       "      <td>28002.0</td>\n",
       "      <td>66</td>\n",
       "      <td>4002.0</td>\n",
       "      <td>112008.0</td>\n",
       "      <td>16008.0</td>\n",
       "      <td>2000.0</td>\n",
       "      <td>4000.0</td>\n",
       "      <td>359.0</td>\n",
       "      <td>661.0</td>\n",
       "      <td>0.857082</td>\n",
       "      <td>-0.000333</td>\n",
       "      <td>10000.0</td>\n",
       "      <td>0</td>\n",
       "    </tr>\n",
       "    <tr>\n",
       "      <th>1</th>\n",
       "      <td>4.0</td>\n",
       "      <td>73</td>\n",
       "      <td>15202.0</td>\n",
       "      <td>66</td>\n",
       "      <td>4002.0</td>\n",
       "      <td>60808.0</td>\n",
       "      <td>16008.0</td>\n",
       "      <td>10000.0</td>\n",
       "      <td>5600.0</td>\n",
       "      <td>700.0</td>\n",
       "      <td>662.0</td>\n",
       "      <td>0.736745</td>\n",
       "      <td>-0.000287</td>\n",
       "      <td>10000.0</td>\n",
       "      <td>0</td>\n",
       "    </tr>\n",
       "    <tr>\n",
       "      <th>2</th>\n",
       "      <td>4.0</td>\n",
       "      <td>45</td>\n",
       "      <td>92002.0</td>\n",
       "      <td>67</td>\n",
       "      <td>5602.0</td>\n",
       "      <td>368008.0</td>\n",
       "      <td>22408.0</td>\n",
       "      <td>2000.0</td>\n",
       "      <td>36000.0</td>\n",
       "      <td>226.0</td>\n",
       "      <td>670.0</td>\n",
       "      <td>0.939110</td>\n",
       "      <td>-0.000365</td>\n",
       "      <td>10000.0</td>\n",
       "      <td>800</td>\n",
       "    </tr>\n",
       "    <tr>\n",
       "      <th>3</th>\n",
       "      <td>4.0</td>\n",
       "      <td>141</td>\n",
       "      <td>30402.0</td>\n",
       "      <td>67</td>\n",
       "      <td>5602.0</td>\n",
       "      <td>121608.0</td>\n",
       "      <td>22408.0</td>\n",
       "      <td>16000.0</td>\n",
       "      <td>7200.0</td>\n",
       "      <td>1370.0</td>\n",
       "      <td>998.0</td>\n",
       "      <td>0.815736</td>\n",
       "      <td>-0.000317</td>\n",
       "      <td>10000.0</td>\n",
       "      <td>800</td>\n",
       "    </tr>\n",
       "    <tr>\n",
       "      <th>4</th>\n",
       "      <td>3.0</td>\n",
       "      <td>122</td>\n",
       "      <td>93602.0</td>\n",
       "      <td>68</td>\n",
       "      <td>7202.0</td>\n",
       "      <td>280806.0</td>\n",
       "      <td>21606.0</td>\n",
       "      <td>10000.0</td>\n",
       "      <td>44800.0</td>\n",
       "      <td>943.0</td>\n",
       "      <td>1004.0</td>\n",
       "      <td>0.923057</td>\n",
       "      <td>-0.000359</td>\n",
       "      <td>10000.0</td>\n",
       "      <td>1600</td>\n",
       "    </tr>\n",
       "  </tbody>\n",
       "</table>"
      ],
      "text/plain": [
       "<IPython.core.display.HTML object>"
      ]
     },
     "metadata": {},
     "output_type": "display_data"
    }
   ],
   "source": [
    "#print and save the locations exchange table\n",
    "display(HTML(D_results.head().to_html()))\n",
    "D_results.to_excel(path_current+\"\\\\exchange saving table.xlsx\")"
   ]
  },
  {
   "cell_type": "code",
   "execution_count": 14,
   "metadata": {},
   "outputs": [
    {
     "data": {
      "image/png": "[encoded data removed]",
      "text/plain": [
       "<Figure size 432x288 with 1 Axes>"
      ]
     },
     "metadata": {
      "needs_background": "light"
     },
     "output_type": "display_data"
    },
    {
     "data": {
      "image/png": "[encoded data removed]",
      "text/plain": [
       "<Figure size 432x288 with 1 Axes>"
      ]
     },
     "metadata": {
      "needs_background": "light"
     },
     "output_type": "display_data"
    }
   ],
   "source": [
    "# Compare the as-is scenario, and the exchanged one using a 2-d space productivity plot\n",
    "from logproj.P6_placementProblem.warehouse_graph_definition import returnbubbleGraphAsIsToBe\n",
    "output_figures = returnbubbleGraphAsIsToBe(D_results)\n",
    "for key in output_figures.keys():\n",
    "        output_figures[key].savefig(path_current+f\"\\\\{key}.png\") "
   ]
  },
  {
   "cell_type": "code",
   "execution_count": 15,
   "metadata": {},
   "outputs": [
    {
     "data": {
      "image/png": "[encoded data removed]",
      "text/plain": [
       "<Figure size 432x288 with 1 Axes>"
      ]
     },
     "metadata": {
      "needs_background": "light"
     },
     "output_type": "display_data"
    },
    {
     "data": {
      "image/png": "[encoded data removed]",
      "text/plain": [
       "<Figure size 432x288 with 1 Axes>"
      ]
     },
     "metadata": {
      "needs_background": "light"
     },
     "output_type": "display_data"
    }
   ],
   "source": [
    "# Compare the as-is scenario, and the exchanged one using a popularity - distance chart\n",
    "from logproj.P6_placementProblem.warehouse_graph_definition import asisTobeBubblePopDist\n",
    "output_figures = asisTobeBubblePopDist(D_results)\n",
    "for key in output_figures.keys():\n",
    "        output_figures[key].savefig(path_current+f\"\\\\{key}.png\") "
   ]
  }
 ],
 "metadata": {
  "kernelspec": {
   "display_name": "Python 3",
   "language": "python",
   "name": "python3"
  },
  "language_info": {
   "codemirror_mode": {
    "name": "ipython",
    "version": 3
   },
   "file_extension": ".py",
   "mimetype": "text/x-python",
   "name": "python",
   "nbconvert_exporter": "python",
   "pygments_lexer": "ipython3",
   "version": "3.6.10"
  }
 },
 "nbformat": 4,
 "nbformat_minor": 4
}
