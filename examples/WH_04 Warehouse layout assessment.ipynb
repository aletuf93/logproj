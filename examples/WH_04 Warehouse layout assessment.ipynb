{
 "cells": [
  {
   "cell_type": "markdown",
   "metadata": {},
   "source": [
    "# Warehouse Layout assessment\n",
    "*This notebook illustrates how to assess the layout and the travelled distances of a storage system.\n",
    "*Use the virtual environment logproj.yml to run this notebook.*\n",
    "***\n",
    "Alessandro Tufano 2020"
   ]
  },
  {
   "cell_type": "markdown",
   "metadata": {},
   "source": [
    "### Import packages"
   ]
  },
  {
   "cell_type": "code",
   "execution_count": 1,
   "metadata": {},
   "outputs": [],
   "source": [
    "# %% append functions path\n",
    "import sys; sys.path.insert(0, '..') #add the above level with the package\n",
    "\n",
    "import pandas as pd\n",
    "import numpy as np\n",
    "\n",
    "from IPython.display import display, HTML #display dataframe\n",
    "\n",
    "#import utilities\n",
    "from logproj.utilities import creaCartella"
   ]
  },
  {
   "cell_type": "markdown",
   "metadata": {},
   "source": [
    "### Set data fields"
   ]
  },
  {
   "cell_type": "code",
   "execution_count": 2,
   "metadata": {},
   "outputs": [],
   "source": [
    "string_casestudy = 'TOY_DATA'"
   ]
  },
  {
   "cell_type": "markdown",
   "metadata": {},
   "source": [
    "### Import data"
   ]
  },
  {
   "cell_type": "code",
   "execution_count": 3,
   "metadata": {},
   "outputs": [],
   "source": [
    "# %% import data\n",
    "from logproj.data_generator_warehouse import generateWarehouseData\n",
    "D_locations, D_SKUs, D_movements, D_inventory = generateWarehouseData()\n"
   ]
  },
  {
   "cell_type": "code",
   "execution_count": 4,
   "metadata": {},
   "outputs": [
    {
     "data": {
      "text/html": [
       "<table border=\"1\" class=\"dataframe\">\n",
       "  <thead>\n",
       "    <tr style=\"text-align: right;\">\n",
       "      <th></th>\n",
       "      <th>NODECODE</th>\n",
       "      <th>IDWH</th>\n",
       "      <th>WHSUBAREA</th>\n",
       "      <th>IDLOCATION</th>\n",
       "      <th>LOCCODEX</th>\n",
       "      <th>LOCCODEY</th>\n",
       "      <th>LOCCODEZ</th>\n",
       "      <th>RACK</th>\n",
       "      <th>BAY</th>\n",
       "      <th>LEVEL</th>\n",
       "    </tr>\n",
       "  </thead>\n",
       "  <tbody>\n",
       "    <tr>\n",
       "      <th>0</th>\n",
       "      <td>1</td>\n",
       "      <td>FAKE</td>\n",
       "      <td>AREA 1</td>\n",
       "      <td>1</td>\n",
       "      <td>0</td>\n",
       "      <td>0</td>\n",
       "      <td>0</td>\n",
       "      <td>0</td>\n",
       "      <td>0</td>\n",
       "      <td>0</td>\n",
       "    </tr>\n",
       "    <tr>\n",
       "      <th>0</th>\n",
       "      <td>1</td>\n",
       "      <td>FAKE</td>\n",
       "      <td>AREA 1</td>\n",
       "      <td>2</td>\n",
       "      <td>0</td>\n",
       "      <td>0</td>\n",
       "      <td>1200</td>\n",
       "      <td>0</td>\n",
       "      <td>0</td>\n",
       "      <td>1</td>\n",
       "    </tr>\n",
       "    <tr>\n",
       "      <th>0</th>\n",
       "      <td>1</td>\n",
       "      <td>LOGICAL_WH2</td>\n",
       "      <td>AREA 1</td>\n",
       "      <td>3</td>\n",
       "      <td>0</td>\n",
       "      <td>0</td>\n",
       "      <td>2400</td>\n",
       "      <td>0</td>\n",
       "      <td>0</td>\n",
       "      <td>2</td>\n",
       "    </tr>\n",
       "    <tr>\n",
       "      <th>0</th>\n",
       "      <td>1</td>\n",
       "      <td>LOGICAL_WH1</td>\n",
       "      <td>AREA 1</td>\n",
       "      <td>4</td>\n",
       "      <td>0</td>\n",
       "      <td>0</td>\n",
       "      <td>3600</td>\n",
       "      <td>0</td>\n",
       "      <td>0</td>\n",
       "      <td>3</td>\n",
       "    </tr>\n",
       "    <tr>\n",
       "      <th>0</th>\n",
       "      <td>1</td>\n",
       "      <td>LOGICAL_WH2</td>\n",
       "      <td>AREA 1</td>\n",
       "      <td>5</td>\n",
       "      <td>0</td>\n",
       "      <td>0</td>\n",
       "      <td>4800</td>\n",
       "      <td>0</td>\n",
       "      <td>0</td>\n",
       "      <td>4</td>\n",
       "    </tr>\n",
       "  </tbody>\n",
       "</table>"
      ],
      "text/plain": [
       "<IPython.core.display.HTML object>"
      ]
     },
     "metadata": {},
     "output_type": "display_data"
    }
   ],
   "source": [
    "#print locations dataframe\n",
    "display(HTML(D_locations.head().to_html()))"
   ]
  },
  {
   "cell_type": "code",
   "execution_count": 5,
   "metadata": {},
   "outputs": [
    {
     "data": {
      "text/html": [
       "<table border=\"1\" class=\"dataframe\">\n",
       "  <thead>\n",
       "    <tr style=\"text-align: right;\">\n",
       "      <th></th>\n",
       "      <th>ITEMCODE</th>\n",
       "      <th>DESCRIPTION</th>\n",
       "      <th>VOLUME</th>\n",
       "      <th>WEIGHT</th>\n",
       "    </tr>\n",
       "  </thead>\n",
       "  <tbody>\n",
       "    <tr>\n",
       "      <th>0</th>\n",
       "      <td>0</td>\n",
       "      <td>PRODOTTO_0</td>\n",
       "      <td>90.631099</td>\n",
       "      <td>7.969631</td>\n",
       "    </tr>\n",
       "    <tr>\n",
       "      <th>0</th>\n",
       "      <td>1</td>\n",
       "      <td>PRODOTTO_1</td>\n",
       "      <td>7.472343</td>\n",
       "      <td>6.935741</td>\n",
       "    </tr>\n",
       "    <tr>\n",
       "      <th>0</th>\n",
       "      <td>2</td>\n",
       "      <td>PRODOTTO_2</td>\n",
       "      <td>57.638601</td>\n",
       "      <td>4.734041</td>\n",
       "    </tr>\n",
       "    <tr>\n",
       "      <th>0</th>\n",
       "      <td>3</td>\n",
       "      <td>PRODOTTO_3</td>\n",
       "      <td>62.809277</td>\n",
       "      <td>5.720181</td>\n",
       "    </tr>\n",
       "    <tr>\n",
       "      <th>0</th>\n",
       "      <td>4</td>\n",
       "      <td>PRODOTTO_4</td>\n",
       "      <td>25.248338</td>\n",
       "      <td>5.491339</td>\n",
       "    </tr>\n",
       "  </tbody>\n",
       "</table>"
      ],
      "text/plain": [
       "<IPython.core.display.HTML object>"
      ]
     },
     "metadata": {},
     "output_type": "display_data"
    }
   ],
   "source": [
    "#print SKUs master file dataframe\n",
    "display(HTML(D_SKUs.head().to_html()))"
   ]
  },
  {
   "cell_type": "code",
   "execution_count": 6,
   "metadata": {},
   "outputs": [
    {
     "data": {
      "text/html": [
       "<table border=\"1\" class=\"dataframe\">\n",
       "  <thead>\n",
       "    <tr style=\"text-align: right;\">\n",
       "      <th></th>\n",
       "      <th>ITEMCODE</th>\n",
       "      <th>NODECODE</th>\n",
       "      <th>IDWH</th>\n",
       "      <th>WHSUBAREA</th>\n",
       "      <th>IDLOCATION</th>\n",
       "      <th>RACK</th>\n",
       "      <th>BAY</th>\n",
       "      <th>LEVEL</th>\n",
       "      <th>LOCCODEX</th>\n",
       "      <th>LOCCODEY</th>\n",
       "      <th>LOCCODEZ</th>\n",
       "      <th>ORDERCODE</th>\n",
       "      <th>PICKINGLIST</th>\n",
       "      <th>QUANTITY</th>\n",
       "      <th>VOLUME</th>\n",
       "      <th>WEIGHT</th>\n",
       "      <th>TIMESTAMP_IN</th>\n",
       "      <th>INOUT</th>\n",
       "      <th>ORDERTYPE</th>\n",
       "    </tr>\n",
       "  </thead>\n",
       "  <tbody>\n",
       "    <tr>\n",
       "      <th>0</th>\n",
       "      <td>20</td>\n",
       "      <td>1</td>\n",
       "      <td>LOGICAL_WH1</td>\n",
       "      <td>AREA 1</td>\n",
       "      <td>749</td>\n",
       "      <td>2</td>\n",
       "      <td>17</td>\n",
       "      <td>3</td>\n",
       "      <td>8000</td>\n",
       "      <td>13600</td>\n",
       "      <td>3600</td>\n",
       "      <td>472</td>\n",
       "      <td>472</td>\n",
       "      <td>1.079439</td>\n",
       "      <td>70.900823</td>\n",
       "      <td>4.233972</td>\n",
       "      <td>2020-01-02 02:49:31.384898</td>\n",
       "      <td>-</td>\n",
       "      <td>OTHER</td>\n",
       "    </tr>\n",
       "    <tr>\n",
       "      <th>0</th>\n",
       "      <td>53</td>\n",
       "      <td>1</td>\n",
       "      <td>LOGICAL_WH1</td>\n",
       "      <td>AREA 1</td>\n",
       "      <td>621</td>\n",
       "      <td>1</td>\n",
       "      <td>58</td>\n",
       "      <td>0</td>\n",
       "      <td>4000</td>\n",
       "      <td>46400</td>\n",
       "      <td>0</td>\n",
       "      <td>589</td>\n",
       "      <td>589</td>\n",
       "      <td>7.297334</td>\n",
       "      <td>504.394571</td>\n",
       "      <td>33.122522</td>\n",
       "      <td>2020-01-02 03:18:57.463496</td>\n",
       "      <td>-</td>\n",
       "      <td>PICKING</td>\n",
       "    </tr>\n",
       "    <tr>\n",
       "      <th>0</th>\n",
       "      <td>26</td>\n",
       "      <td>1</td>\n",
       "      <td>FAKE</td>\n",
       "      <td>AREA 1</td>\n",
       "      <td>773</td>\n",
       "      <td>2</td>\n",
       "      <td>22</td>\n",
       "      <td>2</td>\n",
       "      <td>8000</td>\n",
       "      <td>17600</td>\n",
       "      <td>2400</td>\n",
       "      <td>488</td>\n",
       "      <td>488</td>\n",
       "      <td>3.786764</td>\n",
       "      <td>129.918470</td>\n",
       "      <td>28.621561</td>\n",
       "      <td>2020-01-02 04:04:03.113139</td>\n",
       "      <td>-</td>\n",
       "      <td>OTHER</td>\n",
       "    </tr>\n",
       "    <tr>\n",
       "      <th>0</th>\n",
       "      <td>69</td>\n",
       "      <td>1</td>\n",
       "      <td>LOGICAL_WH1</td>\n",
       "      <td>AREA 1</td>\n",
       "      <td>168</td>\n",
       "      <td>0</td>\n",
       "      <td>33</td>\n",
       "      <td>2</td>\n",
       "      <td>0</td>\n",
       "      <td>26400</td>\n",
       "      <td>2400</td>\n",
       "      <td>116</td>\n",
       "      <td>116</td>\n",
       "      <td>6.444874</td>\n",
       "      <td>231.502198</td>\n",
       "      <td>9.787411</td>\n",
       "      <td>2020-01-02 06:17:41.816675</td>\n",
       "      <td>-</td>\n",
       "      <td>OTHER</td>\n",
       "    </tr>\n",
       "    <tr>\n",
       "      <th>0</th>\n",
       "      <td>50</td>\n",
       "      <td>1</td>\n",
       "      <td>FAKE</td>\n",
       "      <td>AREA 1</td>\n",
       "      <td>1420</td>\n",
       "      <td>4</td>\n",
       "      <td>19</td>\n",
       "      <td>4</td>\n",
       "      <td>16000</td>\n",
       "      <td>15200</td>\n",
       "      <td>4800</td>\n",
       "      <td>238</td>\n",
       "      <td>238</td>\n",
       "      <td>8.000281</td>\n",
       "      <td>704.718429</td>\n",
       "      <td>42.360174</td>\n",
       "      <td>2020-01-02 06:40:51.022365</td>\n",
       "      <td>+</td>\n",
       "      <td>OTHER</td>\n",
       "    </tr>\n",
       "  </tbody>\n",
       "</table>"
      ],
      "text/plain": [
       "<IPython.core.display.HTML object>"
      ]
     },
     "metadata": {},
     "output_type": "display_data"
    }
   ],
   "source": [
    "#print SKUs master file dataframe\n",
    "display(HTML(D_movements.head().to_html()))"
   ]
  },
  {
   "cell_type": "code",
   "execution_count": 7,
   "metadata": {},
   "outputs": [
    {
     "data": {
      "text/html": [
       "<table border=\"1\" class=\"dataframe\">\n",
       "  <thead>\n",
       "    <tr style=\"text-align: right;\">\n",
       "      <th></th>\n",
       "      <th>NODECODE</th>\n",
       "      <th>IDWH</th>\n",
       "      <th>ITEMCODE</th>\n",
       "      <th>IDLOCATION</th>\n",
       "      <th>QUANTITY</th>\n",
       "      <th>TIMESTAMP</th>\n",
       "    </tr>\n",
       "  </thead>\n",
       "  <tbody>\n",
       "    <tr>\n",
       "      <th>0</th>\n",
       "      <td>1</td>\n",
       "      <td>LOGICAL_WH2</td>\n",
       "      <td>0</td>\n",
       "      <td>183</td>\n",
       "      <td>8.944854</td>\n",
       "      <td>2020-01-02</td>\n",
       "    </tr>\n",
       "    <tr>\n",
       "      <th>0</th>\n",
       "      <td>1</td>\n",
       "      <td>LOGICAL_WH2</td>\n",
       "      <td>1</td>\n",
       "      <td>1075</td>\n",
       "      <td>0.660470</td>\n",
       "      <td>2020-01-02</td>\n",
       "    </tr>\n",
       "    <tr>\n",
       "      <th>0</th>\n",
       "      <td>1</td>\n",
       "      <td>FAKE</td>\n",
       "      <td>2</td>\n",
       "      <td>1280</td>\n",
       "      <td>40.432774</td>\n",
       "      <td>2020-01-02</td>\n",
       "    </tr>\n",
       "    <tr>\n",
       "      <th>0</th>\n",
       "      <td>1</td>\n",
       "      <td>LOGICAL_WH1</td>\n",
       "      <td>3</td>\n",
       "      <td>354</td>\n",
       "      <td>5.326668</td>\n",
       "      <td>2020-01-02</td>\n",
       "    </tr>\n",
       "    <tr>\n",
       "      <th>0</th>\n",
       "      <td>1</td>\n",
       "      <td>LOGICAL_WH1</td>\n",
       "      <td>4</td>\n",
       "      <td>304</td>\n",
       "      <td>9.728037</td>\n",
       "      <td>2020-01-02</td>\n",
       "    </tr>\n",
       "  </tbody>\n",
       "</table>"
      ],
      "text/plain": [
       "<IPython.core.display.HTML object>"
      ]
     },
     "metadata": {},
     "output_type": "display_data"
    }
   ],
   "source": [
    "#print SKUs master file dataframe\n",
    "display(HTML(D_inventory.head().to_html()))"
   ]
  },
  {
   "cell_type": "markdown",
   "metadata": {},
   "source": [
    "### Create folder hierarchy"
   ]
  },
  {
   "cell_type": "code",
   "execution_count": 8,
   "metadata": {},
   "outputs": [
    {
     "name": "stdout",
     "output_type": "stream",
     "text": [
      "Cartella TOY_DATA_results già esistente\n",
      "Cartella P8_warehouseAssessment già esistente\n"
     ]
    }
   ],
   "source": [
    "# %% create folder hierarchy\n",
    "pathResults = 'C:\\\\Users\\\\aletu\\\\desktop'\n",
    "_, root_path = creaCartella(pathResults,f\"{string_casestudy}_results\")\n",
    "_, path_results = creaCartella(root_path,f\"P8_warehouseAssessment\")"
   ]
  },
  {
   "cell_type": "markdown",
   "metadata": {},
   "source": [
    "### Preprocess data to define the warehouse graph"
   ]
  },
  {
   "cell_type": "code",
   "execution_count": 9,
   "metadata": {},
   "outputs": [
    {
     "name": "stdout",
     "output_type": "stream",
     "text": [
      "=======Input point unmapped. I is set to x:8000.0,y:-1\n",
      "=======Output point unmapped. O is set to x:8000.0,y:-1\n",
      "=====0 x coordinates have been randomly interpolated\n"
     ]
    },
    {
     "name": "stderr",
     "output_type": "stream",
     "text": [
      "C:\\Users\\aletu\\.conda\\envs\\test\\lib\\site-packages\\pandas\\core\\indexing.py:671: SettingWithCopyWarning: \n",
      "A value is trying to be set on a copy of a slice from a DataFrame\n",
      "\n",
      "See the caveats in the documentation: https://pandas.pydata.org/pandas-docs/stable/user_guide/indexing.html#returning-a-view-versus-a-copy\n",
      "  self._setitem_with_indexer(indexer, value)\n",
      "C:\\Users\\aletu\\.conda\\envs\\test\\lib\\site-packages\\pandas\\core\\generic.py:6245: SettingWithCopyWarning: \n",
      "A value is trying to be set on a copy of a slice from a DataFrame\n",
      "\n",
      "See the caveats in the documentation: https://pandas.pydata.org/pandas-docs/stable/user_guide/indexing.html#returning-a-view-versus-a-copy\n",
      "  self._update_inplace(new_data)\n",
      "C:\\Users\\aletu\\.conda\\envs\\test\\lib\\site-packages\\pandas\\core\\generic.py:7023: SettingWithCopyWarning: \n",
      "A value is trying to be set on a copy of a slice from a DataFrame\n",
      "\n",
      "See the caveats in the documentation: https://pandas.pydata.org/pandas-docs/stable/user_guide/indexing.html#returning-a-view-versus-a-copy\n",
      "  self._update_inplace(new_data)\n"
     ]
    },
    {
     "name": "stdout",
     "output_type": "stream",
     "text": [
      "=====0 y coordinates have been randomly interpolated\n"
     ]
    }
   ],
   "source": [
    "# %% LAYOUT ANALYSIS\n",
    "from logproj.P6_placementProblem.warehouse_graph_definition import prepareCoordinates\n",
    "import numpy as np\n",
    "_, path_current = creaCartella(path_results,f\"Layout\")\n",
    "\n",
    "\n",
    "D_layout, D_IO, D_fake,  allLocs = prepareCoordinates(D_locations)\n",
    "D_layout['aislecodex'] =np.nan \n",
    "\n",
    "\n",
    "# %% PREPARE DATA FOR GRAPH DEFINITION\n",
    "from logproj.P6_placementProblem.warehouse_graph_definition import defineWHgraph\n",
    "G, D_res, D_layout = defineWHgraph(D_layout=D_layout, \n",
    "              D_IO=D_IO, \n",
    "              D_fake=D_fake,\n",
    "              allLocs = len(D_locations), \n",
    "              draw=False, \n",
    "              arcLabel=False, \n",
    "              nodeLabel=False, \n",
    "              trafficGraph=True)"
   ]
  },
  {
   "cell_type": "markdown",
   "metadata": {},
   "source": [
    "### Define tha warehouse graph $G(V,A)$"
   ]
  },
  {
   "cell_type": "code",
   "execution_count": 10,
   "metadata": {},
   "outputs": [
    {
     "data": {
      "image/png": "[encoded data removed]",
      "text/plain": [
       "<Figure size 432x288 with 1 Axes>"
      ]
     },
     "metadata": {},
     "output_type": "display_data"
    }
   ],
   "source": [
    "# %% DEFINE THE GRAPH\n",
    "from  logproj.ml_graphs import printGraph\n",
    "# print the graph\n",
    "distance=weight='length'\n",
    "title='Warehouse graph'\n",
    "printNodecoords=False\n",
    "\n",
    "fig1 = printGraph(G, \n",
    "           distance, \n",
    "           weight, \n",
    "           title, \n",
    "           arcLabel=False, \n",
    "           nodeLabel=False, \n",
    "           trafficGraph=False,\n",
    "           printNodecoords=True,\n",
    "           D_layout=D_layout)\n",
    "fig1.savefig(path_current+\"//layout_graph.png\") "
   ]
  },
  {
   "cell_type": "markdown",
   "metadata": {},
   "source": [
    "### Assess the traffic within the warehouse"
   ]
  },
  {
   "cell_type": "code",
   "execution_count": 11,
   "metadata": {},
   "outputs": [
    {
     "data": {
      "image/png": "[encoded data removed]",
      "text/plain": [
       "<Figure size 432x288 with 1 Axes>"
      ]
     },
     "metadata": {},
     "output_type": "display_data"
    }
   ],
   "source": [
    "# %% DEFINE TRAFFIC CHART\n",
    "fig2 = printGraph(G, \n",
    "           distance, \n",
    "           weight, \n",
    "           title, \n",
    "           arcLabel=False, \n",
    "           nodeLabel=False, \n",
    "           trafficGraph=True,\n",
    "           printNodecoords=False,\n",
    "           D_layout=D_layout)\n",
    "fig2.savefig(path_current+\"//traffic_graph.png\") "
   ]
  },
  {
   "cell_type": "markdown",
   "metadata": {},
   "source": [
    "### Exchange storage locations to reduce the travelled distances"
   ]
  },
  {
   "cell_type": "code",
   "execution_count": 14,
   "metadata": {},
   "outputs": [
    {
     "name": "stderr",
     "output_type": "stream",
     "text": [
      "C:\\Users\\aletu\\.conda\\envs\\test\\lib\\site-packages\\pandas\\core\\indexing.py:671: SettingWithCopyWarning: \n",
      "A value is trying to be set on a copy of a slice from a DataFrame\n",
      "\n",
      "See the caveats in the documentation: https://pandas.pydata.org/pandas-docs/stable/user_guide/indexing.html#returning-a-view-versus-a-copy\n",
      "  self._setitem_with_indexer(indexer, value)\n"
     ]
    },
    {
     "name": "stdout",
     "output_type": "stream",
     "text": [
      "=======================================================\n",
      "The expected saving is: 16.1%\n"
     ]
    },
    {
     "data": {
      "image/png": "[encoded data removed]",
      "text/plain": [
       "<Figure size 432x288 with 2 Axes>"
      ]
     },
     "metadata": {
      "needs_background": "light"
     },
     "output_type": "display_data"
    }
   ],
   "source": [
    "# Exchange te storage locations to place the higher popularities close to the I/O point\n",
    "from logproj.P6_placementProblem.warehouse_graph_definition import calculateExchangeSaving\n",
    "D_results = calculateExchangeSaving(D_movements, D_res, G, useSameLevel=False)\n"
   ]
  },
  {
   "cell_type": "code",
   "execution_count": 16,
   "metadata": {},
   "outputs": [
    {
     "data": {
      "text/html": [
       "<table border=\"1\" class=\"dataframe\">\n",
       "  <thead>\n",
       "    <tr style=\"text-align: right;\">\n",
       "      <th></th>\n",
       "      <th>popularity</th>\n",
       "      <th>idNode</th>\n",
       "      <th>distance</th>\n",
       "      <th>new_idNode</th>\n",
       "      <th>new_distance</th>\n",
       "      <th>costASIS</th>\n",
       "      <th>costTOBE</th>\n",
       "      <th>loccodex</th>\n",
       "      <th>loccodey</th>\n",
       "      <th>idlocationASIS</th>\n",
       "      <th>idlocationTOBE</th>\n",
       "      <th>saving_rank</th>\n",
       "      <th>saving_exchange</th>\n",
       "      <th>loccodexTOBE</th>\n",
       "      <th>loccodeyTOBE</th>\n",
       "    </tr>\n",
       "  </thead>\n",
       "  <tbody>\n",
       "    <tr>\n",
       "      <th>0</th>\n",
       "      <td>4.0</td>\n",
       "      <td>56</td>\n",
       "      <td>109602</td>\n",
       "      <td>66</td>\n",
       "      <td>4002</td>\n",
       "      <td>438408</td>\n",
       "      <td>16008</td>\n",
       "      <td>2000.0</td>\n",
       "      <td>44800.0</td>\n",
       "      <td>612.0</td>\n",
       "      <td>664.0</td>\n",
       "      <td>0.963486</td>\n",
       "      <td>-0.000426424</td>\n",
       "      <td>10000.0</td>\n",
       "      <td>0</td>\n",
       "    </tr>\n",
       "    <tr>\n",
       "      <th>1</th>\n",
       "      <td>3.0</td>\n",
       "      <td>95</td>\n",
       "      <td>50402</td>\n",
       "      <td>66</td>\n",
       "      <td>4002</td>\n",
       "      <td>151206</td>\n",
       "      <td>12006</td>\n",
       "      <td>10000.0</td>\n",
       "      <td>23200.0</td>\n",
       "      <td>807.0</td>\n",
       "      <td>665.0</td>\n",
       "      <td>0.920598</td>\n",
       "      <td>-0.000407442</td>\n",
       "      <td>10000.0</td>\n",
       "      <td>0</td>\n",
       "    </tr>\n",
       "    <tr>\n",
       "      <th>2</th>\n",
       "      <td>3.0</td>\n",
       "      <td>84</td>\n",
       "      <td>32802</td>\n",
       "      <td>66</td>\n",
       "      <td>4002</td>\n",
       "      <td>98406</td>\n",
       "      <td>12006</td>\n",
       "      <td>10000.0</td>\n",
       "      <td>14400.0</td>\n",
       "      <td>754.0</td>\n",
       "      <td>995.0</td>\n",
       "      <td>0.877995</td>\n",
       "      <td>-0.000388587</td>\n",
       "      <td>10000.0</td>\n",
       "      <td>0</td>\n",
       "    </tr>\n",
       "    <tr>\n",
       "      <th>3</th>\n",
       "      <td>3.0</td>\n",
       "      <td>179</td>\n",
       "      <td>91202</td>\n",
       "      <td>66</td>\n",
       "      <td>4002</td>\n",
       "      <td>273606</td>\n",
       "      <td>12006</td>\n",
       "      <td>16000.0</td>\n",
       "      <td>37600.0</td>\n",
       "      <td>1558.0</td>\n",
       "      <td>994.0</td>\n",
       "      <td>0.956119</td>\n",
       "      <td>-0.000423163</td>\n",
       "      <td>10000.0</td>\n",
       "      <td>0</td>\n",
       "    </tr>\n",
       "    <tr>\n",
       "      <th>4</th>\n",
       "      <td>3.0</td>\n",
       "      <td>27</td>\n",
       "      <td>63202</td>\n",
       "      <td>67</td>\n",
       "      <td>5602</td>\n",
       "      <td>189606</td>\n",
       "      <td>16806</td>\n",
       "      <td>2000.0</td>\n",
       "      <td>21600.0</td>\n",
       "      <td>137.0</td>\n",
       "      <td>668.0</td>\n",
       "      <td>0.911364</td>\n",
       "      <td>-0.000403355</td>\n",
       "      <td>10000.0</td>\n",
       "      <td>800</td>\n",
       "    </tr>\n",
       "  </tbody>\n",
       "</table>"
      ],
      "text/plain": [
       "<IPython.core.display.HTML object>"
      ]
     },
     "metadata": {},
     "output_type": "display_data"
    }
   ],
   "source": [
    "#print and save the locations exchange table\n",
    "display(HTML(D_results.head().to_html()))\n",
    "D_results.to_excel(path_current+\"\\\\exchange saving table.xlsx\")"
   ]
  },
  {
   "cell_type": "code",
   "execution_count": 17,
   "metadata": {},
   "outputs": [
    {
     "data": {
      "image/png": "[encoded data removed]",
      "text/plain": [
       "<Figure size 432x288 with 1 Axes>"
      ]
     },
     "metadata": {
      "needs_background": "light"
     },
     "output_type": "display_data"
    },
    {
     "data": {
      "image/png": "[encoded data removed]",
      "text/plain": [
       "<Figure size 432x288 with 1 Axes>"
      ]
     },
     "metadata": {
      "needs_background": "light"
     },
     "output_type": "display_data"
    }
   ],
   "source": [
    "# Compare the as-is scenario, and the exchanged one using a 2-d space productivity plot\n",
    "from logproj.P6_placementProblem.warehouse_graph_definition import returnbubbleGraphAsIsToBe\n",
    "output_figures = returnbubbleGraphAsIsToBe(D_results)\n",
    "for key in output_figures.keys():\n",
    "        output_figures[key].savefig(path_current+f\"\\\\{key}.png\") "
   ]
  },
  {
   "cell_type": "code",
   "execution_count": 18,
   "metadata": {},
   "outputs": [
    {
     "data": {
      "image/png": "[encoded data removed]",
      "text/plain": [
       "<Figure size 432x288 with 1 Axes>"
      ]
     },
     "metadata": {
      "needs_background": "light"
     },
     "output_type": "display_data"
    },
    {
     "data": {
      "image/png": "[encoded data removed]",
      "text/plain": [
       "<Figure size 432x288 with 1 Axes>"
      ]
     },
     "metadata": {
      "needs_background": "light"
     },
     "output_type": "display_data"
    }
   ],
   "source": [
    "# Compare the as-is scenario, and the exchanged one using a popularity - distance chart\n",
    "from logproj.P6_placementProblem.warehouse_graph_definition import asisTobeBubblePopDist\n",
    "output_figures = asisTobeBubblePopDist(D_results)\n",
    "for key in output_figures.keys():\n",
    "        output_figures[key].savefig(path_current+f\"\\\\{key}.png\") "
   ]
  }
 ],
 "metadata": {
  "kernelspec": {
   "display_name": "Python 3",
   "language": "python",
   "name": "python3"
  },
  "language_info": {
   "codemirror_mode": {
    "name": "ipython",
    "version": 3
   },
   "file_extension": ".py",
   "mimetype": "text/x-python",
   "name": "python",
   "nbconvert_exporter": "python",
   "pygments_lexer": "ipython3",
   "version": "3.6.10"
  }
 },
 "nbformat": 4,
 "nbformat_minor": 4
}
