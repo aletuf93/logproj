{
 "cells": [
  {
   "cell_type": "markdown",
   "metadata": {},
   "source": [
    "# Supply chain physics\n",
    "*This notebook illustrates methods to investigate the physics of a supply chain*\n",
    "***\n",
    "Alessandro Tufano 2020"
   ]
  },
  {
   "cell_type": "markdown",
   "metadata": {},
   "source": [
    "### Import packages"
   ]
  },
  {
   "cell_type": "code",
   "execution_count": 1,
   "metadata": {},
   "outputs": [],
   "source": [
    "import numpy as np\n",
    "import matplotlib.pyplot as plt\n"
   ]
  },
  {
   "cell_type": "markdown",
   "metadata": {},
   "source": [
    "### Generate empirical demand and production  \n",
    "We define an yearly sample of production quantity $x$, and demand quantity $d$"
   ]
  },
  {
   "cell_type": "code",
   "execution_count": 2,
   "metadata": {},
   "outputs": [
    {
     "ename": "NameError",
     "evalue": "name 'brownian' is not defined",
     "output_type": "error",
     "traceback": [
      "\u001b[1;31m---------------------------------------------------------------------------\u001b[0m",
      "\u001b[1;31mNameError\u001b[0m                                 Traceback (most recent call last)",
      "\u001b[1;32m<ipython-input-2-b88bf6108731>\u001b[0m in \u001b[0;36m<module>\u001b[1;34m\u001b[0m\n\u001b[0;32m      9\u001b[0m \u001b[0mx\u001b[0m \u001b[1;33m=\u001b[0m \u001b[0mnp\u001b[0m\u001b[1;33m.\u001b[0m\u001b[0mrandom\u001b[0m\u001b[1;33m.\u001b[0m\u001b[0mnormal\u001b[0m\u001b[1;33m(\u001b[0m\u001b[0mmu_production\u001b[0m\u001b[1;33m,\u001b[0m\u001b[0msigma_production\u001b[0m\u001b[1;33m,\u001b[0m\u001b[0mnumber_of_sample\u001b[0m\u001b[1;33m)\u001b[0m\u001b[1;33m\u001b[0m\u001b[1;33m\u001b[0m\u001b[0m\n\u001b[0;32m     10\u001b[0m \u001b[1;31m#d = np.random.normal(mu_demand,sigma_demand,number_of_sample)\u001b[0m\u001b[1;33m\u001b[0m\u001b[1;33m\u001b[0m\u001b[1;33m\u001b[0m\u001b[0m\n\u001b[1;32m---> 11\u001b[1;33m \u001b[0md\u001b[0m \u001b[1;33m=\u001b[0m \u001b[0mbrownian\u001b[0m\u001b[1;33m(\u001b[0m\u001b[0mx0\u001b[0m\u001b[1;33m=\u001b[0m\u001b[0mmu_demand\u001b[0m\u001b[1;33m,\u001b[0m \u001b[0mn\u001b[0m\u001b[1;33m=\u001b[0m\u001b[1;36m365\u001b[0m\u001b[1;33m,\u001b[0m \u001b[0mdt\u001b[0m\u001b[1;33m=\u001b[0m\u001b[1;36m1\u001b[0m\u001b[1;33m,\u001b[0m \u001b[0mdelta\u001b[0m\u001b[1;33m=\u001b[0m\u001b[0msigma_demand\u001b[0m\u001b[1;33m,\u001b[0m \u001b[0mout\u001b[0m\u001b[1;33m=\u001b[0m\u001b[1;32mNone\u001b[0m\u001b[1;33m)\u001b[0m \u001b[1;31m#demand stochastic process\u001b[0m\u001b[1;33m\u001b[0m\u001b[1;33m\u001b[0m\u001b[0m\n\u001b[0m\u001b[0;32m     12\u001b[0m \u001b[1;31m# represent demand\u001b[0m\u001b[1;33m\u001b[0m\u001b[1;33m\u001b[0m\u001b[1;33m\u001b[0m\u001b[0m\n\u001b[0;32m     13\u001b[0m \u001b[0mplt\u001b[0m\u001b[1;33m.\u001b[0m\u001b[0mhist\u001b[0m\u001b[1;33m(\u001b[0m\u001b[0md\u001b[0m\u001b[1;33m,\u001b[0m\u001b[0mcolor\u001b[0m\u001b[1;33m=\u001b[0m\u001b[1;34m'orange'\u001b[0m\u001b[1;33m)\u001b[0m\u001b[1;33m\u001b[0m\u001b[1;33m\u001b[0m\u001b[0m\n",
      "\u001b[1;31mNameError\u001b[0m: name 'brownian' is not defined"
     ]
    }
   ],
   "source": [
    "number_of_sample = 365 #days\n",
    "mu_production = 105 #units per day\n",
    "sigma_production = 1 # units per day\n",
    "\n",
    "mu_demand = 100 #units per day\n",
    "sigma_demand = 0.3 # units per day\n",
    "\n",
    "\n",
    "x = np.random.normal(mu_production,sigma_production,number_of_sample) \n",
    "#d = np.random.normal(mu_demand,sigma_demand,number_of_sample) \n",
    "d = brownian(x0=mu_demand, n=365, dt=1, delta=sigma_demand, out=None) #demand stochastic process\n",
    "# represent demand\n",
    "plt.hist(d,color='orange')\n",
    "plt.hist(x,color='skyblue')\n",
    "\n",
    "plt.title('Production and Demand histogram')\n",
    "plt.xlabel('Daily rate')\n",
    "plt.ylabel('Frequency')\n",
    "plt.legend(['Demand','Production'])\n",
    "\n",
    "x = np.array(x)\n",
    "d = np.array(d)\n",
    "\n",
    "plt.figure()\n",
    "plt.plot(d)\n",
    "plt.title(\"Demand curve $d$\")\n",
    "plt.xlabel('Time in days')\n",
    "plt.ylabel('Numbar of parts')\n",
    "\n",
    "plt.figure()\n",
    "plt.plot(x)\n",
    "plt.title(\"Production curve $x$\")\n",
    "plt.xlabel('Time in days')\n",
    "plt.ylabel('Number of parts')"
   ]
  },
  {
   "cell_type": "markdown",
   "metadata": {},
   "source": [
    "### Define the inventory function $q$  \n",
    "The empirical inventory function $q$ is defined as the differende between production and demand, plus the residual inventory.  \n",
    "$q_t = q_{t-1} + x_t - d_t$"
   ]
  },
  {
   "cell_type": "code",
   "execution_count": null,
   "metadata": {},
   "outputs": [],
   "source": [
    "q = [mu_production] #initial inventory with production mean value\n",
    "for i in range(0,len(d)):\n",
    "    inventory_value = q[i] + x[i] - d[i] \n",
    "    if inventory_value <0 : \n",
    "        inventory_value=0\n",
    "    q.append(inventory_value)\n",
    "    \n",
    "plt.plot(q)\n",
    "plt.xlabel('days')\n",
    "plt.ylabel('Inventory quantity $q$')\n",
    "plt.title('Inventory function $q$')\n",
    "\n",
    "q = np.array(q)"
   ]
  },
  {
   "cell_type": "markdown",
   "metadata": {},
   "source": [
    "### Define pull and push forces (the momentum $p=\\dot{q}$)  \n",
    "By using continuous notation we obtain the derivative $\\dot{q}=p=x-d$. The derivative of the inventory represents the *momentum* of the supply chain, i.e. the speed a which the inventory values goes up (production), and down (demand). We use the term **productivity** to identify the momentum $p$. The forces changing the value of the productivity are called **movements** $\\dot{p}$."
   ]
  },
  {
   "cell_type": "code",
   "execution_count": null,
   "metadata": {},
   "outputs": [],
   "source": [
    "p1 = [q[i]-q[i-1] for i in range(1,len(q))]\n",
    "p2 = [x[i]-d[i] for i in range(1,len(d))]\n",
    "plt.plot(p1)\n",
    "plt.plot(p2)\n",
    "plt.xlabel('days')\n",
    "plt.ylabel('Value')\n",
    "plt.title('Momentum function $p$')\n",
    "\n",
    "p=np.array(p)"
   ]
  },
  {
   "cell_type": "markdown",
   "metadata": {},
   "source": [
    "### Define a linear potential $V(q)$  \n",
    "we introduce a linear potential to describe the amount of *energy* related with a given quantity of the inventory $q$."
   ]
  },
  {
   "cell_type": "code",
   "execution_count": null,
   "metadata": {},
   "outputs": [],
   "source": [
    "F0 = 0.1\n",
    "\n",
    "#eta = 1.2\n",
    "#lam = mu_demand\n",
    "#F0=eta*lam\n",
    "\n",
    "print(F0)\n",
    "\n",
    "V_q = -F0*q\n",
    "V_q = V_q[0:-1]"
   ]
  },
  {
   "cell_type": "markdown",
   "metadata": {},
   "source": [
    "### Define the energy conservation function using the Lagrangianm and the Hamiltonian  \n",
    "We use the Lagrangian to describe the energy conservation equation.\n",
    "$L(q,\\dot{q}) = H = \\frac{1}{2}\\dot{q} - V(q)$"
   ]
  },
  {
   "cell_type": "code",
   "execution_count": null,
   "metadata": {},
   "outputs": [],
   "source": [
    "H = (p**2)/2 - F0*q[0:-1]\n",
    "\n",
    "plt.plot(H)\n",
    "plt.xlabel('days')\n",
    "plt.ylabel('value')\n",
    "plt.title('Function $H$')"
   ]
  },
  {
   "cell_type": "markdown",
   "metadata": {},
   "source": [
    "### Obtain the inventory $q$, given $H$"
   ]
  },
  {
   "cell_type": "code",
   "execution_count": null,
   "metadata": {},
   "outputs": [],
   "source": [
    "S_q = [H[i-1] + H[i] for i in range(1,len(H))]\n",
    "plt.plot(S_q)\n",
    "plt.xlabel('days')\n",
    "plt.ylabel('value')\n",
    "plt.title('Function $S[q]$')\n",
    "\n",
    "\n",
    "#compare with q\n",
    "plt.plot(q)\n",
    "plt.xlabel('days')\n",
    "plt.ylabel('Inventory quantity $q$')\n",
    "plt.title('Inventory function $q$')\n",
    "\n",
    "plt.legend(['Model inventory','Empirical inventory'])"
   ]
  },
  {
   "cell_type": "markdown",
   "metadata": {},
   "source": [
    "# Inventory control"
   ]
  },
  {
   "cell_type": "markdown",
   "metadata": {},
   "source": [
    "### Define the Brownian process"
   ]
  },
  {
   "cell_type": "code",
   "execution_count": null,
   "metadata": {},
   "outputs": [],
   "source": [
    "from math import sqrt\n",
    "from scipy.stats import norm\n",
    "import numpy as np\n",
    "\n",
    "\n",
    "def brownian(x0, n, dt, delta, out=None):\n",
    "    \"\"\"\n",
    "    Generate an instance of Brownian motion (i.e. the Wiener process):\n",
    "\n",
    "        X(t) = X(0) + N(0, delta**2 * t; 0, t)\n",
    "\n",
    "    where N(a,b; t0, t1) is a normally distributed random variable with mean a and\n",
    "    variance b.  The parameters t0 and t1 make explicit the statistical\n",
    "    independence of N on different time intervals; that is, if [t0, t1) and\n",
    "    [t2, t3) are disjoint intervals, then N(a, b; t0, t1) and N(a, b; t2, t3)\n",
    "    are independent.\n",
    "    \n",
    "    Written as an iteration scheme,\n",
    "\n",
    "        X(t + dt) = X(t) + N(0, delta**2 * dt; t, t+dt)\n",
    "\n",
    "\n",
    "    If `x0` is an array (or array-like), each value in `x0` is treated as\n",
    "    an initial condition, and the value returned is a numpy array with one\n",
    "    more dimension than `x0`.\n",
    "\n",
    "    Arguments\n",
    "    ---------\n",
    "    x0 : float or numpy array (or something that can be converted to a numpy array\n",
    "         using numpy.asarray(x0)).\n",
    "        The initial condition(s) (i.e. position(s)) of the Brownian motion.\n",
    "    n : int\n",
    "        The number of steps to take.\n",
    "    dt : float\n",
    "        The time step.\n",
    "    delta : float\n",
    "        delta determines the \"speed\" of the Brownian motion.  The random variable\n",
    "        of the position at time t, X(t), has a normal distribution whose mean is\n",
    "        the position at time t=0 and whose variance is delta**2*t.\n",
    "    out : numpy array or None\n",
    "        If `out` is not None, it specifies the array in which to put the\n",
    "        result.  If `out` is None, a new numpy array is created and returned.\n",
    "\n",
    "    Returns\n",
    "    -------\n",
    "    A numpy array of floats with shape `x0.shape + (n,)`.\n",
    "    \n",
    "    Note that the initial value `x0` is not included in the returned array.\n",
    "    \"\"\"\n",
    "\n",
    "    x0 = np.asarray(x0)\n",
    "\n",
    "    # For each element of x0, generate a sample of n numbers from a\n",
    "    # normal distribution.\n",
    "    r = norm.rvs(size=x0.shape + (n,), scale=delta*sqrt(dt))\n",
    "\n",
    "    # If `out` was not given, create an output array.\n",
    "    if out is None:\n",
    "        out = np.empty(r.shape)\n",
    "\n",
    "    # This computes the Brownian motion by forming the cumulative sum of\n",
    "    # the random samples. \n",
    "    np.cumsum(r, axis=-1, out=out)\n",
    "\n",
    "    # Add the initial condition.\n",
    "    out += np.expand_dims(x0, axis=-1)\n",
    "\n",
    "    return out"
   ]
  },
  {
   "cell_type": "markdown",
   "metadata": {},
   "source": [
    "### Define the supply chain control model"
   ]
  },
  {
   "cell_type": "code",
   "execution_count": null,
   "metadata": {},
   "outputs": [],
   "source": [
    "# supply chain control model\n",
    "def supply_chain_control_model(p,beta,eta,F0):\n",
    "    #p is the productivity function defined as the defivative of q\n",
    "    #beta is the diffusion coefficient, i.e. the delta of the Brownian process, the std of the demand can be used\n",
    "    #eta represents the flexibility of the productio. It is the number of days to reach a target inventory\n",
    "    #F0 is the potential   \n",
    "    \n",
    "    Fr_t = brownian(x0=F0, n=365, dt=1, delta=beta, out=None) #demand stochastic process\n",
    "    p_dot = F0 -eta*p + Fr_t\n",
    "    return p_dot, Fr_t"
   ]
  },
  {
   "cell_type": "code",
   "execution_count": null,
   "metadata": {
    "scrolled": true
   },
   "outputs": [],
   "source": [
    "#identify the sensitivity of the inventory control with different values of eta\n",
    "for eta in [0.1,1,2,7,30]:\n",
    "    p_dot, Fr_t = supply_chain_control_model(p=p,beta = sigma_demand,eta=eta,F0=F0)\n",
    "    \n",
    "\n",
    "    plt.figure()\n",
    "    plt.plot(Fr_t)\n",
    "    plt.plot(p)\n",
    "    plt.plot(p_dot)\n",
    "    plt.title(f\"Inventory control with eta={eta}\")\n",
    "    plt.legend(['Demand','Productivity','Movements $\\dot{p}$'])"
   ]
  },
  {
   "cell_type": "code",
   "execution_count": null,
   "metadata": {},
   "outputs": [],
   "source": [
    "p_dot, Fr_t = supply_chain_control_model(p=p,beta = sigma_demand,eta=1,F0=0.9)\n",
    "p_model = [p_dot[i-1] + p_dot[i] for i in range(1,len(p_dot))]\n",
    "q_model = [p_model[i-1] + p_model[i] for i in range(1,len(p_model))]\n",
    "\n",
    "\n",
    "plt.plot(q_model)\n",
    "plt.plot(p_model)\n",
    "plt.legend(['$q$: inventory','$p$: productivity'])\n",
    "\n",
    "p_mean = np.mean(p_model)\n",
    "p_std = np.std(p_model)\n",
    "\n",
    "print(f\"Movements mean: {p_mean}, std: {p_std}\")\n",
    "\n",
    "q_mean = np.mean(q_model)\n",
    "q_std = np.std(q_model)\n",
    "\n",
    "print(f\"Inventory mean: {q_mean}, std: {q_std}\")"
   ]
  }
 ],
 "metadata": {
  "kernelspec": {
   "display_name": "Python 3",
   "language": "python",
   "name": "python3"
  },
  "language_info": {
   "codemirror_mode": {
    "name": "ipython",
    "version": 3
   },
   "file_extension": ".py",
   "mimetype": "text/x-python",
   "name": "python",
   "nbconvert_exporter": "python",
   "pygments_lexer": "ipython3",
   "version": "3.6.10"
  }
 },
 "nbformat": 4,
 "nbformat_minor": 4
}
